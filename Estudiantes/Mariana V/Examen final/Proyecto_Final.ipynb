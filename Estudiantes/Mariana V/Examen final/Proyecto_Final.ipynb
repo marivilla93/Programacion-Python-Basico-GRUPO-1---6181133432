{
  "cells": [
    {
      "cell_type": "markdown",
      "id": "a62202dd",
      "metadata": {
        "id": "a62202dd"
      },
      "source": [
        "# Estudio de emisiones de Dioxido de Carbono"
      ]
    },
    {
      "cell_type": "markdown",
      "id": "8026dfad",
      "metadata": {},
      "source": [
        "## Estudiante: Mariana Villalobos Vargas"
      ]
    },
    {
      "cell_type": "markdown",
      "id": "98d6cc2c",
      "metadata": {
        "id": "98d6cc2c"
      },
      "source": [
        "## Objetivo"
      ]
    },
    {
      "cell_type": "markdown",
      "id": "f6e5f5ed",
      "metadata": {
        "id": "f6e5f5ed"
      },
      "source": [
        "Cargar un archivo 'Carbon_Dioxide_Emission_Estimates.csv' responder las siguientes preguntas"
      ]
    },
    {
      "cell_type": "markdown",
      "id": "e21e6b1c",
      "metadata": {
        "id": "e21e6b1c"
      },
      "source": [
        "## Contexto\n"
      ]
    },
    {
      "cell_type": "markdown",
      "id": "c4c7df65",
      "metadata": {
        "id": "c4c7df65"
      },
      "source": [
        "Se tiene un set de datos contenido en un archivo del tipo csv.\n",
        "\n",
        "El archivo es 'Carbon_Dioxide_Emission_Estimates.csv'.\n",
        "\n",
        "A continuación se presenta el paso cero para leer del archivo que contiene 2 tipos de filas según sea el valor en la columna 'Type':\n",
        "\n",
        "- Emissions_thousand__metric_tons_of_carbon_dioxide\n",
        "- Emissions_per_capita__metric_tons_of_carbon_dioxide\n",
        "\n",
        "El valor de las emisiones están en medidas de Toneladas métricas de Dióxido de Carbono"
      ]
    },
    {
      "cell_type": "code",
      "execution_count": 8,
      "id": "efc54c17",
      "metadata": {},
      "outputs": [],
      "source": [
        "import pandas as pd\n",
        "\n",
        "ruta_archivo_csv = \"Carbon_Dioxide_Emission_Estimates.csv\"\n",
        "df = pd.read_csv(ruta_archivo_csv, delimiter=',')"
      ]
    },
    {
      "cell_type": "code",
      "execution_count": 9,
      "id": "d76ba946",
      "metadata": {},
      "outputs": [
        {
          "name": "stdout",
          "output_type": "stream",
          "text": [
            "Shape:  (2132, 4)\n",
            "Columnas:  Index(['Country', 'Year', 'Type', 'Value'], dtype='object')\n",
            "Tipado: \n",
            " Country     object\n",
            "Year         int64\n",
            "Type        object\n",
            "Value      float64\n",
            "dtype: object\n"
          ]
        }
      ],
      "source": [
        "print('Shape: ',df.shape)\n",
        "print('Columnas: ', df.columns)\n",
        "print('Tipado: \\n', df.dtypes)"
      ]
    },
    {
      "cell_type": "code",
      "execution_count": 10,
      "id": "379671c5",
      "metadata": {},
      "outputs": [
        {
          "name": "stdout",
          "output_type": "stream",
          "text": [
            "Shape (2132, 4)\n"
          ]
        }
      ],
      "source": [
        "df.dropna(inplace=True)\n",
        "\n",
        "df.head()\n",
        "print ('Shape', df.shape)"
      ]
    },
    {
      "cell_type": "markdown",
      "id": "352UFM-aEWCT",
      "metadata": {
        "id": "352UFM-aEWCT"
      },
      "source": [
        "# Pregunta 0\n",
        "\n",
        "1. Crear un dataframe con el nombre de variable 'df_emisions_co2' usando únicamente las filas cuya columna 'Type' tiene el valor 'Emissions (thousand metric tons of carbon dioxide)'\n",
        "\n",
        "2. Crear un dataframe con el nombre de variable 'df_emisions_co2_per_capita' usando únicamente las filas cuya columna 'Type' tiene el valor Emissions per capita (metric tons of carbon dioxide)"
      ]
    },
    {
      "cell_type": "code",
      "execution_count": 11,
      "id": "b13eddff",
      "metadata": {},
      "outputs": [
        {
          "data": {
            "application/vnd.microsoft.datawrangler.viewer.v0+json": {
              "columns": [
                {
                  "name": "index",
                  "rawType": "int64",
                  "type": "integer"
                },
                {
                  "name": "Country",
                  "rawType": "object",
                  "type": "string"
                },
                {
                  "name": "Year",
                  "rawType": "int64",
                  "type": "integer"
                },
                {
                  "name": "Type",
                  "rawType": "object",
                  "type": "string"
                },
                {
                  "name": "Value",
                  "rawType": "float64",
                  "type": "float"
                }
              ],
              "conversionMethod": "pd.DataFrame",
              "ref": "f0bc3d76-fd52-40ba-84be-1f6dc7efa698",
              "rows": [
                [
                  "0",
                  "Albania",
                  "1975",
                  "Emissions (thousand metric tons of carbon dioxide)",
                  "4338.334"
                ],
                [
                  "1",
                  "Albania",
                  "1985",
                  "Emissions (thousand metric tons of carbon dioxide)",
                  "6929.926"
                ],
                [
                  "2",
                  "Albania",
                  "1995",
                  "Emissions (thousand metric tons of carbon dioxide)",
                  "1848.549"
                ],
                [
                  "3",
                  "Albania",
                  "2005",
                  "Emissions (thousand metric tons of carbon dioxide)",
                  "3825.184"
                ],
                [
                  "4",
                  "Albania",
                  "2010",
                  "Emissions (thousand metric tons of carbon dioxide)",
                  "3930.295"
                ],
                [
                  "5",
                  "Albania",
                  "2015",
                  "Emissions (thousand metric tons of carbon dioxide)",
                  "3824.801"
                ],
                [
                  "6",
                  "Albania",
                  "2016",
                  "Emissions (thousand metric tons of carbon dioxide)",
                  "3674.183"
                ],
                [
                  "7",
                  "Albania",
                  "2017",
                  "Emissions (thousand metric tons of carbon dioxide)",
                  "4342.011"
                ],
                [
                  "16",
                  "Algeria",
                  "1975",
                  "Emissions (thousand metric tons of carbon dioxide)",
                  "13552.694"
                ],
                [
                  "17",
                  "Algeria",
                  "1985",
                  "Emissions (thousand metric tons of carbon dioxide)",
                  "42073.253"
                ],
                [
                  "18",
                  "Algeria",
                  "1995",
                  "Emissions (thousand metric tons of carbon dioxide)",
                  "55336.862"
                ],
                [
                  "19",
                  "Algeria",
                  "2005",
                  "Emissions (thousand metric tons of carbon dioxide)",
                  "77474.13"
                ],
                [
                  "20",
                  "Algeria",
                  "2010",
                  "Emissions (thousand metric tons of carbon dioxide)",
                  "95535.489"
                ],
                [
                  "21",
                  "Algeria",
                  "2015",
                  "Emissions (thousand metric tons of carbon dioxide)",
                  "130426.655"
                ],
                [
                  "22",
                  "Algeria",
                  "2016",
                  "Emissions (thousand metric tons of carbon dioxide)",
                  "127640.064"
                ],
                [
                  "23",
                  "Algeria",
                  "2017",
                  "Emissions (thousand metric tons of carbon dioxide)",
                  "130493.653"
                ],
                [
                  "32",
                  "Angola",
                  "1975",
                  "Emissions (thousand metric tons of carbon dioxide)",
                  "1955.802"
                ],
                [
                  "33",
                  "Angola",
                  "1985",
                  "Emissions (thousand metric tons of carbon dioxide)",
                  "2817.595"
                ],
                [
                  "34",
                  "Angola",
                  "1995",
                  "Emissions (thousand metric tons of carbon dioxide)",
                  "3913.613"
                ],
                [
                  "35",
                  "Angola",
                  "2005",
                  "Emissions (thousand metric tons of carbon dioxide)",
                  "6146.691"
                ],
                [
                  "36",
                  "Angola",
                  "2010",
                  "Emissions (thousand metric tons of carbon dioxide)",
                  "15151.684"
                ],
                [
                  "37",
                  "Angola",
                  "2015",
                  "Emissions (thousand metric tons of carbon dioxide)",
                  "21532.32"
                ],
                [
                  "38",
                  "Angola",
                  "2016",
                  "Emissions (thousand metric tons of carbon dioxide)",
                  "21458.342"
                ],
                [
                  "39",
                  "Angola",
                  "2017",
                  "Emissions (thousand metric tons of carbon dioxide)",
                  "18021.394"
                ],
                [
                  "48",
                  "Argentina",
                  "1975",
                  "Emissions (thousand metric tons of carbon dioxide)",
                  "85231.756"
                ],
                [
                  "49",
                  "Argentina",
                  "1985",
                  "Emissions (thousand metric tons of carbon dioxide)",
                  "87779.28"
                ],
                [
                  "50",
                  "Argentina",
                  "1995",
                  "Emissions (thousand metric tons of carbon dioxide)",
                  "117327.938"
                ],
                [
                  "51",
                  "Argentina",
                  "2005",
                  "Emissions (thousand metric tons of carbon dioxide)",
                  "149476.04"
                ],
                [
                  "52",
                  "Argentina",
                  "2010",
                  "Emissions (thousand metric tons of carbon dioxide)",
                  "173768.538"
                ],
                [
                  "53",
                  "Argentina",
                  "2015",
                  "Emissions (thousand metric tons of carbon dioxide)",
                  "190384.899"
                ],
                [
                  "54",
                  "Argentina",
                  "2016",
                  "Emissions (thousand metric tons of carbon dioxide)",
                  "190512.04"
                ],
                [
                  "55",
                  "Argentina",
                  "2017",
                  "Emissions (thousand metric tons of carbon dioxide)",
                  "183375.203"
                ],
                [
                  "64",
                  "Armenia",
                  "1995",
                  "Emissions (thousand metric tons of carbon dioxide)",
                  "3368.027"
                ],
                [
                  "65",
                  "Armenia",
                  "2005",
                  "Emissions (thousand metric tons of carbon dioxide)",
                  "4129.845"
                ],
                [
                  "66",
                  "Armenia",
                  "2010",
                  "Emissions (thousand metric tons of carbon dioxide)",
                  "4048.253"
                ],
                [
                  "67",
                  "Armenia",
                  "2015",
                  "Emissions (thousand metric tons of carbon dioxide)",
                  "4702.13"
                ],
                [
                  "68",
                  "Armenia",
                  "2016",
                  "Emissions (thousand metric tons of carbon dioxide)",
                  "4833.071"
                ],
                [
                  "69",
                  "Armenia",
                  "2017",
                  "Emissions (thousand metric tons of carbon dioxide)",
                  "5165.593"
                ],
                [
                  "76",
                  "Australia",
                  "1975",
                  "Emissions (thousand metric tons of carbon dioxide)",
                  "179467.397"
                ],
                [
                  "77",
                  "Australia",
                  "1985",
                  "Emissions (thousand metric tons of carbon dioxide)",
                  "220128.059"
                ],
                [
                  "78",
                  "Australia",
                  "1995",
                  "Emissions (thousand metric tons of carbon dioxide)",
                  "285324.094"
                ],
                [
                  "79",
                  "Australia",
                  "2005",
                  "Emissions (thousand metric tons of carbon dioxide)",
                  "365515.118"
                ],
                [
                  "80",
                  "Australia",
                  "2010",
                  "Emissions (thousand metric tons of carbon dioxide)",
                  "383618.673"
                ],
                [
                  "81",
                  "Australia",
                  "2015",
                  "Emissions (thousand metric tons of carbon dioxide)",
                  "373846.773"
                ],
                [
                  "82",
                  "Australia",
                  "2016",
                  "Emissions (thousand metric tons of carbon dioxide)",
                  "381878.629"
                ],
                [
                  "83",
                  "Australia",
                  "2017",
                  "Emissions (thousand metric tons of carbon dioxide)",
                  "384583.857"
                ],
                [
                  "92",
                  "Austria",
                  "1975",
                  "Emissions (thousand metric tons of carbon dioxide)",
                  "49488.796"
                ],
                [
                  "93",
                  "Austria",
                  "1985",
                  "Emissions (thousand metric tons of carbon dioxide)",
                  "52649.019"
                ],
                [
                  "94",
                  "Austria",
                  "1995",
                  "Emissions (thousand metric tons of carbon dioxide)",
                  "59549.049"
                ],
                [
                  "95",
                  "Austria",
                  "2005",
                  "Emissions (thousand metric tons of carbon dioxide)",
                  "74764.026"
                ]
              ],
              "shape": {
                "columns": 4,
                "rows": 1066
              }
            },
            "text/html": [
              "<div>\n",
              "<style scoped>\n",
              "    .dataframe tbody tr th:only-of-type {\n",
              "        vertical-align: middle;\n",
              "    }\n",
              "\n",
              "    .dataframe tbody tr th {\n",
              "        vertical-align: top;\n",
              "    }\n",
              "\n",
              "    .dataframe thead th {\n",
              "        text-align: right;\n",
              "    }\n",
              "</style>\n",
              "<table border=\"1\" class=\"dataframe\">\n",
              "  <thead>\n",
              "    <tr style=\"text-align: right;\">\n",
              "      <th></th>\n",
              "      <th>Country</th>\n",
              "      <th>Year</th>\n",
              "      <th>Type</th>\n",
              "      <th>Value</th>\n",
              "    </tr>\n",
              "  </thead>\n",
              "  <tbody>\n",
              "    <tr>\n",
              "      <th>0</th>\n",
              "      <td>Albania</td>\n",
              "      <td>1975</td>\n",
              "      <td>Emissions (thousand metric tons of carbon diox...</td>\n",
              "      <td>4338.334</td>\n",
              "    </tr>\n",
              "    <tr>\n",
              "      <th>1</th>\n",
              "      <td>Albania</td>\n",
              "      <td>1985</td>\n",
              "      <td>Emissions (thousand metric tons of carbon diox...</td>\n",
              "      <td>6929.926</td>\n",
              "    </tr>\n",
              "    <tr>\n",
              "      <th>2</th>\n",
              "      <td>Albania</td>\n",
              "      <td>1995</td>\n",
              "      <td>Emissions (thousand metric tons of carbon diox...</td>\n",
              "      <td>1848.549</td>\n",
              "    </tr>\n",
              "    <tr>\n",
              "      <th>3</th>\n",
              "      <td>Albania</td>\n",
              "      <td>2005</td>\n",
              "      <td>Emissions (thousand metric tons of carbon diox...</td>\n",
              "      <td>3825.184</td>\n",
              "    </tr>\n",
              "    <tr>\n",
              "      <th>4</th>\n",
              "      <td>Albania</td>\n",
              "      <td>2010</td>\n",
              "      <td>Emissions (thousand metric tons of carbon diox...</td>\n",
              "      <td>3930.295</td>\n",
              "    </tr>\n",
              "    <tr>\n",
              "      <th>...</th>\n",
              "      <td>...</td>\n",
              "      <td>...</td>\n",
              "      <td>...</td>\n",
              "      <td>...</td>\n",
              "    </tr>\n",
              "    <tr>\n",
              "      <th>2119</th>\n",
              "      <td>Zimbabwe</td>\n",
              "      <td>2005</td>\n",
              "      <td>Emissions (thousand metric tons of carbon diox...</td>\n",
              "      <td>10272.774</td>\n",
              "    </tr>\n",
              "    <tr>\n",
              "      <th>2120</th>\n",
              "      <td>Zimbabwe</td>\n",
              "      <td>2010</td>\n",
              "      <td>Emissions (thousand metric tons of carbon diox...</td>\n",
              "      <td>9464.714</td>\n",
              "    </tr>\n",
              "    <tr>\n",
              "      <th>2121</th>\n",
              "      <td>Zimbabwe</td>\n",
              "      <td>2015</td>\n",
              "      <td>Emissions (thousand metric tons of carbon diox...</td>\n",
              "      <td>11822.362</td>\n",
              "    </tr>\n",
              "    <tr>\n",
              "      <th>2122</th>\n",
              "      <td>Zimbabwe</td>\n",
              "      <td>2016</td>\n",
              "      <td>Emissions (thousand metric tons of carbon diox...</td>\n",
              "      <td>10368.900</td>\n",
              "    </tr>\n",
              "    <tr>\n",
              "      <th>2123</th>\n",
              "      <td>Zimbabwe</td>\n",
              "      <td>2017</td>\n",
              "      <td>Emissions (thousand metric tons of carbon diox...</td>\n",
              "      <td>9714.938</td>\n",
              "    </tr>\n",
              "  </tbody>\n",
              "</table>\n",
              "<p>1066 rows × 4 columns</p>\n",
              "</div>"
            ],
            "text/plain": [
              "       Country  Year                                               Type  \\\n",
              "0      Albania  1975  Emissions (thousand metric tons of carbon diox...   \n",
              "1      Albania  1985  Emissions (thousand metric tons of carbon diox...   \n",
              "2      Albania  1995  Emissions (thousand metric tons of carbon diox...   \n",
              "3      Albania  2005  Emissions (thousand metric tons of carbon diox...   \n",
              "4      Albania  2010  Emissions (thousand metric tons of carbon diox...   \n",
              "...        ...   ...                                                ...   \n",
              "2119  Zimbabwe  2005  Emissions (thousand metric tons of carbon diox...   \n",
              "2120  Zimbabwe  2010  Emissions (thousand metric tons of carbon diox...   \n",
              "2121  Zimbabwe  2015  Emissions (thousand metric tons of carbon diox...   \n",
              "2122  Zimbabwe  2016  Emissions (thousand metric tons of carbon diox...   \n",
              "2123  Zimbabwe  2017  Emissions (thousand metric tons of carbon diox...   \n",
              "\n",
              "          Value  \n",
              "0      4338.334  \n",
              "1      6929.926  \n",
              "2      1848.549  \n",
              "3      3825.184  \n",
              "4      3930.295  \n",
              "...         ...  \n",
              "2119  10272.774  \n",
              "2120   9464.714  \n",
              "2121  11822.362  \n",
              "2122  10368.900  \n",
              "2123   9714.938  \n",
              "\n",
              "[1066 rows x 4 columns]"
            ]
          },
          "execution_count": 11,
          "metadata": {},
          "output_type": "execute_result"
        }
      ],
      "source": [
        "df_emisions_co2 = df[df['Type'] == 'Emissions (thousand metric tons of carbon dioxide)']\n",
        "df_emisions_co2\n"
      ]
    },
    {
      "cell_type": "code",
      "execution_count": 12,
      "id": "5bba6e96",
      "metadata": {},
      "outputs": [
        {
          "data": {
            "application/vnd.microsoft.datawrangler.viewer.v0+json": {
              "columns": [
                {
                  "name": "index",
                  "rawType": "int64",
                  "type": "integer"
                },
                {
                  "name": "Country",
                  "rawType": "object",
                  "type": "string"
                },
                {
                  "name": "Year",
                  "rawType": "int64",
                  "type": "integer"
                },
                {
                  "name": "Type",
                  "rawType": "object",
                  "type": "string"
                },
                {
                  "name": "Value",
                  "rawType": "float64",
                  "type": "float"
                }
              ],
              "conversionMethod": "pd.DataFrame",
              "ref": "fb888ad3-edcd-4a71-b274-81342654d44c",
              "rows": [
                [
                  "8",
                  "Albania",
                  "1975",
                  "Emissions per capita (metric tons of carbon dioxide)",
                  "1.804"
                ],
                [
                  "9",
                  "Albania",
                  "1985",
                  "Emissions per capita (metric tons of carbon dioxide)",
                  "2.337"
                ],
                [
                  "10",
                  "Albania",
                  "1995",
                  "Emissions per capita (metric tons of carbon dioxide)",
                  "0.58"
                ],
                [
                  "11",
                  "Albania",
                  "2005",
                  "Emissions per capita (metric tons of carbon dioxide)",
                  "1.27"
                ],
                [
                  "12",
                  "Albania",
                  "2010",
                  "Emissions per capita (metric tons of carbon dioxide)",
                  "1.349"
                ],
                [
                  "13",
                  "Albania",
                  "2015",
                  "Emissions per capita (metric tons of carbon dioxide)",
                  "1.328"
                ],
                [
                  "14",
                  "Albania",
                  "2016",
                  "Emissions per capita (metric tons of carbon dioxide)",
                  "1.278"
                ],
                [
                  "15",
                  "Albania",
                  "2017",
                  "Emissions per capita (metric tons of carbon dioxide)",
                  "1.511"
                ],
                [
                  "24",
                  "Algeria",
                  "1975",
                  "Emissions per capita (metric tons of carbon dioxide)",
                  "0.811"
                ],
                [
                  "25",
                  "Algeria",
                  "1985",
                  "Emissions per capita (metric tons of carbon dioxide)",
                  "1.864"
                ],
                [
                  "26",
                  "Algeria",
                  "1995",
                  "Emissions per capita (metric tons of carbon dioxide)",
                  "1.915"
                ],
                [
                  "27",
                  "Algeria",
                  "2005",
                  "Emissions per capita (metric tons of carbon dioxide)",
                  "2.327"
                ],
                [
                  "28",
                  "Algeria",
                  "2010",
                  "Emissions per capita (metric tons of carbon dioxide)",
                  "2.645"
                ],
                [
                  "29",
                  "Algeria",
                  "2015",
                  "Emissions per capita (metric tons of carbon dioxide)",
                  "3.271"
                ],
                [
                  "30",
                  "Algeria",
                  "2016",
                  "Emissions per capita (metric tons of carbon dioxide)",
                  "3.143"
                ],
                [
                  "31",
                  "Algeria",
                  "2017",
                  "Emissions per capita (metric tons of carbon dioxide)",
                  "3.158"
                ],
                [
                  "40",
                  "Angola",
                  "1975",
                  "Emissions per capita (metric tons of carbon dioxide)",
                  "0.255"
                ],
                [
                  "41",
                  "Angola",
                  "1985",
                  "Emissions per capita (metric tons of carbon dioxide)",
                  "0.266"
                ],
                [
                  "42",
                  "Angola",
                  "1995",
                  "Emissions per capita (metric tons of carbon dioxide)",
                  "0.274"
                ],
                [
                  "43",
                  "Angola",
                  "2005",
                  "Emissions per capita (metric tons of carbon dioxide)",
                  "0.314"
                ],
                [
                  "44",
                  "Angola",
                  "2010",
                  "Emissions per capita (metric tons of carbon dioxide)",
                  "0.648"
                ],
                [
                  "45",
                  "Angola",
                  "2015",
                  "Emissions per capita (metric tons of carbon dioxide)",
                  "0.773"
                ],
                [
                  "46",
                  "Angola",
                  "2016",
                  "Emissions per capita (metric tons of carbon dioxide)",
                  "0.745"
                ],
                [
                  "47",
                  "Angola",
                  "2017",
                  "Emissions per capita (metric tons of carbon dioxide)",
                  "0.605"
                ],
                [
                  "56",
                  "Argentina",
                  "1975",
                  "Emissions per capita (metric tons of carbon dioxide)",
                  "3.27"
                ],
                [
                  "57",
                  "Argentina",
                  "1985",
                  "Emissions per capita (metric tons of carbon dioxide)",
                  "2.889"
                ],
                [
                  "58",
                  "Argentina",
                  "1995",
                  "Emissions per capita (metric tons of carbon dioxide)",
                  "3.353"
                ],
                [
                  "59",
                  "Argentina",
                  "2005",
                  "Emissions per capita (metric tons of carbon dioxide)",
                  "3.819"
                ],
                [
                  "60",
                  "Argentina",
                  "2010",
                  "Emissions per capita (metric tons of carbon dioxide)",
                  "4.215"
                ],
                [
                  "61",
                  "Argentina",
                  "2015",
                  "Emissions per capita (metric tons of carbon dioxide)",
                  "4.385"
                ],
                [
                  "62",
                  "Argentina",
                  "2016",
                  "Emissions per capita (metric tons of carbon dioxide)",
                  "4.345"
                ],
                [
                  "63",
                  "Argentina",
                  "2017",
                  "Emissions per capita (metric tons of carbon dioxide)",
                  "4.142"
                ],
                [
                  "70",
                  "Armenia",
                  "1995",
                  "Emissions per capita (metric tons of carbon dioxide)",
                  "1.047"
                ],
                [
                  "71",
                  "Armenia",
                  "2005",
                  "Emissions per capita (metric tons of carbon dioxide)",
                  "1.385"
                ],
                [
                  "72",
                  "Armenia",
                  "2010",
                  "Emissions per capita (metric tons of carbon dioxide)",
                  "1.407"
                ],
                [
                  "73",
                  "Armenia",
                  "2015",
                  "Emissions per capita (metric tons of carbon dioxide)",
                  "1.612"
                ],
                [
                  "74",
                  "Armenia",
                  "2016",
                  "Emissions per capita (metric tons of carbon dioxide)",
                  "1.652"
                ],
                [
                  "75",
                  "Armenia",
                  "2017",
                  "Emissions per capita (metric tons of carbon dioxide)",
                  "1.763"
                ],
                [
                  "84",
                  "Australia",
                  "1975",
                  "Emissions per capita (metric tons of carbon dioxide)",
                  "12.848"
                ],
                [
                  "85",
                  "Australia",
                  "1985",
                  "Emissions per capita (metric tons of carbon dioxide)",
                  "13.943"
                ],
                [
                  "86",
                  "Australia",
                  "1995",
                  "Emissions per capita (metric tons of carbon dioxide)",
                  "15.656"
                ],
                [
                  "87",
                  "Australia",
                  "2005",
                  "Emissions per capita (metric tons of carbon dioxide)",
                  "17.873"
                ],
                [
                  "88",
                  "Australia",
                  "2010",
                  "Emissions per capita (metric tons of carbon dioxide)",
                  "17.412"
                ],
                [
                  "89",
                  "Australia",
                  "2015",
                  "Emissions per capita (metric tons of carbon dioxide)",
                  "15.697"
                ],
                [
                  "90",
                  "Australia",
                  "2016",
                  "Emissions per capita (metric tons of carbon dioxide)",
                  "15.786"
                ],
                [
                  "91",
                  "Australia",
                  "2017",
                  "Emissions per capita (metric tons of carbon dioxide)",
                  "15.632"
                ],
                [
                  "100",
                  "Austria",
                  "1975",
                  "Emissions per capita (metric tons of carbon dioxide)",
                  "6.53"
                ],
                [
                  "101",
                  "Austria",
                  "1985",
                  "Emissions per capita (metric tons of carbon dioxide)",
                  "6.96"
                ],
                [
                  "102",
                  "Austria",
                  "1995",
                  "Emissions per capita (metric tons of carbon dioxide)",
                  "7.492"
                ],
                [
                  "103",
                  "Austria",
                  "2005",
                  "Emissions per capita (metric tons of carbon dioxide)",
                  "9.09"
                ]
              ],
              "shape": {
                "columns": 4,
                "rows": 1066
              }
            },
            "text/html": [
              "<div>\n",
              "<style scoped>\n",
              "    .dataframe tbody tr th:only-of-type {\n",
              "        vertical-align: middle;\n",
              "    }\n",
              "\n",
              "    .dataframe tbody tr th {\n",
              "        vertical-align: top;\n",
              "    }\n",
              "\n",
              "    .dataframe thead th {\n",
              "        text-align: right;\n",
              "    }\n",
              "</style>\n",
              "<table border=\"1\" class=\"dataframe\">\n",
              "  <thead>\n",
              "    <tr style=\"text-align: right;\">\n",
              "      <th></th>\n",
              "      <th>Country</th>\n",
              "      <th>Year</th>\n",
              "      <th>Type</th>\n",
              "      <th>Value</th>\n",
              "    </tr>\n",
              "  </thead>\n",
              "  <tbody>\n",
              "    <tr>\n",
              "      <th>8</th>\n",
              "      <td>Albania</td>\n",
              "      <td>1975</td>\n",
              "      <td>Emissions per capita (metric tons of carbon di...</td>\n",
              "      <td>1.804</td>\n",
              "    </tr>\n",
              "    <tr>\n",
              "      <th>9</th>\n",
              "      <td>Albania</td>\n",
              "      <td>1985</td>\n",
              "      <td>Emissions per capita (metric tons of carbon di...</td>\n",
              "      <td>2.337</td>\n",
              "    </tr>\n",
              "    <tr>\n",
              "      <th>10</th>\n",
              "      <td>Albania</td>\n",
              "      <td>1995</td>\n",
              "      <td>Emissions per capita (metric tons of carbon di...</td>\n",
              "      <td>0.580</td>\n",
              "    </tr>\n",
              "    <tr>\n",
              "      <th>11</th>\n",
              "      <td>Albania</td>\n",
              "      <td>2005</td>\n",
              "      <td>Emissions per capita (metric tons of carbon di...</td>\n",
              "      <td>1.270</td>\n",
              "    </tr>\n",
              "    <tr>\n",
              "      <th>12</th>\n",
              "      <td>Albania</td>\n",
              "      <td>2010</td>\n",
              "      <td>Emissions per capita (metric tons of carbon di...</td>\n",
              "      <td>1.349</td>\n",
              "    </tr>\n",
              "    <tr>\n",
              "      <th>...</th>\n",
              "      <td>...</td>\n",
              "      <td>...</td>\n",
              "      <td>...</td>\n",
              "      <td>...</td>\n",
              "    </tr>\n",
              "    <tr>\n",
              "      <th>2127</th>\n",
              "      <td>Zimbabwe</td>\n",
              "      <td>2005</td>\n",
              "      <td>Emissions per capita (metric tons of carbon di...</td>\n",
              "      <td>0.794</td>\n",
              "    </tr>\n",
              "    <tr>\n",
              "      <th>2128</th>\n",
              "      <td>Zimbabwe</td>\n",
              "      <td>2010</td>\n",
              "      <td>Emissions per capita (metric tons of carbon di...</td>\n",
              "      <td>0.672</td>\n",
              "    </tr>\n",
              "    <tr>\n",
              "      <th>2129</th>\n",
              "      <td>Zimbabwe</td>\n",
              "      <td>2015</td>\n",
              "      <td>Emissions per capita (metric tons of carbon di...</td>\n",
              "      <td>0.749</td>\n",
              "    </tr>\n",
              "    <tr>\n",
              "      <th>2130</th>\n",
              "      <td>Zimbabwe</td>\n",
              "      <td>2016</td>\n",
              "      <td>Emissions per capita (metric tons of carbon di...</td>\n",
              "      <td>0.642</td>\n",
              "    </tr>\n",
              "    <tr>\n",
              "      <th>2131</th>\n",
              "      <td>Zimbabwe</td>\n",
              "      <td>2017</td>\n",
              "      <td>Emissions per capita (metric tons of carbon di...</td>\n",
              "      <td>0.588</td>\n",
              "    </tr>\n",
              "  </tbody>\n",
              "</table>\n",
              "<p>1066 rows × 4 columns</p>\n",
              "</div>"
            ],
            "text/plain": [
              "       Country  Year                                               Type  Value\n",
              "8      Albania  1975  Emissions per capita (metric tons of carbon di...  1.804\n",
              "9      Albania  1985  Emissions per capita (metric tons of carbon di...  2.337\n",
              "10     Albania  1995  Emissions per capita (metric tons of carbon di...  0.580\n",
              "11     Albania  2005  Emissions per capita (metric tons of carbon di...  1.270\n",
              "12     Albania  2010  Emissions per capita (metric tons of carbon di...  1.349\n",
              "...        ...   ...                                                ...    ...\n",
              "2127  Zimbabwe  2005  Emissions per capita (metric tons of carbon di...  0.794\n",
              "2128  Zimbabwe  2010  Emissions per capita (metric tons of carbon di...  0.672\n",
              "2129  Zimbabwe  2015  Emissions per capita (metric tons of carbon di...  0.749\n",
              "2130  Zimbabwe  2016  Emissions per capita (metric tons of carbon di...  0.642\n",
              "2131  Zimbabwe  2017  Emissions per capita (metric tons of carbon di...  0.588\n",
              "\n",
              "[1066 rows x 4 columns]"
            ]
          },
          "execution_count": 12,
          "metadata": {},
          "output_type": "execute_result"
        }
      ],
      "source": [
        "df_emisions_co2_per_capita = df[df['Type'] == 'Emissions per capita (metric tons of carbon dioxide)']\n",
        "df_emisions_co2_per_capita\n"
      ]
    },
    {
      "cell_type": "markdown",
      "id": "d6bd6661",
      "metadata": {
        "id": "d6bd6661"
      },
      "source": [
        "# Pregunta 1"
      ]
    },
    {
      "cell_type": "markdown",
      "id": "3299b6b5",
      "metadata": {
        "id": "3299b6b5"
      },
      "source": [
        "Cuántas filas tiene el dataframe 'df_emisions_co2'?"
      ]
    },
    {
      "cell_type": "code",
      "execution_count": 13,
      "id": "f02d60cc",
      "metadata": {
        "id": "f02d60cc"
      },
      "outputs": [
        {
          "name": "stdout",
          "output_type": "stream",
          "text": [
            "Shape (1066, 4)\n",
            "El dataframe df_emisions_co2 tiene 1066 filas.\n"
          ]
        }
      ],
      "source": [
        "# Coloque el código que responda a la pregunta aqui\n",
        "print ('Shape', df_emisions_co2.shape)\n",
        "\n",
        "print(f'El dataframe df_emisions_co2 tiene {df_emisions_co2.shape[0]} filas.')\n"
      ]
    },
    {
      "cell_type": "markdown",
      "id": "880f891d",
      "metadata": {
        "id": "880f891d"
      },
      "source": [
        "# Pregunta 2"
      ]
    },
    {
      "cell_type": "markdown",
      "id": "34700c9d",
      "metadata": {
        "id": "34700c9d"
      },
      "source": [
        "Cuál en el valor más alto de emisiones (en general) usando el dataframe 'df_emisions_co2'?"
      ]
    },
    {
      "cell_type": "code",
      "execution_count": 14,
      "id": "24bdf93a",
      "metadata": {
        "id": "24bdf93a"
      },
      "outputs": [
        {
          "ename": "NameError",
          "evalue": "name 'valor_max_emisiones_co2' is not defined",
          "output_type": "error",
          "traceback": [
            "\u001b[1;31m---------------------------------------------------------------------------\u001b[0m",
            "\u001b[1;31mNameError\u001b[0m                                 Traceback (most recent call last)",
            "Cell \u001b[1;32mIn[14], line 5\u001b[0m\n\u001b[0;32m      1\u001b[0m \u001b[38;5;66;03m# Coloque el código que responda a la pregunta aqui exactamente lo que se pregunta\u001b[39;00m\n\u001b[0;32m      3\u001b[0m valor_max_emisions_co2 \u001b[38;5;241m=\u001b[39m df_emisions_co2[\u001b[38;5;124m'\u001b[39m\u001b[38;5;124mValue\u001b[39m\u001b[38;5;124m'\u001b[39m]\u001b[38;5;241m.\u001b[39mmax()\n\u001b[1;32m----> 5\u001b[0m \u001b[38;5;28mprint\u001b[39m (\u001b[38;5;124mf\u001b[39m\u001b[38;5;124m'\u001b[39m\u001b[38;5;124mEl valor más alto de emisiones, en general fue \u001b[39m\u001b[38;5;132;01m{\u001b[39;00m\u001b[43mvalor_max_emisiones_co2\u001b[49m\u001b[38;5;132;01m}\u001b[39;00m\u001b[38;5;124m'\u001b[39m)\n",
            "\u001b[1;31mNameError\u001b[0m: name 'valor_max_emisiones_co2' is not defined"
          ]
        }
      ],
      "source": [
        "# Coloque el código que responda a la pregunta aqui exactamente lo que se pregunta\n",
        "\n",
        "valor_max_emisions_co2 = df_emisions_co2['Value'].max()\n",
        "\n",
        "print (f'El valor más alto de emisiones, en general fue {valor_max_emisiones_co2}')\n"
      ]
    },
    {
      "cell_type": "markdown",
      "id": "7ebd3621",
      "metadata": {
        "id": "7ebd3621"
      },
      "source": [
        "# Pregunta 3"
      ]
    },
    {
      "cell_type": "markdown",
      "id": "eb81f1c8",
      "metadata": {
        "id": "eb81f1c8"
      },
      "source": [
        "Cuántos países (Countries) hay en el dataframe 'df_emisions_co2'?"
      ]
    },
    {
      "cell_type": "code",
      "execution_count": null,
      "id": "4f60454b",
      "metadata": {
        "id": "4f60454b"
      },
      "outputs": [
        {
          "name": "stdout",
          "output_type": "stream",
          "text": [
            "Hay un total de 142 países.\n"
          ]
        }
      ],
      "source": [
        "# Coloque el código que responda a la pregunta aqui exactamente lo que se pregunta\n",
        "paises_unicos = df_emisions_co2['Country'].unique().tolist()\n",
        "\n",
        "print(f'Hay un total de {len(paises_unicos)} países.')\n"
      ]
    },
    {
      "cell_type": "code",
      "execution_count": null,
      "id": "2f46faa0",
      "metadata": {
        "id": "2f46faa0"
      },
      "outputs": [
        {
          "name": "stdout",
          "output_type": "stream",
          "text": [
            "Lista de países: ['Albania', 'Algeria', 'Angola', 'Argentina', 'Armenia', 'Australia', 'Austria', 'Azerbaijan', 'Bahrain', 'Bangladesh', 'Belarus', 'Belgium', 'Benin', 'Bolivia (Plurin. State of)', 'Bosnia and Herzegovina', 'Botswana', 'Brazil', 'Brunei Darussalam', 'Bulgaria', 'Cambodia', 'Cameroon', 'Canada', 'Chile', 'China', 'China, Hong Kong SAR', 'Colombia', 'Congo', 'Costa Rica', 'Côte d’Ivoire', 'Croatia', 'Cuba', 'Curaçao', 'Cyprus', 'Czechia', \"Dem. People's Rep. Korea\", 'Dem. Rep. of the Congo', 'Denmark', 'Dominican Republic', 'Ecuador', 'Egypt', 'El Salvador', 'Eritrea', 'Estonia', 'Ethiopia', 'Finland', 'France', 'Gabon', 'Georgia', 'Germany', 'Ghana', 'Gibraltar', 'Greece', 'Guatemala', 'Haiti', 'Honduras', 'Hungary', 'Iceland', 'India', 'Indonesia', 'Iran (Islamic Republic of)', 'Iraq', 'Ireland', 'Israel', 'Italy', 'Jamaica', 'Japan', 'Jordan', 'Kazakhstan', 'Kenya', 'Kosovo', 'Kuwait', 'Kyrgyzstan', 'Latvia', 'Lebanon', 'Libya', 'Lithuania', 'Luxembourg', 'Malaysia', 'Malta', 'Mauritius', 'Mexico', 'Mongolia', 'Montenegro', 'Morocco', 'Mozambique', 'Myanmar', 'Namibia', 'Nepal', 'Netherlands', 'New Zealand', 'Nicaragua', 'Niger', 'Nigeria', 'Norway', 'Oman', 'Pakistan', 'Panama', 'Paraguay', 'Peru', 'Philippines', 'Poland', 'Portugal', 'Qatar', 'Republic of Korea', 'Republic of Moldova', 'Romania', 'Russian Federation', 'Saudi Arabia', 'Senegal', 'Serbia', 'Singapore', 'Slovakia', 'Slovenia', 'South Africa', 'South Sudan', 'Spain', 'Sri Lanka', 'Sudan', 'Suriname', 'Sweden', 'Switzerland', 'Syrian Arab Republic', 'Tajikistan', 'Thailand', 'North Macedonia', 'Togo', 'Trinidad and Tobago', 'Tunisia', 'Turkey', 'Turkmenistan', 'Ukraine', 'United Arab Emirates', 'United Kingdom', 'United Rep. of Tanzania', 'United States of America', 'Uruguay', 'Uzbekistan', 'Venezuela (Boliv. Rep. of)', 'Viet Nam', 'Yemen', 'Zambia', 'Zimbabwe']\n"
          ]
        }
      ],
      "source": [
        "#Imprima un lista con todos los paises\n",
        "\n",
        "print ('Lista de países:', paises_unicos)"
      ]
    },
    {
      "cell_type": "markdown",
      "id": "1e40352a",
      "metadata": {
        "id": "1e40352a"
      },
      "source": [
        "# Pregunta 4"
      ]
    },
    {
      "cell_type": "markdown",
      "id": "80c46908",
      "metadata": {
        "id": "80c46908"
      },
      "source": [
        "Cuál es el país que tiene mayor emisiones usando el dataframe 'df_emisions_co2'?"
      ]
    },
    {
      "cell_type": "code",
      "execution_count": null,
      "id": "e6df7d42",
      "metadata": {
        "id": "e6df7d42"
      },
      "outputs": [
        {
          "name": "stdout",
          "output_type": "stream",
          "text": [
            "El país con mayor emisiones es China.\n"
          ]
        }
      ],
      "source": [
        "# Coloque el código que responda a la pregunta aqui exactamente lo que se pregunta\n",
        "\n",
        "mayores_emisiones= df_emisions_co2['Value'].max()\n",
        "pais_mayor_emisor= df_emisions_co2[df_emisions_co2['Value'] == mayores_emisiones]['Country'].iloc[0]\n",
        "\n",
        "print (f'El país con mayor emisiones es {pais_mayor_emisor}.')"
      ]
    },
    {
      "cell_type": "markdown",
      "id": "26c97fde",
      "metadata": {
        "id": "26c97fde"
      },
      "source": [
        "# Pregunta 5"
      ]
    },
    {
      "cell_type": "markdown",
      "id": "541f44ca",
      "metadata": {
        "id": "541f44ca"
      },
      "source": [
        "Cuál es el año que tiene mayor emisiones para el país de Spain usando el dataframe 'df_emisions_co2'?"
      ]
    },
    {
      "cell_type": "code",
      "execution_count": null,
      "id": "c32f62d1",
      "metadata": {
        "id": "c32f62d1"
      },
      "outputs": [
        {
          "name": "stdout",
          "output_type": "stream",
          "text": [
            "El año en el que España tuvo las mayores emisiones fue en el 2005.\n"
          ]
        }
      ],
      "source": [
        "# Coloque el código que responda a la pregunta aqui exactamente lo que se pregunta\n",
        "df_emisions_co2_spain = df_emisions_co2[df_emisions_co2['Country']== 'Spain']\n",
        "\n",
        "mayor_emision_spain= df_emisions_co2_spain['Value'].max()\n",
        "anio_mayor_emision_Spain= df_emisions_co2_spain[df_emisions_co2_spain['Value'] == mayor_emision_spain]['Year'].iloc[0]\n",
        "\n",
        "print (f'El año en el que España tuvo las mayores emisiones fue en el {anio_mayor_emision_Spain}.')\n"
      ]
    },
    {
      "cell_type": "markdown",
      "id": "55ce4564",
      "metadata": {
        "id": "55ce4564"
      },
      "source": [
        "# Pregunta 6"
      ]
    },
    {
      "cell_type": "markdown",
      "id": "3473e4f2",
      "metadata": {
        "id": "3473e4f2"
      },
      "source": [
        "Cuáles son los años que se tiene registros para el dataframe 'df_emisions_co2_per_capita'?\n",
        "\n",
        "Entrege una lista con los años sin repetirse"
      ]
    },
    {
      "cell_type": "code",
      "execution_count": null,
      "id": "5ad50924",
      "metadata": {
        "id": "5ad50924"
      },
      "outputs": [
        {
          "name": "stdout",
          "output_type": "stream",
          "text": [
            "Los años registrados para emisiones per cápita son [1975, 1985, 1995, 2005, 2010, 2015, 2016, 2017].\n"
          ]
        }
      ],
      "source": [
        "# Coloque el código que responda a la pregunta aqui exactamente lo que se pregunta\n",
        "\n",
        "anios_registrados_co2_per_capita = df_emisions_co2_per_capita['Year'].unique().tolist()\n",
        "\n",
        "print(f'Los años registrados para emisiones per cápita son {anios_registrados_co2_per_capita}.')"
      ]
    },
    {
      "cell_type": "markdown",
      "id": "18fa522e",
      "metadata": {
        "id": "18fa522e"
      },
      "source": [
        "# Pregunta 7"
      ]
    },
    {
      "cell_type": "markdown",
      "id": "2747ce42",
      "metadata": {
        "id": "2747ce42"
      },
      "source": [
        "Cuántas son las emisiones en 'toneladas métricas' en total usando todos los países para usando el dataframe 'df_emisions_co2'?\n"
      ]
    },
    {
      "cell_type": "code",
      "execution_count": null,
      "id": "e8cbd117",
      "metadata": {
        "id": "e8cbd117"
      },
      "outputs": [
        {
          "name": "stdout",
          "output_type": "stream",
          "text": [
            "El valor total de emisiones fue de 195028250.42 toneladas métricas.\n"
          ]
        }
      ],
      "source": [
        "# Coloque el código que responda a la pregunta aqui exactamente lo que se pregunta\n",
        "\n",
        "total_emisiones_co2 = df_emisions_co2['Value'].sum()\n",
        "\n",
        "print (f'El valor total de emisiones fue de {total_emisiones_co2:.2f} toneladas métricas.')"
      ]
    },
    {
      "cell_type": "markdown",
      "id": "42aa86db",
      "metadata": {
        "id": "42aa86db"
      },
      "source": [
        "# Pregunta 8"
      ]
    },
    {
      "cell_type": "markdown",
      "id": "a303974d",
      "metadata": {
        "id": "a303974d"
      },
      "source": [
        "Cuántas son las emisiones en 'toneladas métricas' sólo para Albania usando el dataframe 'df_emisions_co2'?\n"
      ]
    },
    {
      "cell_type": "code",
      "execution_count": null,
      "id": "181ab815",
      "metadata": {
        "id": "181ab815"
      },
      "outputs": [
        {
          "name": "stdout",
          "output_type": "stream",
          "text": [
            "Albania produjo un total de 32713.28 toneladas métricas en emisiones de CO2.\n"
          ]
        }
      ],
      "source": [
        "# Coloque el código que responda a la pregunta aqui exactamente lo que se pregunta\n",
        "\n",
        "emisions_co2_albania = df_emisions_co2[df_emisions_co2['Country']== 'Albania']\n",
        "\n",
        "total_emisions_albania= emisions_co2_albania['Value'].sum()\n",
        "\n",
        "print (f'Albania produjo un total de {total_emisions_albania:.2f} toneladas métricas en emisiones de CO2.')"
      ]
    },
    {
      "cell_type": "markdown",
      "id": "d084c9f3",
      "metadata": {
        "id": "d084c9f3"
      },
      "source": [
        "# Pregunta 9"
      ]
    },
    {
      "cell_type": "markdown",
      "id": "ae9cebff",
      "metadata": {
        "id": "ae9cebff"
      },
      "source": [
        "Cuántas son las emisiones en 'libras' sólo para Costa Rica usando el dataframe 'df_emisions_co2'?\n"
      ]
    },
    {
      "cell_type": "code",
      "execution_count": null,
      "id": "ee97d492",
      "metadata": {
        "id": "ee97d492"
      },
      "outputs": [
        {
          "name": "stdout",
          "output_type": "stream",
          "text": [
            "Costa Rica produjo un total de 93085906.15 libras en emisiones de CO2.\n"
          ]
        }
      ],
      "source": [
        "# Coloque el código que responda a la pregunta aqui exactamente lo que se pregunta\n",
        "\n",
        "def toneladas_a_libras (valor_toneladas):\n",
        "    valor_libras = valor_toneladas * 2204.62\n",
        "    return (valor_libras)\n",
        "    \n",
        "emisions_co2_costa_rica = df_emisions_co2[df_emisions_co2['Country']== 'Costa Rica']\n",
        "\n",
        "total_emisions_costa_rica_ton= emisions_co2_costa_rica['Value'].sum()\n",
        "\n",
        "total_emisions_costa_rica_lib = toneladas_a_libras(total_emisions_costa_rica_ton)\n",
        "\n",
        "print (f'Costa Rica produjo un total de {total_emisions_costa_rica_lib:.2f} libras en emisiones de CO2.')"
      ]
    },
    {
      "cell_type": "markdown",
      "id": "eb6dfc54",
      "metadata": {
        "id": "eb6dfc54"
      },
      "source": [
        "# Pregunta 10"
      ]
    },
    {
      "cell_type": "markdown",
      "id": "5862817e",
      "metadata": {
        "id": "5862817e"
      },
      "source": [
        "Para sólo 'Costa Rica' y suponiendo que las emisiones se estancan a partir del último año reportado. Cuántas son las emisiones en 'Kg' sólo para Costa Rica en el año 2022 usando el dataframe 'df_emisions_co2'?\n"
      ]
    },
    {
      "cell_type": "code",
      "execution_count": null,
      "id": "76ed009c",
      "metadata": {
        "id": "76ed009c"
      },
      "outputs": [
        {
          "name": "stdout",
          "output_type": "stream",
          "text": [
            "Costa Rica produciría un total de 7584395.79 kg en emisiones de CO2 para 2022.\n"
          ]
        }
      ],
      "source": [
        "# Coloque el código que responda a la pregunta aqui exactamente lo que se pregunta\n",
        "\n",
        "def libras_a_kg (valor_libras):\n",
        "    valor_kg = valor_libras * 0.453592\n",
        "    return (valor_kg)\n",
        "\n",
        "ultimo_anio_reportado_CR = df_emisions_co2['Year'].max()\n",
        "    \n",
        "emisions_co2_costa_rica_2022_ton = df_emisions_co2[(df_emisions_co2['Country'] == 'Costa Rica') & (df_emisions_co2['Year'] == ultimo_anio_reportado_CR)]\n",
        "\n",
        "total_emisions_costa_rica_2022_ton = emisions_co2_costa_rica_2022_ton['Value'].sum()\n",
        "\n",
        "total_emisions_costa_rica_lib_2022 = toneladas_a_libras(total_emisions_costa_rica_2022_ton)\n",
        "total_emisions_costa_rica_kg_2022 = libras_a_kg (total_emisions_costa_rica_lib_2022)\n",
        "\n",
        "print (f'Costa Rica produciría un total de {total_emisions_costa_rica_kg_2022:.2f} kg en emisiones de CO2 para 2022.')"
      ]
    },
    {
      "cell_type": "markdown",
      "id": "1c18874b",
      "metadata": {
        "id": "1c18874b"
      },
      "source": [
        "# Pregunta 12"
      ]
    },
    {
      "cell_type": "markdown",
      "id": "6a487c43",
      "metadata": {
        "id": "6a487c43"
      },
      "source": [
        "Para sólo los países de Centroamérica ['El Salvador', 'Honduras', 'Guatemala', 'Costa Rica', 'Nicaragua'] obtener un reporte por año de las emisiones totales en Centroamérica usando el dataframe 'df_emisions_co2'?\n",
        "Se espera un dataframe de 2 columnas: 'Year' y 'total_por_año'"
      ]
    },
    {
      "cell_type": "code",
      "execution_count": null,
      "id": "1d0426bf",
      "metadata": {
        "id": "1d0426bf"
      },
      "outputs": [
        {
          "name": "stdout",
          "output_type": "stream",
          "text": [
            "   Year  Total por Año\n",
            "0  1975       9860.972\n",
            "1  1985      10250.333\n",
            "2  1995      20960.234\n",
            "3  2005      33562.291\n",
            "4  2010      34533.555\n",
            "5  2015      43107.376\n",
            "6  2016      44366.072\n",
            "7  2017      43556.261\n"
          ]
        }
      ],
      "source": [
        "# Coloque el código que responda a la pregunta aqui exactamente lo que se pregunta\n",
        "\n",
        "emisions_co2_centroamerica = df_emisions_co2[df_emisions_co2['Country'].isin(['El Salvador', 'Honduras', 'Guatemala', 'Costa Rica', 'Nicaragua'])]\n",
        "\n",
        "emisiones_por_anio_centroamerica = emisions_co2_centroamerica.groupby('Year')['Value'].sum().reset_index()\n",
        "\n",
        "emisiones_por_anio_centroamerica = emisiones_por_anio_centroamerica.rename(columns={'Value': 'Total por Año'})\n",
        "\n",
        "print(emisiones_por_anio_centroamerica[['Year', 'Total por Año']])"
      ]
    },
    {
      "cell_type": "markdown",
      "id": "8fdaae3d",
      "metadata": {
        "id": "8fdaae3d"
      },
      "source": [
        "# Pregunta 13"
      ]
    },
    {
      "cell_type": "markdown",
      "id": "8a7e17ff",
      "metadata": {
        "id": "8a7e17ff"
      },
      "source": [
        "Para sólo los países de Centroamérica ['El Salvador', 'Honduras', 'Guatemala', 'Costa Rica', 'Nicaragua'] obtener un reporte por año de las emisiones en promedio en Centroamérica usando el dataframe 'df_emisions_co2_per_capita'?\n",
        "Se espera un dataframe de 2 columnas: 'Year' y 'promedio_por_año'"
      ]
    },
    {
      "cell_type": "code",
      "execution_count": null,
      "id": "4ec787f4",
      "metadata": {
        "id": "4ec787f4"
      },
      "outputs": [
        {
          "name": "stdout",
          "output_type": "stream",
          "text": [
            "   Year  Promedio por Año\n",
            "0  1975            0.5690\n",
            "1  1985            0.4620\n",
            "2  1995            0.7626\n",
            "3  2005            0.9720\n",
            "4  2010            0.9538\n",
            "5  2015            1.0572\n",
            "6  2016            1.0720\n",
            "7  2017            1.0422\n"
          ]
        }
      ],
      "source": [
        "# Coloque el código que responda a la pregunta aqui exactamente lo que se pregunta\n",
        "\n",
        "emisions_co2_centroamerica_per_capita = df_emisions_co2_per_capita[df_emisions_co2_per_capita['Country'].isin(['El Salvador', 'Honduras', 'Guatemala', 'Costa Rica', 'Nicaragua'])]\n",
        "\n",
        "emisiones_por_anio_centroamerica_prom = emisions_co2_centroamerica_per_capita.groupby('Year')['Value'].mean().reset_index()\n",
        "\n",
        "emisiones_por_anio_centroamerica_prom = emisiones_por_anio_centroamerica_prom.rename(columns={'Value': 'Promedio por Año'})\n",
        "\n",
        "print(emisiones_por_anio_centroamerica_prom[['Year', 'Promedio por Año']])"
      ]
    },
    {
      "cell_type": "markdown",
      "id": "944ac865",
      "metadata": {
        "id": "944ac865"
      },
      "source": [
        "# Pregunta 14"
      ]
    },
    {
      "cell_type": "markdown",
      "id": "b961da55",
      "metadata": {
        "id": "b961da55"
      },
      "source": [
        "Cuál es el promedio de las emisiones per capita para el año 2005 usando el dataframe 'df_emisions_co2_per_capita'?\n"
      ]
    },
    {
      "cell_type": "code",
      "execution_count": null,
      "id": "e2f0a786",
      "metadata": {
        "id": "e2f0a786"
      },
      "outputs": [
        {
          "name": "stdout",
          "output_type": "stream",
          "text": [
            "El promedio de las emisiones per capita para el año 2005 fue de 5.30.\n"
          ]
        }
      ],
      "source": [
        "# Coloque el código que responda a la pregunta aqui exactamente lo que se pregunta\n",
        "\n",
        "emisions_co2_per_capita_2005 = df_emisions_co2_per_capita[(df_emisions_co2_per_capita['Year'] == 2005)]\n",
        "mean_emisions_co2_per_capita_2005 = emisions_co2_per_capita_2005['Value'].mean()\n",
        "\n",
        "print (f'El promedio de las emisiones per capita para el año 2005 fue de {mean_emisions_co2_per_capita_2005:.2f}.')"
      ]
    }
  ],
  "metadata": {
    "colab": {
      "provenance": []
    },
    "kernelspec": {
      "display_name": "Python 3",
      "language": "python",
      "name": "python3"
    },
    "language_info": {
      "codemirror_mode": {
        "name": "ipython",
        "version": 3
      },
      "file_extension": ".py",
      "mimetype": "text/x-python",
      "name": "python",
      "nbconvert_exporter": "python",
      "pygments_lexer": "ipython3",
      "version": "3.12.8"
    }
  },
  "nbformat": 4,
  "nbformat_minor": 5
}
