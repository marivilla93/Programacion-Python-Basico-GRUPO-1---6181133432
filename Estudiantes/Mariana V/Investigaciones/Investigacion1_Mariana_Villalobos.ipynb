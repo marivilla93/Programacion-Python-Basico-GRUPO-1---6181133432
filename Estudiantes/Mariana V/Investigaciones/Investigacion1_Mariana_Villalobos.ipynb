{
 "cells": [
  {
   "cell_type": "markdown",
   "metadata": {},
   "source": [
    "# 📖 **Investigación: Exploración Teórica y Aplicación Práctica de las Funciones en Python**  \n",
    "**Curso:** Programación Python Básico  \n",
    "**Estudiante:** Mariana Villalobos Vargas  \n",
    "**Profesor:** Andrés Mena \n",
    "\n",
    "## Sección 1:\n",
    "### **📌Introducción**  \n",
    ">  \n",
    ">📋 **Objetivo**: Este notebook analiza el uso de funciones en Python, destacando su importancia en la programación modular y su impacto en la eficiencia del código.\n",
    "<p style=\"text-align: justify;\">\n",
    "El lenguaje de programación Python es ampliamente utilizado por empresas de todo el mundo para construir aplicaciones web, analizar datos, automatizar operaciones y crear aplicaciones confiables.\n",
    "La modularidad en Python se refiere a la división de un programa en módulos más pequeños y manejables, ya que estos son fragmentos de código que se pueden mantener por separado. Esto facilita la creación y el mantenimiento de programas complejos, de manera que el código se divide en partes más pequeñas y fáciles de manejar.\n",
    "</p>\n",
    "\n",
    "**El uso de funciones** en Python permite que el código pueda ser utilizado en muchos sitios, de manera que modificarlo es más sencillo; a esto se le conoce como el **principio de reusabilidad**. Las funciones agrupan fragmentos de códigos con funciones específicas, lo que evita escribir códigos largos y complejos, haciendo el código más fácil de leer; a esto se le conoce como el **principio de modularidad**."
   ]
  },
  {
   "cell_type": "markdown",
   "metadata": {},
   "source": [
    "## Sección 2:\n",
    "### **🔍 Investigación y ejemplos**\n",
    "\n",
    "#### 📝 Definición y Propósito de las Funciones en Python\n",
    "☑️ **¿Qué son las funciones?**\n",
    "- Las funciones son un conjunto de instrucciones que pueden ser ejecutadas repetidamente dentro de un código. Permiten realizar diferentes operaciones con una entrada, para obtener una determinada salida, dependiendo del código que sea escrito dentro de ella.\n",
    "\n",
    "☑️ **Beneficios de modularizar el código con funciones:**\n",
    "\n",
    "- Facilitan la creación y modificación del código.\n",
    "- Permiten la reutilización.\n",
    "- Mejoran la legibilidad del código.\n",
    "- Organizan el código de manera eficiente.\n",
    "\n",
    "☑️ **Importancia de la reutilización del código:**\n",
    "\n",
    "- Elimina la repetición de instrucciones, haciendo el código más \"limpio\".\n",
    "- Facilita el mantenimiento y la modificación del código, ya que es más fácil de comprender.\n",
    "- Ahorra tiempo al evitar la duplicación de código, esto reduce el tiempo que invertimos creándolo o modificándolo.\n",
    "\n"
   ]
  },
  {
   "cell_type": "code",
   "execution_count": null,
   "metadata": {},
   "outputs": [
    {
     "name": "stdout",
     "output_type": "stream",
     "text": [
      "¡Bienvenidos al curso!\n"
     ]
    }
   ],
   "source": [
    "#Ejemplo de función básica\n",
    "\n",
    "def bienvenida():\n",
    "    print(\"¡Bienvenidos al curso!\")\n",
    "    \n",
    "bienvenida()"
   ]
  },
  {
   "cell_type": "markdown",
   "metadata": {},
   "source": [
    "#### 📝 Tipos de Funciones en Python\n",
    "☑️ **Funciones con y sin retorno**\n",
    "- Con retorno: Reciben parámetros de entrada y dan un valor de resultado con la palabra clave *\"return\"*. El valor obtenido puede ser utilizado posteriormente en el código.\n",
    "- Sin retorno: Realizan una tarea, que es ejecutada por el programa, pero no devuelven ningún valor, por lo que no puede ser utilizado posteriormente."
   ]
  },
  {
   "cell_type": "code",
   "execution_count": null,
   "metadata": {},
   "outputs": [
    {
     "name": "stdout",
     "output_type": "stream",
     "text": [
      "El valor con el descuento es: 900.0\n",
      "Mariana\n"
     ]
    }
   ],
   "source": [
    "# Ejemplo de funciones:\n",
    "#Con retorno:\n",
    "\n",
    "def calcular_porcentaje(valor, porcentaje):\n",
    "    return (valor * porcentaje) / 100\n",
    "\n",
    "resultado= calcular_porcentaje(1800, 50)\n",
    "print ('El valor con el descuento es:', resultado)\n",
    "\n",
    "#Sin retorno\n",
    "\n",
    "def nombre_estudiante(nombre):\n",
    "    print(nombre)\n",
    "nombre_estudiante('Mariana')"
   ]
  },
  {
   "cell_type": "markdown",
   "metadata": {},
   "source": [
    "☑️ **Funciones con parámetros y valores predeterminados**\n",
    "- Son funciones a las que se les asigna valores predeterminados, de manera que son más simples de utilizar, ya que no hay que proporcionar los argumentos al llamar la función."
   ]
  },
  {
   "cell_type": "code",
   "execution_count": null,
   "metadata": {},
   "outputs": [
    {
     "name": "stdout",
     "output_type": "stream",
     "text": [
      "El auto de la empresa es un Toyota año 2018\n"
     ]
    }
   ],
   "source": [
    "#Ejemplo de funciones con valores predeterminados:\n",
    "\n",
    "def info_auto(marca='Toyota', anio=2018):\n",
    "    print(f\"El auto de la empresa es un {marca} año {anio}\")\n",
    "    \n",
    "info_auto()"
   ]
  },
  {
   "cell_type": "markdown",
   "metadata": {},
   "source": [
    "☑️ **Uso de *args* y *kwargs*.**\n",
    "- *args*: \n",
    "    Esto se utiliza cuando no sabemos cuántos argumentos va a tener una función, es decir, el número de argumentos es variable y los argumentos son posicionales. Estos argumentos se recogen como una *tupla*. Se deben llamar con un asterisco previo (*).\n",
    "- *kwargs*: \n",
    "    Funciona similar a los args, pero en vez de una tupla, se recoge como un *diccionario*. Es decir, se obtienen argumentos con nombre (palabra clave). Se deben llamar con doble asterisco previo (**)."
   ]
  },
  {
   "cell_type": "code",
   "execution_count": null,
   "metadata": {},
   "outputs": [
    {
     "data": {
      "text/plain": [
       "5"
      ]
     },
     "execution_count": 17,
     "metadata": {},
     "output_type": "execute_result"
    }
   ],
   "source": [
    "#Ejemplo de arg:\n",
    "\n",
    "def suma(*args):\n",
    "    return sum(args)\n",
    "\n",
    "suma(4, 1, 0)"
   ]
  },
  {
   "cell_type": "code",
   "execution_count": null,
   "metadata": {},
   "outputs": [
    {
     "name": "stdout",
     "output_type": "stream",
     "text": [
      "nombre: Mariana\n",
      "apellido: Villalobos\n",
      "provincia: Heredia\n"
     ]
    }
   ],
   "source": [
    "#Ejemplo de kwarg:\n",
    "\n",
    "def datos_persona(**kwargs):\n",
    "    for clave, valor in kwargs.items():\n",
    "        print(f\"{clave}: {valor}\")\n",
    "\n",
    "datos_persona(nombre=\"Mariana\", apellido='Villalobos', provincia=\"Heredia\")"
   ]
  },
  {
   "cell_type": "markdown",
   "metadata": {},
   "source": [
    "☑️ **Funciones anónimas (lambda)**\n",
    "- Son funciones que se utilizan para tareas simples, donde no es necesaria una función completa. Está defininda como *lambda argument: expression*. Se crea una función corta localmente, sin nombre."
   ]
  },
  {
   "cell_type": "code",
   "execution_count": null,
   "metadata": {},
   "outputs": [
    {
     "name": "stdout",
     "output_type": "stream",
     "text": [
      "True\n"
     ]
    }
   ],
   "source": [
    "#Ejemplo función anónima:\n",
    "\n",
    "cuadrado = lambda num: num * num\n",
    "print (cuadrado(9)==81)"
   ]
  },
  {
   "cell_type": "markdown",
   "metadata": {},
   "source": [
    "☑️ **Funciones recursivas**\n",
    "- Son funciones que pueden llamarse a sí mismas cuando se requieren solucionar subproblemas, cuando estos subproblemas son de la misma naturaleza.\n",
    "- Esta tiene dos secciones en el código: *la sección donde se llama a sí misma* y la sección donde *retorna sin volver a llamarse*."
   ]
  },
  {
   "cell_type": "code",
   "execution_count": null,
   "metadata": {},
   "outputs": [
    {
     "data": {
      "text/plain": [
       "21"
      ]
     },
     "execution_count": 26,
     "metadata": {},
     "output_type": "execute_result"
    }
   ],
   "source": [
    "#Ejemplo función recursiva, serie de Fibonacci: Esta serie calcula el elemento n sumando los dos anteriores n-1 + n-2.\n",
    "\n",
    "def fibonacci_recursivo(n):\n",
    "    if n == 0:\n",
    "        return 0\n",
    "    elif n == 1:\n",
    "        return 1\n",
    "    else:\n",
    "        return fibonacci_recursivo(n-1) + fibonacci_recursivo(n-2)\n",
    "\n",
    "fibonacci_recursivo(8)"
   ]
  },
  {
   "cell_type": "markdown",
   "metadata": {},
   "source": [
    "☑️ **Generadores (yield)**\n",
    "- Son funciones que crean iteradores. Utilizan la palabra clave *\"yield\"* para devolver un valor a la vez, suspender la ejecución de la función y retomar desde donde se dejó cuando se vuelve a invocar. \n",
    "- Esto permite crear secuencias de manera eficiente, sin necesidad de cargar todos los valores en memoria de una vez."
   ]
  },
  {
   "cell_type": "code",
   "execution_count": 33,
   "metadata": {},
   "outputs": [
    {
     "name": "stdout",
     "output_type": "stream",
     "text": [
      "0\n",
      "1\n",
      "4\n",
      "9\n"
     ]
    }
   ],
   "source": [
    "# Ejemplo de generador:\n",
    "def generar_cuadrados(n):\n",
    "    for i in range(n):\n",
    "        yield i ** 2\n",
    "\n",
    "generador = generar_cuadrados(4)   #Lo invoco para que lo genere y lo guarde en memoria\n",
    "\n",
    "for numero_cuadrado in generador: \n",
    "    print(numero_cuadrado)"
   ]
  },
  {
   "cell_type": "markdown",
   "metadata": {},
   "source": [
    "☑️ **Closures y decoradores**\n",
    "- *Closure*: Cuando una función interna usa una variable de una función externa, y esa variable sigue disponible incluso después de que la función externa haya terminado su ejecución (incluso si no está presente en la memoria).\n",
    "- *Decorador*: Una función que modifica el comportamiento de otras funciones."
   ]
  },
  {
   "cell_type": "code",
   "execution_count": null,
   "metadata": {},
   "outputs": [
    {
     "name": "stdout",
     "output_type": "stream",
     "text": [
      "15\n"
     ]
    }
   ],
   "source": [
    "# Ejemplo de closure:\n",
    "\n",
    "def multiplicador(factor):\n",
    "    def multiplicar(numero):\n",
    "        return numero * factor\n",
    "    return multiplicar\n",
    "\n",
    "multiplica_por_3 = multiplicador(3)\n",
    "\n",
    "# Usar la función generada por el closure\n",
    "print(multiplica_por_3(5))"
   ]
  },
  {
   "cell_type": "code",
   "execution_count": 37,
   "metadata": {},
   "outputs": [
    {
     "name": "stdout",
     "output_type": "stream",
     "text": [
      "Antes de ejecutar la función.\n",
      "¡Hola!\n",
      "Después de ejecutar la función.\n"
     ]
    }
   ],
   "source": [
    "# Ejemplo de decorador:\n",
    "\n",
    "def decorador(funcion):\n",
    "    def contenido():\n",
    "        print(\"Antes de ejecutar la función.\")\n",
    "        funcion()\n",
    "        print(\"Después de ejecutar la función.\")\n",
    "    return contenido\n",
    "\n",
    "# Aplicar el decorador\n",
    "@decorador\n",
    "def saludo():\n",
    "    print(\"¡Hola!\")\n",
    "    \n",
    "saludo()"
   ]
  },
  {
   "cell_type": "markdown",
   "metadata": {},
   "source": [
    "#### 📝 Aplicación de Funciones en Problemas Reales\n",
    "\n",
    "**🔸Aplicación en estructuras de datos**\n",
    "- Algunos ejemplos de aplicación de funciones en estructuras de datos es para hacer listas, en el caso de aplicaciones que requieran crear bases de datos con inputs de usuarios, o introducir desde la creación de estas bases, los elementos que conformarán esa lista."
   ]
  },
  {
   "cell_type": "code",
   "execution_count": 43,
   "metadata": {},
   "outputs": [
    {
     "name": "stdout",
     "output_type": "stream",
     "text": [
      "['Mariana', 'Emmanuel', 'Sebastián', 'Matías', 'Karina']\n"
     ]
    }
   ],
   "source": [
    "# Crear listas de estudiantes:\n",
    "\n",
    "def lista_estudiantes(*nombres_estudiantes):\n",
    "    estudiantes = []  # Lista vacía\n",
    "    for nombre in nombres_estudiantes:\n",
    "        estudiantes.append(nombre)  # Agregar cada nombre de estudiante a la lista\n",
    "    return estudiantes\n",
    "\n",
    "# Se introducen los nombres de los estudiantes. Esto también puede pedirse al usuario mediante input.\n",
    "lista_de_estudiantes = lista_estudiantes(\"Mariana\", \"Emmanuel\", \"Sebastián\", \"Matías\", \"Karina\")\n",
    "\n",
    "# Mostrar la lista de estudiantes, en este caso es una lista de elementos tipo texto.\n",
    "print(lista_de_estudiantes)"
   ]
  },
  {
   "cell_type": "code",
   "execution_count": 49,
   "metadata": {},
   "outputs": [
    {
     "name": "stdout",
     "output_type": "stream",
     "text": [
      "{'Leche': 1250, 'Pan': 850, 'Arroz': 3200, 'Huevos': 500, 'Papa': 175}\n"
     ]
    }
   ],
   "source": [
    "# Función para crear un inventario de productos de supermercado con sus respectivos precios\n",
    "\n",
    "def crear_inventario():\n",
    "    inventario = {  # Ojo el uso de corchetes, en vez de paréntesis cuadrados, no se trata de una lista, sino un diccionario. También se puede hacer con input.\n",
    "        \"Leche\": 1250,\n",
    "        \"Pan\": 850,\n",
    "        \"Arroz\": 3200,\n",
    "        \"Huevos\": 500,\n",
    "        \"Papa\": 175\n",
    "    }\n",
    "    return inventario\n",
    "\n",
    "# Llamar a la función\n",
    "inventario_supermercado = crear_inventario()\n",
    "\n",
    "# Mostrar el inventario\n",
    "print(inventario_supermercado)"
   ]
  },
  {
   "cell_type": "code",
   "execution_count": 50,
   "metadata": {},
   "outputs": [
    {
     "name": "stdout",
     "output_type": "stream",
     "text": [
      "El monto total de la compra es: ₡8600\n"
     ]
    }
   ],
   "source": [
    "#Podemos, con el inventario creado, crear una lista para ir multiplicando lo que se compra y obtener el monto total:\n",
    "\n",
    "def calcular_total(inventario, lista_compras):\n",
    "    total = 0\n",
    "    for producto, cantidad in lista_compras:\n",
    "        if producto in inventario:\n",
    "            total += inventario[producto] * cantidad  # Multiplicar precio por cantidad\n",
    "    return total\n",
    "\n",
    "# Lista de compras (producto, cantidad)\n",
    "compras_cliente = [(\"Leche\", 3), (\"Pan\", 1), (\"Huevos\", 8)]\n",
    "\n",
    "# Calcular el monto total\n",
    "total_compra = calcular_total(inventario_supermercado, compras_cliente)\n",
    "\n",
    "# Mostrar el monto total\n",
    "print(f\"El monto total de la compra es: ₡{round(total_compra)}\")"
   ]
  },
  {
   "cell_type": "markdown",
   "metadata": {},
   "source": [
    "**🔸Uso de funciones en procesamiento de datos.**\n",
    "- Python puede ser utilizado para el procesamiento de datos: \n",
    "    - Por ejemplo en datos demográficos, cuando se requiere obtener información sobre la población con la que se está trabajando.\n",
    "    - Cuando se trabaja con datos obtenidos por instrumentos, como valores de temperatura de un medidor y necesitamos trabajar con los datos obtenidos.\n",
    "    - En muchas otras aplicaciones para obtener resultados a partir de colecciones de datos."
   ]
  },
  {
   "cell_type": "code",
   "execution_count": null,
   "metadata": {},
   "outputs": [
    {
     "name": "stdout",
     "output_type": "stream",
     "text": [
      "Media de edades: 32.71\n",
      "Edad máxima: 50\n",
      "Edad mínima: 19\n"
     ]
    }
   ],
   "source": [
    "# Función para calcular la media\n",
    "def calcular_media(datos):\n",
    "    return sum(datos) / len(datos)\n",
    "\n",
    "# Función para encontrar el valor máximo\n",
    "def valor_maximo(datos):\n",
    "    return max(datos)\n",
    "\n",
    "# Función para encontrar el valor mínimo\n",
    "def valor_minimo(datos):\n",
    "    return min(datos)\n",
    "\n",
    "# Datos de ejemplo: lista de edades de una base de datos de personas muestreadas para un estudio.\n",
    "edades = [22, 34, 19, 45, 28, 50, 31]\n",
    "\n",
    "# Procesar los datos\n",
    "media_edades = calcular_media(edades)\n",
    "max_edades = valor_maximo(edades)\n",
    "min_edades = valor_minimo(edades)\n",
    "\n",
    "# Mostrar los resultados\n",
    "print(f\"Media de edades: {media_edades:.2f}\")\n",
    "print(f\"Edad máxima: {max_edades}\")\n",
    "print(f\"Edad mínima: {min_edades}\")"
   ]
  },
  {
   "cell_type": "markdown",
   "metadata": {},
   "source": [
    "**🔸Optimización del rendimiento con funciones.**\n",
    "- Las funciones son útiles para mejorar la velocidad de ejecución y la eficiencia del código, especialmente en programas grandes o con grandes volúmenes de datos.\n",
    "-  Reduce el consumo de recursos informáticos, de manera que hace el programa más eficiente y rápido.\n",
    "- Es más sencillo identificar y mejorar las secciones más ineficientes.\n",
    "- Acelera la ejecución del programa"
   ]
  },
  {
   "cell_type": "code",
   "execution_count": 53,
   "metadata": {},
   "outputs": [
    {
     "name": "stdout",
     "output_type": "stream",
     "text": [
      "Suma no optimizada: 55\n",
      "Suma optimizada: 55\n"
     ]
    }
   ],
   "source": [
    "# Lista de números\n",
    "numeros = [1, 2, 3, 4, 5, 6, 7, 8, 9, 10]\n",
    "\n",
    "# Ejemplo de función no optimizada:\n",
    "\n",
    "def suma_no_optimizada(numeros):\n",
    "    total = 0\n",
    "    for numero in numeros:\n",
    "        total += numero\n",
    "    return total\n",
    "\n",
    "# Calcular la suma\n",
    "resultado = suma_no_optimizada(numeros)\n",
    "print(f\"Suma no optimizada: {resultado}\")\n",
    "\n",
    "# Ejemplo de función optimizada:\n",
    "\n",
    "def suma_optimizada(numeros):\n",
    "    return sum(numeros)\n",
    "\n",
    "# Calcular la suma\n",
    "resultado_optimizado = suma_optimizada(numeros)\n",
    "print(f\"Suma optimizada: {resultado_optimizado}\")"
   ]
  },
  {
   "cell_type": "markdown",
   "metadata": {},
   "source": [
    "**🔸Comparación entre funciones definidas por el usuario y funciones integradas (len(), sum(), etc.).**\n",
    "- Funciones integradas (también llamadas *funciones nativas* o *built-in functions*): \n",
    "    - Ya están predefinidas en el lenguaje y se pueden usar directamente, sin tener que trabajar en ellas. \n",
    "    - Están optimizadas y son parte esencial del lenguaje del programa.\n",
    "    - Son diseñadas para facilitar tareas comunes y rutinarias.\n",
    "- Funciones definidas por el usuario:\n",
    "    - El usuario las crea para realizar tareas específicas en el programa.\n",
    "    - Se definene con la palabra clave *def* y se pueden personalizar y adaptar a la tarea que se quiera realizar.\n",
    "    - Pueden ser tan sencillas o tan complejas como el usuario lo desee. De preferencia, deben ser sencillas para que el código se mantenga sencillo y legible."
   ]
  },
  {
   "cell_type": "code",
   "execution_count": null,
   "metadata": {},
   "outputs": [
    {
     "name": "stdout",
     "output_type": "stream",
     "text": [
      "La suma de los números es: 15\n",
      "La longitud de la lista es: 5\n"
     ]
    }
   ],
   "source": [
    "# Ejemplos de funciones integradas para calcular la suma y la longitud de una lista\n",
    "numeros = [1, 2, 3, 4, 5]\n",
    "\n",
    "# Función integrada sum()\n",
    "total = sum(numeros)\n",
    "print(f\"La suma de los números es: {total}\")\n",
    "\n",
    "# Función integrada len()\n",
    "longitud = len(numeros)\n",
    "print(f\"La longitud de la lista es: {longitud}\")"
   ]
  },
  {
   "cell_type": "code",
   "execution_count": 58,
   "metadata": {},
   "outputs": [
    {
     "name": "stdout",
     "output_type": "stream",
     "text": [
      "La suma de los números impares es: 25\n"
     ]
    }
   ],
   "source": [
    "# Ejemplo de función definida por usuario\n",
    "# Usamos la función para calcular la suma de los impares de una lista de números.\n",
    "\n",
    "\n",
    "def sumar_impares(lista):\n",
    "    total = 0\n",
    "    for num in lista:\n",
    "        if num % 2 != 0:  # Verifica si el número es impar\n",
    "            total += num\n",
    "    return total\n",
    "\n",
    "# Lista de ejemplo\n",
    "numeros = [1, 2, 3, 4, 5, 6, 7, 8, 9, 10]\n",
    "resultado = sumar_impares(numeros)\n",
    "\n",
    "# Mostrar el resultado\n",
    "print(f\"La suma de los números impares es: {resultado}\")"
   ]
  },
  {
   "cell_type": "markdown",
   "metadata": {},
   "source": [
    "## Sección 3:\n",
    "### 📍 Conclusiones\n",
    "\n",
    "#### Hallazgos sobre teoría y práctica:\n",
    "    🔖 Python es un lenguaje útil para el almacenamiento y manejo de colecciones de datos, tanto pequeñas como grandes, gracias a su amplia gama de funciones integradas y la capacidad de crear funciones personalizadas para tareas específicas.\n",
    "    🔖 Python se caracteriza por su lenguaje intuitivo, lo que lo hace fácil de entender y usar, así como permite a otros usuarios entender códigos creados por otros usuarios.\n",
    "    🔖 Aunque existen tantas funciones como necesidades del usuario, es fundamental que el código se mantenga simple y optimizado para asegurar eficiencia y fácil mantenimiento.\n",
    "\n",
    "#### Análisis personal sobre el uso de funciones en Python:\n",
    "    ⭐️ Python es una herramienta útil, adaptada a la necesidad del usuario.\n",
    "    ⭐️ Para poder crear funciones, es vital comprender los diferentes componentes del código, de manera que se apliquen las funciones más sencillas cuando sea posible, haciendo el código lo más optimizado y eficiente posible.\n",
    "    ⭐️ Es necesario estar repasando y actualizándose en las funciones y aplicaciones de Python para tener a mano todas las herramientas necesarias para crear el mejor código posible.\n"
   ]
  },
  {
   "cell_type": "markdown",
   "metadata": {},
   "source": [
    "### 📚 Referencias\n",
    "\n",
    "- Learn Python:\n",
    "    - LearnPython.org. (n.d.). Learn Python. https://www.learnpython.org/\n",
    "\n",
    "- El Libro De Python:\n",
    "    - Cernadas, E. (n.d.). El libro de Python: Python para todos. Universidad de Santiago de Compostela. Recuperado de https://persoal.citius.usc.es/eva.cernadas/informaticaparacientificos/material/libros/Python%20para%20todos.pdf\n",
    "\n",
    "- Introduction to Closures and Decorators in Python:\n",
    "    - Finxter. (2025). An Introduction to Closures and Decorators in Python. Finxter Academy. Recuperado de https://academy.finxter.com/an-introduction-to-closures-and-decorators-in-python/\n",
    "    \n",
    "- Introduccion a la programacion en Python:\n",
    "    - Soto, A. (Año). Introducción a la programación en Python. Recuperado de https://adriansoto.cl/pdf/pythonbook.pdf"
   ]
  }
 ],
 "metadata": {
  "kernelspec": {
   "display_name": "Python 3",
   "language": "python",
   "name": "python3"
  },
  "language_info": {
   "codemirror_mode": {
    "name": "ipython",
    "version": 3
   },
   "file_extension": ".py",
   "mimetype": "text/x-python",
   "name": "python",
   "nbconvert_exporter": "python",
   "pygments_lexer": "ipython3",
   "version": "3.12.8"
  }
 },
 "nbformat": 4,
 "nbformat_minor": 2
}
