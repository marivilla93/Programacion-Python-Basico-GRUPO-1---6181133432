{
 "cells": [
  {
   "cell_type": "markdown",
   "metadata": {},
   "source": [
    "# Programación Orientada a Objetos (POO) en Python.\n",
    "## Autor: Mariana Villalobos Vargas\n",
    "### Fecha: 2025/02/06\n",
    "## 1. Introducción a la POO \n",
    "- ¿Qué es la POO? \n",
    "- Características principales \n",
    "- Comparación con la programación estructurada \n",
    "\n",
    "## 2. Conceptos Claves de la POO \n",
    "- Clases y Objetos \n",
    "- Atributos y Métodos \n",
    "- Encapsulamiento \n",
    "- Herencia \n",
    "- Polimorfismo \n",
    "\n",
    "## 3. Ejemplos Prácticos de cada Concepto \n",
    "- Definir una clase simple \n",
    "- Crear y manipular objetos \n",
    "- Aplicar herencia y polimorfismo \n",
    "\n",
    "## 4. Desarrollo de un Proyecto Aplicado \n",
    "- Descripción del proyecto \n",
    "- Implementación paso a paso \n",
    "\n",
    "--- \n",
    "\n",
    "## 🟢 1. Introducción a la POO \n",
    "La **Programación Orientada a Objetos (POO)** es un paradigma de programación basado en la idea de modelar entidades del mundo real a través de **objetos**. \n",
    "\n",
    "### ✅ Características clave de la POO: \n",
    "- **Abstracción:** Modela objetos del mundo real en código. \n",
    "- **Encapsulamiento:** Protege los datos y métodos dentro de una clase. \n",
    "- **Herencia:** Permite reutilizar código mediante la relación padre-hijo. \n",
    "- **Polimorfismo:** Usa el mismo método con diferentes implementaciones. \n",
    "\n",
    "### 📌 Diferencia entre programación estructurada y POO: \n",
    "\n",
    "| Característica | Programación Estructurada | Programación Orientada a Objetos | \n",
    "|---------------------|------------------------|--------------------------------| \n",
    "| **Organización** | Basada en funciones | Basada en clases y objetos | \n",
    "| **Reutilización** | Baja | Alta | \n",
    "| **Mantenimiento** | Más complejo | Más modular y escalable | \n",
    "\n",
    "## 🟡 2. Conceptos Claves de la POO en Python\n",
    "### 📌 Clases y Objetos\n",
    "En Python, una clase es un *modelo* que define la estructura y comportamiento de un objeto. Un objeto es una instancia de una clase."
   ]
  },
  {
   "cell_type": "code",
   "execution_count": 17,
   "metadata": {},
   "outputs": [
    {
     "name": "stdout",
     "output_type": "stream",
     "text": [
      "El 2884402363088 tiene el atributo nombre como Mariana Villalobos\n",
      "El 2884401785376 tiene el atributo nombre como Emmanuel Alfaro\n",
      "El 2884401744448 tiene el atributo nombre como Andres Mena\n"
     ]
    }
   ],
   "source": [
    "#Cómo crear una clase\n",
    "class Persona:\n",
    "    def __init__(self, name, age):\n",
    "        self.nombre= name\n",
    "        self.edad= age\n",
    "           \n",
    "estudiante = Persona(\"Mariana Villalobos\", 32)\n",
    "estudiante2=Persona(\"Emmanuel Alfaro\", 28)\n",
    "profesor=Persona (\"Andres Mena\", 33)\n",
    "print (f'El {id(estudiante)} tiene el atributo nombre como {estudiante.nombre}')\n",
    "print (f'El {id(estudiante2)} tiene el atributo nombre como {estudiante2.nombre}')\n",
    "print (f'El {id(profesor)} tiene el atributo nombre como {profesor.nombre}')"
   ]
  },
  {
   "cell_type": "code",
   "execution_count": 19,
   "metadata": {},
   "outputs": [
    {
     "name": "stdout",
     "output_type": "stream",
     "text": [
      "El 2884402343680 tiene el atributo nombre como Mariana Villalobos\n",
      "El 2884402346608 tiene el atributo nombre como Aaron Chinchilla\n",
      "El 2884401211744 tiene el atributo nombre como Andres Mena\n"
     ]
    }
   ],
   "source": [
    "class Persona:\n",
    "    def __init__(self):\n",
    "        self.nombre= input(\"Ingrese su nombre: \")\n",
    "        self.edad= int(input(\"Ingrese su edad: \"))\n",
    "           \n",
    "estudiante = Persona ()\n",
    "estudiante2=Persona ()\n",
    "profesor=Persona ()\n",
    "print (f'El {id(estudiante)} tiene el atributo nombre como {estudiante.nombre}')\n",
    "print (f'El {id(estudiante2)} tiene el atributo nombre como {estudiante2.nombre}')\n",
    "print (f'El {id(profesor)} tiene el atributo nombre como {profesor.nombre}')"
   ]
  },
  {
   "cell_type": "code",
   "execution_count": null,
   "metadata": {},
   "outputs": [],
   "source": [
    "#Como crear una clase\n",
    "class Persona:\n",
    "    def __init__(self,nombre,age):\n",
    "        self.nombre = nombre\n",
    "        self.edad = age\n",
    "        self.activo = True\n",
    "        self.materias = []\n",
    "\n",
    "\n",
    "    def saludar(self): #Método\n",
    "        if self.activo:\n",
    "            print(f'Hola, mi nombre es {self.nombre} y tengo {self.edad} años')\n",
    "        else:\n",
    "            print(f'Este objeto {self.nombre}  no puede saludar, porque esta declarado como Inactivo')\n",
    "    def imprimir_materias(self):\n",
    "        print(*self.materias) \n",
    "    \n",
    "estudiante = Persona('Emmanuel Alfaro',28)\n",
    "estudiante2 = Persona('Mariana Villalobos', 25)\n",
    "profesor = Persona('Andrés Mena',33)\n",
    "\n",
    "\n",
    "\n",
    "\n",
    "print (f'El objetos {id(estudiante)} tiene el atributo nombre como {estudiante.nombre}')\n",
    "print (f'El objetos {id(estudiante2)} tiene el atributo nombre como {estudiante2.nombre}')\n",
    "print (f'El objetos {id(profesor)} tiene el atributo nombre como {profesor.nombre}')\n",
    "\n",
    "\n",
    "#Llamada a un método de la clase\n",
    "estudiante.saludar()\n",
    "estudiante.materias = ['Matematicas','Historia','Biologia']\n",
    "estudiante.imprimir_materias()\n",
    "\n",
    "\n",
    "\n",
    "profesor.activo = False\n",
    "profesor.imprimir_materias()\n",
    "profesor.saludar()"
   ]
  },
  {
   "cell_type": "markdown",
   "metadata": {},
   "source": [
    "### 📌 Clases y Objetos\n",
    "Los atributos representan las propiedades de un objeto, y los métodos son las funciones que definen su comportamiento."
   ]
  },
  {
   "cell_type": "code",
   "execution_count": null,
   "metadata": {},
   "outputs": [
    {
     "data": {
      "text/plain": [
       "2018"
      ]
     },
     "execution_count": 21,
     "metadata": {},
     "output_type": "execute_result"
    }
   ],
   "source": [
    "class Coche:\n",
    "    def __init__(self,marca,placa,anio):\n",
    "        self.marca=marca\n",
    "        self.placa=placa\n",
    "        self.anio=anio\n",
    "        self.encedido=True #Estáticos, no hay que ponerlos en paréntesis. EL constructor me da el valor\n",
    "        self.fallas=[]\n",
    "        \n",
    "mi_carro=Coche ('BPL015','Toyota',2018)\n",
    "mi_carro_trabajo= Coche('BFJ216', 'Hyundai', 2010)\n",
    "carro_empresa= Coche('AGB098', 'Geely',2022)\n",
    "       "
   ]
  },
  {
   "cell_type": "code",
   "execution_count": 22,
   "metadata": {},
   "outputs": [
    {
     "name": "stdout",
     "output_type": "stream",
     "text": [
      "\n",
      "El carro matricúla 123ASD, marca Mitsubichi Lancer\n",
      "---- REPORTE DE FALLAS----\n",
      "Fuga de aceite\n",
      "\n",
      "El carro matricúla QWERTY, marca Toyota Hilux\n",
      "---- REPORTE DE FALLAS----\n"
     ]
    }
   ],
   "source": [
    "class carro:\n",
    "    def __init__(self,num_matricula,modelo,marca):\n",
    "        self.matricula = num_matricula\n",
    "        self.modelo = modelo\n",
    "        self.marca = marca\n",
    "        self.ecendido = True #Estáticos\n",
    "        self.fallas = []\n",
    "        \n",
    "    def reporte_fallas(self):\n",
    "        self.fallas.append(input(\"Ingrese el detalla del reporte de la falla: \"))\n",
    "        \n",
    "    def reporte_estado(self):\n",
    "        print(f'\\nEl carro matricúla {self.matricula}, marca {self.marca}')\n",
    "        print('---- REPORTE DE FALLAS----')\n",
    "        for elemento in self.fallas:\n",
    "            print(elemento)\n",
    "    \n",
    "mi_carro = carro('123ASD',2017,'Mitsubichi Lancer')\n",
    "mi_carro_trabajo = carro('QWERTY',2025,'Toyota Hilux')\n",
    "\n",
    "mi_carro.reporte_fallas()\n",
    "mi_carro.reporte_estado()\n",
    "\n",
    "mi_cochera = [mi_carro,mi_carro_trabajo] \n",
    "\n",
    "mi_carro_trabajo.reporte_estado()"
   ]
  },
  {
   "cell_type": "markdown",
   "metadata": {},
   "source": [
    "# 📝 Ejercicios POO en Python\n",
    "## 📌 Ejercicio 1: Calculadora de Descuento\n",
    "### 📍 Objetivo: Crear una clase que calcule el precio final de un producto aplicando un descuento.\n",
    "\n",
    "🔹 Instrucciones:\n",
    "Crear una clase llamada Producto con los siguientes atributos:\n",
    "- nombre (nombre del producto)\n",
    "- precio (precio original del producto)\n",
    "- descuento (porcentaje de descuento en decimal, por ejemplo, 0.2 para 20%)\n",
    "- Implementar un método llamado precio_final() que retorne el precio con el descuento aplicado.\n",
    "- Crear un objeto de la clase con un producto de tu elección y mostrar el precio final.\n",
    "\n",
    "🔹 Ejemplo de uso esperado:\n",
    "mi_producto = Producto(\"Zapatos\", 50.0, 0.15) \n",
    "print(f\"El precio final de {mi_producto.nombre} es: ${mi_producto.precio_final()}\")"
   ]
  },
  {
   "cell_type": "code",
   "execution_count": 46,
   "metadata": {},
   "outputs": [
    {
     "name": "stdout",
     "output_type": "stream",
     "text": [
      "El precio final de Tomate es $ 665.0\n",
      "El precio final de Lechuga es $ 1125.0\n"
     ]
    }
   ],
   "source": [
    "class Producto:\n",
    "    def __init__(self,name,price,discount):\n",
    "        self.name= name\n",
    "        self.price= price\n",
    "        self.discount= discount\n",
    "        \n",
    "    def precio_final(self):\n",
    "        print(f'El precio final de {self.name} es $', self.price -(self.price * self.discount))\n",
    "\n",
    "producto1 = Producto ('Tomate', 950, 0.3)\n",
    "producto2= Producto ('Lechuga', 1250, 0.1)\n",
    "\n",
    "producto1.precio_final()\n",
    "producto2.precio_final()\n",
    "\n"
   ]
  },
  {
   "cell_type": "markdown",
   "metadata": {},
   "source": [
    "# 📌 Ejercicio 2: Registro de Estudiantes\n",
    "## 📍 Objetivo: Crear una clase para almacenar información de estudiantes y mostrar sus datos.\n",
    "\n",
    "### 🔹 Instrucciones:\n",
    "Crear una clase llamada Estudiante con los siguientes atributos:\n",
    "\n",
    "-nombre\n",
    "-edad\n",
    "-grado\n",
    "\n",
    "Implementar un método llamado mostrar_info() que imprima la información del estudiante en un formato legible.\n",
    "\n",
    "Crear dos instancias de la clase Estudiante y llamar al método mostrar_info() en cada una."
   ]
  },
  {
   "cell_type": "code",
   "execution_count": 48,
   "metadata": {},
   "outputs": [
    {
     "name": "stdout",
     "output_type": "stream",
     "text": [
      "\n",
      "Los datos del estudiante son: \n",
      "Nombre: Mariana Villalobos \n",
      "Edad:  30 \n",
      "Grado:  Primer grado\n",
      "\n",
      "Los datos del estudiante son: \n",
      "Nombre: Santiago Calivá \n",
      "Edad:  14 \n",
      "Grado:  Tercer grado\n"
     ]
    }
   ],
   "source": [
    "class Estudiante:\n",
    "    def __init__(self, name, age, grade):\n",
    "        self.nombre= name\n",
    "        self.edad=age\n",
    "        self.grado=grade\n",
    "    \n",
    "    def mostrar_info(self):\n",
    "        print(\"\\nLos datos del estudiante son:\", '\\nNombre:',self.nombre, '\\nEdad: ',self.edad, '\\nGrado: ', self.grado)\n",
    "        \n",
    "Estudiante1 = Estudiante ('Mariana Villalobos',30,'Primer grado')\n",
    "Estudiante2 = Estudiante ('Santiago Calivá',14,'Tercer grado')\n",
    "    \n",
    "Estudiante1.mostrar_info()\n",
    "Estudiante2.mostrar_info()\n"
   ]
  },
  {
   "cell_type": "markdown",
   "metadata": {},
   "source": [
    "### 📌 Encapsulamiento\n",
    "El encapsulamiento oculta detalles internos de un objeto para restringir el acceso a sus atributos.\n",
    "\n",
    "\n",
    "\n",
    "🔒 __saldo es un atributo privado, solo accesible desde métodos de la misma clase."
   ]
  },
  {
   "cell_type": "code",
   "execution_count": 60,
   "metadata": {},
   "outputs": [
    {
     "name": "stdout",
     "output_type": "stream",
     "text": [
      "La cuenta es de Kevin y tiene 450 dólares\n"
     ]
    }
   ],
   "source": [
    "class CuentaBancaria:\n",
    "    def __init__(self, titular, saldo):\n",
    "        self.titular = titular\n",
    "        self._saldo = saldo  # Atributo privado\n",
    "        \n",
    "cuenta_ahorros = CuentaBancaria('Kevin', 450)\n",
    "\n",
    "print(f'La cuenta es de {cuenta_ahorros.titular} y tiene {cuenta_ahorros._saldo} dólares')"
   ]
  },
  {
   "cell_type": "code",
   "execution_count": 63,
   "metadata": {},
   "outputs": [
    {
     "name": "stdout",
     "output_type": "stream",
     "text": [
      "El saldo de Andrés en la cuenta es: $550\n"
     ]
    }
   ],
   "source": [
    "class CuentaBancaria:\n",
    "    def __init__(self, titular, saldo):\n",
    "        self.titular = titular\n",
    "        self.__saldo = saldo  # Atributo privado\n",
    "    \n",
    "    def mostra_saldo(self):\n",
    "        print(f'El saldo de {self.titular} en la cuenta es: ${cuenta_ahorros.__saldo}')\n",
    "    \n",
    "    def depositar(self, cantidad):\n",
    "        self.__saldo += cantidad\n",
    "\n",
    "\n",
    "cuenta_ahorros = CuentaBancaria('Kevin', 450)\n",
    "\n",
    "\n",
    "cuenta_ahorros.titular = 'Andrés' #Modificar atributo público\n",
    "cuenta_ahorros.depositar(100)\n",
    "\n",
    "\n",
    "cuenta_ahorros.mostra_saldo()\n",
    "\n"
   ]
  },
  {
   "cell_type": "markdown",
   "metadata": {},
   "source": [
    "### 📌 Herencia\n",
    "La herencia permite que una clase hija herede atributos y métodos de una clase padre."
   ]
  },
  {
   "cell_type": "code",
   "execution_count": 73,
   "metadata": {},
   "outputs": [
    {
     "name": "stdout",
     "output_type": "stream",
     "text": [
      "hace Guau\n"
     ]
    }
   ],
   "source": [
    "class Animal:\n",
    "    def __init__(self, nombre):\n",
    "        self.nombre = nombre\n",
    "\n",
    "    def hacer_sonido(self):\n",
    "        return f\"{self.nombre} hace un sonido\"\n",
    "    \n",
    "class perro(Animal): #Clase hija, hereda atributos de clase madre (Animal)\n",
    "    def hacer_sonido(self):\n",
    "        return \"hace Guau\"\n",
    "\n",
    "Pancho= perro('Pancho')\n",
    "print(Pancho.hacer_sonido())\n"
   ]
  },
  {
   "cell_type": "markdown",
   "metadata": {},
   "source": [
    "### 📌 Polimorfismos\n",
    "El polimorfismo permite usar un mismo método con diferentes implementaciones."
   ]
  },
  {
   "cell_type": "code",
   "execution_count": 76,
   "metadata": {},
   "outputs": [
    {
     "name": "stdout",
     "output_type": "stream",
     "text": [
      "Poncho hace Guau\n",
      "Coco Miau\n"
     ]
    }
   ],
   "source": [
    "class gato(Animal): #Clase hija, hereda atributos de clase madre (Animal)\n",
    "    def hacer_sonido(self):\n",
    "        return \"Miau\"\n",
    "animales = [perro('Poncho'), gato('Coco')]\n",
    "\n",
    "for animal in animales:\n",
    "    print(animal.nombre, animal.hacer_sonido())"
   ]
  }
 ],
 "metadata": {
  "kernelspec": {
   "display_name": "Python 3",
   "language": "python",
   "name": "python3"
  },
  "language_info": {
   "codemirror_mode": {
    "name": "ipython",
    "version": 3
   },
   "file_extension": ".py",
   "mimetype": "text/x-python",
   "name": "python",
   "nbconvert_exporter": "python",
   "pygments_lexer": "ipython3",
   "version": "3.12.8"
  }
 },
 "nbformat": 4,
 "nbformat_minor": 2
}
