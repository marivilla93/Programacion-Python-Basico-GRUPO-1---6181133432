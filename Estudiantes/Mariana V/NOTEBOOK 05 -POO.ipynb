{
 "cells": [
  {
   "cell_type": "markdown",
   "metadata": {},
   "source": [
    "# Programación Orientada a Objetos (POO) en Python.\n",
    "## Autor: Mariana Villalobos Vargas\n",
    "### Fecha: 2025/02/06\n",
    "## 1. Introducción a la POO \n",
    "- ¿Qué es la POO? \n",
    "- Características principales \n",
    "- Comparación con la programación estructurada \n",
    "\n",
    "## 2. Conceptos Claves de la POO \n",
    "- Clases y Objetos \n",
    "- Atributos y Métodos \n",
    "- Encapsulamiento \n",
    "- Herencia \n",
    "- Polimorfismo \n",
    "\n",
    "## 3. Ejemplos Prácticos de cada Concepto \n",
    "- Definir una clase simple \n",
    "- Crear y manipular objetos \n",
    "- Aplicar herencia y polimorfismo \n",
    "\n",
    "## 4. Desarrollo de un Proyecto Aplicado \n",
    "- Descripción del proyecto \n",
    "- Implementación paso a paso \n",
    "\n",
    "--- \n",
    "\n",
    "## 🟢 1. Introducción a la POO \n",
    "La **Programación Orientada a Objetos (POO)** es un paradigma de programación basado en la idea de modelar entidades del mundo real a través de **objetos**. \n",
    "\n",
    "### ✅ Características clave de la POO: \n",
    "- **Abstracción:** Modela objetos del mundo real en código. \n",
    "- **Encapsulamiento:** Protege los datos y métodos dentro de una clase. \n",
    "- **Herencia:** Permite reutilizar código mediante la relación padre-hijo. \n",
    "- **Polimorfismo:** Usa el mismo método con diferentes implementaciones. \n",
    "\n",
    "### 📌 Diferencia entre programación estructurada y POO: \n",
    "\n",
    "| Característica | Programación Estructurada | Programación Orientada a Objetos | \n",
    "|---------------------|------------------------|--------------------------------| \n",
    "| **Organización** | Basada en funciones | Basada en clases y objetos | \n",
    "| **Reutilización** | Baja | Alta | \n",
    "| **Mantenimiento** | Más complejo | Más modular y escalable | \n",
    "\n",
    "## 🟡 2. Conceptos Claves de la POO en Python\n",
    "### 📌 Clases y Objetos\n",
    "En Python, una clase es un *modelo* que define la estructura y comportamiento de un objeto. Un objeto es una instancia de una clase."
   ]
  },
  {
   "cell_type": "code",
   "execution_count": 17,
   "metadata": {},
   "outputs": [
    {
     "name": "stdout",
     "output_type": "stream",
     "text": [
      "El 2884402363088 tiene el atributo nombre como Mariana Villalobos\n",
      "El 2884401785376 tiene el atributo nombre como Emmanuel Alfaro\n",
      "El 2884401744448 tiene el atributo nombre como Andres Mena\n"
     ]
    }
   ],
   "source": [
    "#Cómo crear una clase\n",
    "class Persona:\n",
    "    def __init__(self, name, age):\n",
    "        self.nombre= name\n",
    "        self.edad= age\n",
    "           \n",
    "estudiante = Persona(\"Mariana Villalobos\", 32)\n",
    "estudiante2=Persona(\"Emmanuel Alfaro\", 28)\n",
    "profesor=Persona (\"Andres Mena\", 33)\n",
    "print (f'El {id(estudiante)} tiene el atributo nombre como {estudiante.nombre}')\n",
    "print (f'El {id(estudiante2)} tiene el atributo nombre como {estudiante2.nombre}')\n",
    "print (f'El {id(profesor)} tiene el atributo nombre como {profesor.nombre}')"
   ]
  },
  {
   "cell_type": "code",
   "execution_count": 19,
   "metadata": {},
   "outputs": [
    {
     "name": "stdout",
     "output_type": "stream",
     "text": [
      "El 2884402343680 tiene el atributo nombre como Mariana Villalobos\n",
      "El 2884402346608 tiene el atributo nombre como Aaron Chinchilla\n",
      "El 2884401211744 tiene el atributo nombre como Andres Mena\n"
     ]
    }
   ],
   "source": [
    "class Persona:\n",
    "    def __init__(self):\n",
    "        self.nombre= input(\"Ingrese su nombre: \")\n",
    "        self.edad= int(input(\"Ingrese su edad: \"))\n",
    "           \n",
    "estudiante = Persona ()\n",
    "estudiante2=Persona ()\n",
    "profesor=Persona ()\n",
    "print (f'El {id(estudiante)} tiene el atributo nombre como {estudiante.nombre}')\n",
    "print (f'El {id(estudiante2)} tiene el atributo nombre como {estudiante2.nombre}')\n",
    "print (f'El {id(profesor)} tiene el atributo nombre como {profesor.nombre}')"
   ]
  },
  {
   "cell_type": "code",
   "execution_count": null,
   "metadata": {},
   "outputs": [],
   "source": [
    "#Como crear una clase\n",
    "class Persona:\n",
    "    def __init__(self,nombre,age):\n",
    "        self.nombre = nombre\n",
    "        self.edad = age\n",
    "        self.activo = True\n",
    "        self.materias = []\n",
    "\n",
    "\n",
    "    def saludar(self): #Método\n",
    "        if self.activo:\n",
    "            print(f'Hola, mi nombre es {self.nombre} y tengo {self.edad} años')\n",
    "        else:\n",
    "            print(f'Este objeto {self.nombre}  no puede saludar, porque esta declarado como Inactivo')\n",
    "    def imprimir_materias(self):\n",
    "        print(*self.materias) \n",
    "    \n",
    "estudiante = Persona('Emmanuel Alfaro',28)\n",
    "estudiante2 = Persona('Mariana Villalobos', 25)\n",
    "profesor = Persona('Andrés Mena',33)\n",
    "\n",
    "\n",
    "\n",
    "\n",
    "print (f'El objetos {id(estudiante)} tiene el atributo nombre como {estudiante.nombre}')\n",
    "print (f'El objetos {id(estudiante2)} tiene el atributo nombre como {estudiante2.nombre}')\n",
    "print (f'El objetos {id(profesor)} tiene el atributo nombre como {profesor.nombre}')\n",
    "\n",
    "\n",
    "#Llamada a un método de la clase\n",
    "estudiante.saludar()\n",
    "estudiante.materias = ['Matematicas','Historia','Biologia']\n",
    "estudiante.imprimir_materias()\n",
    "\n",
    "\n",
    "\n",
    "profesor.activo = False\n",
    "profesor.imprimir_materias()\n",
    "profesor.saludar()"
   ]
  },
  {
   "cell_type": "markdown",
   "metadata": {},
   "source": [
    "### 📌 Clases y Objetos\n",
    "Los atributos representan las propiedades de un objeto, y los métodos son las funciones que definen su comportamiento."
   ]
  },
  {
   "cell_type": "code",
   "execution_count": null,
   "metadata": {},
   "outputs": [
    {
     "data": {
      "text/plain": [
       "2018"
      ]
     },
     "execution_count": 21,
     "metadata": {},
     "output_type": "execute_result"
    }
   ],
   "source": [
    "class Coche:\n",
    "    def __init__(self,marca,placa,anio):\n",
    "        self.marca=marca\n",
    "        self.placa=placa\n",
    "        self.anio=anio\n",
    "        self.encedido=True #Estáticos, no hay que ponerlos en paréntesis. EL constructor me da el valor\n",
    "        self.fallas=[]\n",
    "        \n",
    "mi_carro=Coche ('BPL015','Toyota',2018)\n",
    "mi_carro_trabajo= Coche('BFJ216', 'Hyundai', 2010)\n",
    "carro_empresa= Coche('AGB098', 'Geely',2022)\n",
    "\n",
    "\n",
    "\n",
    "\n",
    "\n",
    "        "
   ]
  }
 ],
 "metadata": {
  "kernelspec": {
   "display_name": "Python 3",
   "language": "python",
   "name": "python3"
  },
  "language_info": {
   "codemirror_mode": {
    "name": "ipython",
    "version": 3
   },
   "file_extension": ".py",
   "mimetype": "text/x-python",
   "name": "python",
   "nbconvert_exporter": "python",
   "pygments_lexer": "ipython3",
   "version": "3.12.8"
  }
 },
 "nbformat": 4,
 "nbformat_minor": 2
}
