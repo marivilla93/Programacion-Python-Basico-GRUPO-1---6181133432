{
 "cells": [
  {
   "cell_type": "markdown",
   "metadata": {},
   "source": [
    "# ¿Qué son las expresiones regulares?\n",
    "\n",
    "- Definición y propósito de las regex\n",
    "- Diferencias entre búsqueda simple y búsqueda con regex"
   ]
  },
  {
   "cell_type": "markdown",
   "metadata": {},
   "source": [
    "## Definición\n",
    "\n",
    "Las expresiones regulares en Python son secuencias de caracteres que forman un patrón de búsqueda. Se utilizan para encontrar coincidencias dentro de cadenas de texto, realizar validaciones de formato o realizar manipulaciones de texto más complejas.\n",
    "\n",
    "El propósito principal de las expresiones regulares es permitir la búsqueda flexible y la manipulación de texto basada en patrones específicos. Esto significa que puedes buscar patrones de texto, como palabras específicas, combinaciones de letras o números, formatos de fecha, direcciones de correo electrónico, entre otros.\n",
    "\n",
    "La diferencia fundamental entre la búsqueda simple y la búsqueda con expresiones regulares radica en la flexibilidad y precisión que ofrecen estas últimas. Mientras que una búsqueda simple buscará una coincidencia exacta de una cadena de texto, las expresiones regulares te permiten especificar patrones más complejos, como buscar todas las palabras que empiecen con una letra específica o contengan ciertos caracteres."
   ]
  },
  {
   "cell_type": "markdown",
   "metadata": {},
   "source": [
    "## Diferencias entre búsqueda simple y búsqueda con regex\n",
    "\n",
    "### Búsqueda Simple:\n",
    "\n",
    "En este ejemplo, realizamos una búsqueda simple iterando sobre cada palabra en el texto y comprobando si la letra \"a\" está presente en la palabra. Sin embargo, esta búsqueda solo encuentra las palabras que contienen exactamente la letra \"a\", sin considerar mayúsculas, minúsculas o la posición de la letra en la palabra."
   ]
  },
  {
   "cell_type": "code",
   "execution_count": 1,
   "metadata": {},
   "outputs": [
    {
     "name": "stdout",
     "output_type": "stream",
     "text": [
      "['La', 'casa', 'la', 'colina']\n"
     ]
    }
   ],
   "source": [
    "texto = \"La casa está en la colina con el nombre de BUENA VISTA\"\n",
    "palabras_con_a = []\n",
    "\n",
    "# Búsqueda simple\n",
    "for palabra in texto.split():  # .split() separador utilizado el espacio en blanco\n",
    "    if 'a' in palabra:\n",
    "        palabras_con_a.append(palabra)\n",
    "        \n",
    "#Crea una lista [L,a, ,c,a,s,a, ...]\n",
    "\n",
    "print(palabras_con_a)  # Imprimirá: ['La','casa', 'la', 'colina']"
   ]
  },
  {
   "cell_type": "markdown",
   "metadata": {},
   "source": [
    "## Búsqueda con Expresiones Regulares:\n",
    "\n",
    "Aquí utilizamos una expresión regular para definir un patrón que busca palabras que contienen la letra \"a\", sin importar si está al principio, en medio o al final de la palabra. Además, la búsqueda ignora las diferencias entre mayúsculas y minúsculas mediante el uso de re.IGNORECASE. Esto nos permite encontrar todas las palabras que contienen la letra \"a\" de manera más flexible y precisa."
   ]
  },
  {
   "cell_type": "code",
   "execution_count": null,
   "metadata": {},
   "outputs": [
    {
     "name": "stdout",
     "output_type": "stream",
     "text": [
      "['La', 'casa', 'la', 'colina', 'BUENA', 'VISTA']\n"
     ]
    }
   ],
   "source": [
    "import re\n",
    "\n",
    "texto = \"La casa está en la colina con el nombre de BUENA VISTA\"\n",
    "\n",
    "patron= r'\\b\\w*a' #Patrón regex: Permiten encontrar palabras con la letra a.\n",
    "resultados = re.findall(patron,texto, re.IGNORECASE) #re.ignorecase para omitir minúscula/mayúscula.\n",
    "print(resultados)"
   ]
  },
  {
   "cell_type": "markdown",
   "metadata": {},
   "source": [
    "### Reto modifica el código: \n",
    "\n",
    "Para imprimir todas las palabras que contienen la letra `\"a\"`, incluyendo aquellas con tilde, utiliza las expresiones regulares en Python, ajusta el patrón regex.\n",
    "\n",
    "`Pista -> [aá]`\n"
   ]
  },
  {
   "cell_type": "code",
   "execution_count": 1,
   "metadata": {},
   "outputs": [
    {
     "name": "stdout",
     "output_type": "stream",
     "text": [
      "['La', 'casa', 'está', 'la', 'colina', 'BUENA', 'VISTA']\n"
     ]
    }
   ],
   "source": [
    "import re\n",
    "\n",
    "texto = \"La casa está en la colina con el nombre de BUENA VISTA\"\n",
    "\n",
    "patron= r'\\b\\w*[aá]\\w*' #Patrón regex: Permiten encontrar palabras con la letra a. El \\w*[x] dice que la letra tiene caracteres antes, [x]\\w*, dice que tiene caracteres después.\n",
    "resultados = re.findall(patron,texto, re.IGNORECASE) #re.ignorecase para omitir minúscula/mayúscula.\n",
    "print(resultados)"
   ]
  }
 ],
 "metadata": {
  "kernelspec": {
   "display_name": "Python 3",
   "language": "python",
   "name": "python3"
  },
  "language_info": {
   "codemirror_mode": {
    "name": "ipython",
    "version": 3
   },
   "file_extension": ".py",
   "mimetype": "text/x-python",
   "name": "python",
   "nbconvert_exporter": "python",
   "pygments_lexer": "ipython3",
   "version": "3.12.8"
  }
 },
 "nbformat": 4,
 "nbformat_minor": 2
}
