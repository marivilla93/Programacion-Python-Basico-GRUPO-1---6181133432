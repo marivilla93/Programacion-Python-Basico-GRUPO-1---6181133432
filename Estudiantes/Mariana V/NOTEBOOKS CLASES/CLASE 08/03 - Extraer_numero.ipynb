{
 "cells": [
  {
   "cell_type": "markdown",
   "metadata": {},
   "source": [
    "\n",
    "# Ejemplos de expresiones regulares en Python\n",
    "\n",
    "## 2. Extraer números de un texto:\n",
    "\n",
    "\n",
    "- Se importa el módulo `re` para trabajar con expresiones regulares.\n",
    "- Se define un patrón `r\"\\d+\\.\\d+\"`:\n",
    "    - `\\d+`: Esto coincide con uno o más dígitos. El \\d representa cualquier dígito del 0 al 9, y el + indica que debe haber uno o más dígitos consecutivos. Por lo tanto, \\d+ coincide con números enteros de uno o más dígitos.\n",
    "    - `\\.`: Esto coincide con el carácter punto literal `\".\"`, que se utiliza como separador decimal en números decimales. El `\\` se usa para escapar el punto, ya que en expresiones regulares el punto tiene un significado especial y se debe escapar para que se interprete literalmente.\n",
    "    - `\\d+`: Similar al primer `\\d+`, esto coincide con uno o más dígitos. En este caso, se utiliza para representar la parte decimal del número.\n",
    "- La función `re.findall()` busca todas las coincidencias del patrón en el texto y las devuelve como una lista."
   ]
  },
  {
   "cell_type": "code",
   "execution_count": null,
   "metadata": {},
   "outputs": [
    {
     "name": "stdout",
     "output_type": "stream",
     "text": [
      "Números encontrados: ['19.99']\n",
      "Números encontrados: ['19.99', '10']\n"
     ]
    }
   ],
   "source": [
    "import re\n",
    "\n",
    "texto = \"El precio es de $19.99 y hay un 10% de descuento.\"\n",
    "patron = r'\\d+\\.\\d+' #Esto solo me extrae enteros con decimales.\n",
    "coincidencias= re.findall(patron, texto)\n",
    "\n",
    "print ('Números encontrados:', coincidencias)\n",
    "# Extraer números enteros y decimales\n",
    "\n",
    "texto2 = \"El precio es de $19.99 y hay un 10% de descuento.\"\n",
    "patron2 = r'\\d+(?:\\.\\d+)?' #Esto me trae el 19.99 y el 10 antes del %.\n",
    "coincidencias2= re.findall(patron2, texto2)\n",
    "print ('Números encontrados:', coincidencias2)"
   ]
  },
  {
   "cell_type": "markdown",
   "metadata": {},
   "source": [
    "### Ejemplo 2.2\n",
    "Supongamos que tienes un texto que contiene información sobre el precio de varios productos en diferentes monedas. Queremos extraer todos los precios, tanto enteros como decimales, independientemente de la moneda en la que estén expresados."
   ]
  },
  {
   "cell_type": "code",
   "execution_count": null,
   "metadata": {},
   "outputs": [],
   "source": [
    "texto = \"El precio del primer producto es de $19.99 USD, el segundo producto cuesta €25.50, y el tercero vale ¢75000.00\""
   ]
  },
  {
   "cell_type": "code",
   "execution_count": 33,
   "metadata": {},
   "outputs": [
    {
     "name": "stdout",
     "output_type": "stream",
     "text": [
      "Precios encontrados: ['$19.99', '€25.50', '¢75000.00']\n",
      "Precios encontrados: €25.50\n"
     ]
    }
   ],
   "source": [
    "# Patrón regex para extraer precios en diferentes monedas\n",
    "texto = \"El precio del primer producto es de $19.99 USD, el segundo producto cuesta €25.50, y el tercero vale ¢75000.00\"\n",
    "patron = r'.\\d+(?:\\.\\d+)?' #Esto me trae los números y el carácter de antes, por eso pongo el . antes.\n",
    "coincidencias_encontradas= re.findall(patron, texto)\n",
    "print ('Precios encontrados:', coincidencias_encontradas)\n",
    "print ('Precios encontrados:', coincidencias_encontradas[1])"
   ]
  },
  {
   "cell_type": "markdown",
   "metadata": {},
   "source": [
    "### `patron = r\"[$€¢]\\d+\\.\\d+\":`\n",
    "\n",
    "- `[$€¢]`: Esta parte del patrón coincide con uno de los símbolos de moneda especificados: `\"$\"`, `\"€\"` o `\"¢\"`. Los corchetes `[]` indican un conjunto de caracteres, lo que significa que el patrón buscará cualquier coincidencia con alguno de los caracteres especificados dentro de ellos.\n",
    "- `\\d+`: Este elemento del patrón coincide con uno o más dígitos. El `\\d` representa cualquier dígito del `0 al 9`, y el `+` indica que debe haber uno o más dígitos consecutivos. Por lo tanto, `\\d+` coincide con números enteros de uno o más dígitos.\n",
    "- `\\.`: Este segmento del patrón coincide con el carácter punto literal `\".\"`. El punto se debe escapar con `\\` para que sea interpretado literalmente, ya que en expresiones regulares el punto tiene un significado especial.\n",
    "- `\\d+`: Similar al primer `\\d+`, esto coincide con uno o más dígitos. En este caso, se utiliza para representar la parte decimal del número."
   ]
  },
  {
   "cell_type": "markdown",
   "metadata": {},
   "source": [
    "##  Reto \n",
    "\n",
    "Supongamos que tienes un texto que contiene información sobre el precio de varios productos en diferentes monedas, pero además de los símbolos de moneda estándar como \"$\", \"€\" o \"¥\", también puede haber abreviaturas de monedas como \"USD\", \"EUR\", \"JPY\", etc. Queremos extraer todos los precios, tanto enteros como decimales, independientemente de la forma en que se especifique la moneda.\n",
    "\n",
    "`Pista : (?:[$€¢]|(?:USD|EUR|JPY))`"
   ]
  },
  {
   "cell_type": "code",
   "execution_count": null,
   "metadata": {},
   "outputs": [
    {
     "name": "stdout",
     "output_type": "stream",
     "text": [
      "Precios encontrados: ['$19.99 USD', 'EUR25.50', '1500JPY']\n",
      "Precios encontrados: ['$19.99', 'EUR25.50', 'JPY1500.40']\n"
     ]
    }
   ],
   "source": [
    "texto = \"El precio del primer producto es de $19.99 USD, el segundo producto cuesta EUR25.50, y el tercero vale 1500JPY.\"\n",
    "\n",
    "# Patrón regex para extraer precios en diferentes monedas\n",
    "\n",
    "patron = r'(?:[$€¢]|(?:USD|EUR|JPY))?\\d+(?:\\.\\d+)?\\s?(?:USD|EUR|JPY)?'\n",
    "#r'[\\$€]?[\\d]+(?:\\.\\d+)?\\s?(?:USD|EUR|JPY)?'\n",
    "coincidencias_encontradas= re.findall(patron, texto)\n",
    "print ('Precios encontrados:', coincidencias_encontradas)\n",
    "\n",
    "import re\n",
    "\n",
    "texto2 = \"El precio del primer producto es de $19.99 USD, el segundo producto cuesta EUR25.50, y el tercero vale JPY1500.40\"\n",
    "\n",
    "# Complete patrón regex para extraer precios en diferentes monedas\n",
    "patron2 = r'(?:[$€¢]|(?:USD|EUR|JPY))\\d+\\.\\d+'\n",
    "coincidencias_encontradas2= re.findall(patron2, texto2)\n",
    "print ('Precios encontrados:', coincidencias_encontradas2)\n",
    "\n",
    "\n",
    "#Salida esperada -> Precios encontrados: ['$19.99', 'EUR25.50', 'JPY1500.40']"
   ]
  }
 ],
 "metadata": {
  "kernelspec": {
   "display_name": "Python 3",
   "language": "python",
   "name": "python3"
  },
  "language_info": {
   "codemirror_mode": {
    "name": "ipython",
    "version": 3
   },
   "file_extension": ".py",
   "mimetype": "text/x-python",
   "name": "python",
   "nbconvert_exporter": "python",
   "pygments_lexer": "ipython3",
   "version": "3.12.8"
  }
 },
 "nbformat": 4,
 "nbformat_minor": 2
}
