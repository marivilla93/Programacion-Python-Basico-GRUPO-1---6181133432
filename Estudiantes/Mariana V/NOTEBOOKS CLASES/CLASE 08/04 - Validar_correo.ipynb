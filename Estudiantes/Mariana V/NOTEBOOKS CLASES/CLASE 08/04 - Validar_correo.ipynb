{
 "cells": [
  {
   "cell_type": "markdown",
   "metadata": {},
   "source": [
    "\n",
    "# Ejemplos de expresiones regulares en Python\n",
    "\n",
    "## 3. Validar direcciones de correo electrónico:\n",
    "\n",
    "\n",
    "### Explicación:\n",
    "\n",
    "- Se define un patrón complejo que valida la estructura de un correo electrónico:\n",
    "    - `[a-z0-9]+`: Una o más letras minúsculas o números.\n",
    "    - `[\\._]?`: Un opcional punto o guión bajo.\n",
    "    - `[a-z0-9]`+: Una o más letras minúsculas o números.\n",
    "    - `[@]`: Carácter literal \"@\".\n",
    "    - `\\w+`: Uno o más caracteres alfanuméricos o guiones bajos.\n",
    "    - `\\.`: Carácter literal \".\".\n",
    "    - `\\w{2,3}`: Dos o tres caracteres alfanuméricos (código de país) com, net , cr , us.\n",
    "- La función `re.match()` verifica si el patrón coincide al inicio de la cadena.\n",
    "- Si el patrón coincide, se imprime un mensaje indicando que el correo es válido.\n",
    "- Si el patrón no coincide, se imprime un mensaje indicando que el correo no es válido."
   ]
  },
  {
   "cell_type": "code",
   "execution_count": null,
   "metadata": {},
   "outputs": [
    {
     "name": "stdout",
     "output_type": "stream",
     "text": [
      "Correo electrónico válido: andres.mena@una.cr\n"
     ]
    }
   ],
   "source": [
    "import re\n",
    "\n",
    "correo = \"andres.mena@una.cr\"\n",
    "\n",
    "# Patrón para validar email\n",
    "patron = r'[a-zA-Z0-9]+[._]?[a-z0-9]+[@]\\w+\\.\\w{2,3}' #Caracteres especiales por validar siempre entre corchetes cuadrados.\n",
    " #El '?' significa que solo puede haber un carácter\n",
    " \n",
    "#patron (AI) = r'[a-zA-Z0-9._%+-]+@[a-zA-Z0-9.-]+\\.[a-zA-Z]{2,3}$'\n",
    "#_.%+- significa que se pueden introducir estos caracteres la cantidad de veces que se quiera.\n",
    "#\n",
    " \n",
    "if re.match(patron, correo):\n",
    "    print(\"Correo electrónico válido:\", correo)\n",
    "else:\n",
    "    print(\"Correo electrónico no válido:\", correo)"
   ]
  },
  {
   "cell_type": "markdown",
   "metadata": {},
   "source": [
    "### Ejemplo 3.2\n",
    "Se solicita al usuario su nombre y correo electrónico, y luego se valida si el correo electrónico proporcionado es válido utilizando una función que utiliza expresiones regulares:"
   ]
  },
  {
   "cell_type": "code",
   "execution_count": 4,
   "metadata": {},
   "outputs": [
    {
     "name": "stdout",
     "output_type": "stream",
     "text": [
      "Lo siento Juan, el correo electrónico eleo.m.com no es válido.\n"
     ]
    }
   ],
   "source": [
    "import re\n",
    "\n",
    "#Crear Función Para validar Correo\n",
    "def validar_correo(correo):\n",
    "    patron = r'[a-zA-Z0-9]+[._]?[a-z0-9]+[@]\\w+\\.\\w{2,3}'\n",
    "    if re.match(patron,correo):\n",
    "        return True\n",
    "    else:\n",
    "        return False\n",
    "\n",
    "nombre = input(\"Por favor, ingresa tu nombre: \")\n",
    "correo = input(\"Por favor, ingresa tu correo electrónico: \")\n",
    "\n",
    "if validar_correo(correo):\n",
    "    print(f\"Hola {nombre}, tu correo electrónico {correo} es válido.\".format(nombre, correo))\n",
    "else:\n",
    "    print(f\"Lo siento {nombre}, el correo electrónico {correo} no es válido.\".format(nombre, correo))\n",
    "\n"
   ]
  },
  {
   "cell_type": "markdown",
   "metadata": {},
   "source": [
    "##  Reto \n",
    "\n",
    "El patrón de expresión regular utilizado para validar correos electrónicos tiene una limitación que causa que el correo `andres.mena.abarca@una.ed.cr` sea considerado inválido. Para corregir esta limitante y permitir correos electrónicos con extensiones de dominio de más de tres caracteres, necesitamos mejorar la expresión regular utilizada para la validación."
   ]
  },
  {
   "cell_type": "markdown",
   "metadata": {},
   "source": [
    "> PISTA :  El asterisco `(*)` en expresiones regulares se utiliza para indicar que el elemento al que se aplica puede aparecer cero o más veces. Es un cuantificador que modifica el elemento o grupo al que sigue, permitiendo que ese elemento se repita cualquier número de veces, incluso cero veces.\n",
    "\n",
    " Por ejemplo, si tenemos el patrón `a*`, esto coincidirá con:\n",
    "\n",
    "- Cadena vacía: `\"\"`.\n",
    "- Una sola `\"a\": \"a\"`.\n",
    "- Varias `\"a\"` consecutivas: `\"aa\"`, `\"aaa\"`, etc.\n",
    "- En resumen, el asterisco `(*)` significa **\"cero o más repeticiones\"** del elemento al que se aplica."
   ]
  },
  {
   "cell_type": "code",
   "execution_count": 5,
   "metadata": {},
   "outputs": [
    {
     "name": "stdout",
     "output_type": "stream",
     "text": [
      "Correo electrónico no válido: andres.mena.abarca@una.ed.cr\n"
     ]
    }
   ],
   "source": [
    "import re\n",
    "\n",
    "correo = \"andres.mena.abarca@una.ed.cr\"\n",
    "\n",
    "# Patrón para validar email a mejorar\n",
    "patron = r\"[a-z0-9]+[\\._]?[a-z0-9]+[@]\\w+[.]\\w{2,3}\"\n",
    "\n",
    "\n",
    "if re.match(patron, correo):\n",
    "    print(\"Correo electrónico válido:\", correo)\n",
    "else:\n",
    "    print(\"Correo electrónico no válido:\", correo)\n",
    "    \n",
    "# Salida esperada -> Correo electrónico válido: andres.mena.abarca@una.ed.cr    "
   ]
  }
 ],
 "metadata": {
  "kernelspec": {
   "display_name": "Python 3",
   "language": "python",
   "name": "python3"
  },
  "language_info": {
   "codemirror_mode": {
    "name": "ipython",
    "version": 3
   },
   "file_extension": ".py",
   "mimetype": "text/x-python",
   "name": "python",
   "nbconvert_exporter": "python",
   "pygments_lexer": "ipython3",
   "version": "3.12.8"
  }
 },
 "nbformat": 4,
 "nbformat_minor": 2
}
