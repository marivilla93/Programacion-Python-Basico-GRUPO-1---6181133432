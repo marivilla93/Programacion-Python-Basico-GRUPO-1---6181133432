{
 "cells": [
  {
   "cell_type": "markdown",
   "metadata": {},
   "source": [
    "\n",
    "# Ejemplos de expresiones regulares en Python\n",
    "\n",
    "## 4. Reemplazar texto en una cadena:\n",
    "\n",
    "\n",
    "### Explicación:\n",
    "\n",
    "- Se define un texto que contiene la palabra `\"viejo\"`.\n",
    "- Se define el patrón `r\"viejo\"` que busca la palabra `\"viejo\"`.\n",
    "- Se define el texto de reemplazo `\"nuevo\"`.\n",
    "- La función `re.sub()` reemplaza todas las coincidencias del patrón en el texto por el texto de reemplazo.\n",
    "- Se imprime el texto original y el texto modificado."
   ]
  },
  {
   "cell_type": "code",
   "execution_count": 1,
   "metadata": {},
   "outputs": [
    {
     "name": "stdout",
     "output_type": "stream",
     "text": [
      "Texto original: Esta oración contiene la palabra 'viejo', que queremos reemplazar.\n",
      "Texto modificado: Esta oración contiene la palabra 'nuevo', que queremos reemplazar.\n"
     ]
    }
   ],
   "source": [
    "import re\n",
    "\n",
    "texto = \"Esta oración contiene la palabra 'viejo', que queremos reemplazar.\"\n",
    "\n",
    "# Reemplazar \"viejo\" por \"nuevo\"\n",
    "texto_modificado = re.sub(r'viejo','nuevo',texto)\n",
    "\n",
    "\n",
    "\n",
    "\n",
    "print(\"Texto original:\", texto)\n",
    "print(\"Texto modificado:\", texto_modificado)"
   ]
  },
  {
   "cell_type": "markdown",
   "metadata": {},
   "source": [
    "### Ejemplo 4.2\n",
    "En este ejemplo, se lee un cuento desde un archivo de texto llamado 'cuento.txt' y se realiza el reemplazo de una palabra de manera sensible tanto a mayúsculas como a minúsculas."
   ]
  },
  {
   "cell_type": "code",
   "execution_count": 5,
   "metadata": {},
   "outputs": [
    {
     "name": "stdout",
     "output_type": "stream",
     "text": [
      "--------- Cuento original ---------\n",
      "Había una vez un viejo molinero que vivía en lo alto de una colina. El molinero tenía un viejo molino muy grande que usaba para moler el trigo VIEJO y \n",
      "hacer harina. Todos en el pueblo lo conocían como el ViEjO molinero y siempre lo veían trabajando duro en su molino.\n",
      "\n",
      "Un día, el VIEJO molinero decidió que era hora de retirarse y dejar el molino en manos de su hijo menor. \n",
      "Así que llamó a su hijo y le dijo: \"Hijo mío, ya es hora de que tomes el control del viejo molino. Has aprendido mucho de mí y estoy \n",
      "seguro de que serás un buen molinero\".\n",
      "\n",
      "El hijo del molinero estaba emocionado de asumir la responsabilidad, pero también un poco nervioso. El viejo molinero le dio algunos consejos \n",
      "y luego se retiró a su casa en el pueblo.\n",
      "\n",
      "Con el paso del tiempo, el hijo del molinero demostró ser un excelente molinero. El molino seguía funcionando sin problemas y \n",
      "la harina que producía era la mejor del pueblo. El viejo molinero estaba muy orgulloso de su hijo y sabía que había tomado la \n",
      "decisión correcta al confiarle el viejo molino.\n",
      "\n",
      "Y así, el VIEJO molinero vivió el resto de sus días feliz y contento, sabiendo que su legado continuaría gracias a su talentoso hijo.\n",
      "\n",
      " ------- Cuento modificado ---------\n",
      "Había una vez un nuevo molinero que vivía en lo alto de una colina. El molinero tenía un nuevo molino muy grande que usaba para moler el trigo nuevo y \n",
      "hacer harina. Todos en el pueblo lo conocían como el nuevo molinero y siempre lo veían trabajando duro en su molino.\n",
      "\n",
      "Un día, el nuevo molinero decidió que era hora de retirarse y dejar el molino en manos de su hijo menor. \n",
      "Así que llamó a su hijo y le dijo: \"Hijo mío, ya es hora de que tomes el control del nuevo molino. Has aprendido mucho de mí y estoy \n",
      "seguro de que serás un buen molinero\".\n",
      "\n",
      "El hijo del molinero estaba emocionado de asumir la responsabilidad, pero también un poco nervioso. El nuevo molinero le dio algunos consejos \n",
      "y luego se retiró a su casa en el pueblo.\n",
      "\n",
      "Con el paso del tiempo, el hijo del molinero demostró ser un excelente molinero. El molino seguía funcionando sin problemas y \n",
      "la harina que producía era la mejor del pueblo. El nuevo molinero estaba muy orgulloso de su hijo y sabía que había tomado la \n",
      "decisión correcta al confiarle el nuevo molino.\n",
      "\n",
      "Y así, el nuevo molinero vivió el resto de sus días feliz y contento, sabiendo que su legado continuaría gracias a su talentoso hijo.\n"
     ]
    }
   ],
   "source": [
    "import re\n",
    "\n",
    "# Leer el cuento desde un archivo de texto\n",
    "#encoding=\"utf-8\"  garantiza una lectura correcta del contenido, codificación de caracteres universa, tíldes o ñ\n",
    "with open(\"cuento.txt\", \"r\", encoding=\"utf-8\") as archivo:\n",
    "    cuento = archivo.read()\n",
    "\n",
    "# Reemplaza palabras estaticas (sensible a mayúsculas y minúsculas)\n",
    "cuento_modificado = re.sub(r'viejo', 'nuevo', cuento, flags=re.IGNORECASE)\n",
    "\n",
    "# Mostrar el cuento original y el cuento modificado\n",
    "print(\"--------- Cuento original ---------\")\n",
    "print(cuento)\n",
    "\n",
    "print(\"\\n ------- Cuento modificado ---------\")\n",
    "print(cuento_modificado)   "
   ]
  },
  {
   "cell_type": "markdown",
   "metadata": {},
   "source": [
    "##  Reto \n",
    "\n",
    "Lee el contenido del archivo de texto 'cuento.txt' y realiza el reemplazo de una palabra de manera insensible a mayúsculas y minúsculas. Además, permite que la palabra a reemplazar sea flexible en cuanto a la longitud y posición dentro del cuento. Asegúrate de considerar estas características al aplicar la expresión regular para el reemplazo.\n",
    "\n",
    "Aquí tienes algunas pistas para ayudarte a realizar el reemplazo de manera flexible y sensible a mayúsculas y minúsculas en el cuento:\n",
    "\n",
    "1. **Expresión regular flexible**: Utiliza una expresión regular que permita que la palabra a reemplazar pueda aparecer en cualquier posición dentro del texto y con cualquier longitud. Puedes usar `\\b` para delimitar la palabra completa.\n",
    "2. **Reemplazo sensible a mayúsculas y minúsculas:** Asegúrate de usar la bandera `re.IGNORECASE` al realizar la sustitución para que sea insensible a mayúsculas y minúsculas."
   ]
  },
  {
   "cell_type": "code",
   "execution_count": null,
   "metadata": {},
   "outputs": [],
   "source": [
    "import re\n",
    "\n",
    "# Leer el cuento desde un archivo de texto\n",
    "with open(\"cuento.txt\", \"r\", encoding=\"utf-8\") as archivo:\n",
    "    cuento = archivo.read()\n",
    "\n",
    "# Reemplazar palabras flexibles (insensible a mayúsculas y minúsculas)\n",
    "cuento_modificado = re.sub(r\"viejo\", \"Nuevo\", cuento)\n",
    "\n",
    "# Mostrar el cuento original y el cuento modificado\n",
    "print(\"--------- Cuento original ---------\")\n",
    "print(cuento)\n",
    "\n",
    "print(\"\\n ------- Cuento modificado ---------\")\n",
    "print(cuento_modificado) "
   ]
  }
 ],
 "metadata": {
  "kernelspec": {
   "display_name": "Python 3",
   "language": "python",
   "name": "python3"
  },
  "language_info": {
   "codemirror_mode": {
    "name": "ipython",
    "version": 3
   },
   "file_extension": ".py",
   "mimetype": "text/x-python",
   "name": "python",
   "nbconvert_exporter": "python",
   "pygments_lexer": "ipython3",
   "version": "3.12.8"
  }
 },
 "nbformat": 4,
 "nbformat_minor": 2
}
