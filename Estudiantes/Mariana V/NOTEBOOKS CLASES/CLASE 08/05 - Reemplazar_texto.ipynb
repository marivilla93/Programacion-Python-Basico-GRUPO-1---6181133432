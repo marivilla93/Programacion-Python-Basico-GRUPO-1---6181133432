{
 "cells": [
  {
   "cell_type": "markdown",
   "metadata": {},
   "source": [
    "\n",
    "# Ejemplos de expresiones regulares en Python\n",
    "\n",
    "## 4. Reemplazar texto en una cadena:\n",
    "\n",
    "\n",
    "### Explicación:\n",
    "\n",
    "- Se define un texto que contiene la palabra `\"viejo\"`.\n",
    "- Se define el patrón `r\"viejo\"` que busca la palabra `\"viejo\"`.\n",
    "- Se define el texto de reemplazo `\"nuevo\"`.\n",
    "- La función `re.sub()` reemplaza todas las coincidencias del patrón en el texto por el texto de reemplazo.\n",
    "- Se imprime el texto original y el texto modificado."
   ]
  },
  {
   "cell_type": "code",
   "execution_count": 1,
   "metadata": {},
   "outputs": [
    {
     "name": "stdout",
     "output_type": "stream",
     "text": [
      "Texto original: Esta oración contiene la palabra 'viejo', que queremos reemplazar.\n",
      "Texto modificado: Esta oración contiene la palabra 'nuevo', que queremos reemplazar.\n"
     ]
    }
   ],
   "source": [
    "import re\n",
    "\n",
    "texto = \"Esta oración contiene la palabra 'viejo', que queremos reemplazar.\"\n",
    "\n",
    "# Reemplazar \"viejo\" por \"nuevo\"\n",
    "texto_modificado = re.sub(r'viejo','nuevo',texto)\n",
    "\n",
    "\n",
    "\n",
    "\n",
    "print(\"Texto original:\", texto)\n",
    "print(\"Texto modificado:\", texto_modificado)"
   ]
  },
  {
   "cell_type": "markdown",
   "metadata": {},
   "source": [
    "### Ejemplo 4.2\n",
    "En este ejemplo, se lee un cuento desde un archivo de texto llamado 'cuento.txt' y se realiza el reemplazo de una palabra de manera sensible tanto a mayúsculas como a minúsculas."
   ]
  },
  {
   "cell_type": "code",
   "execution_count": 3,
   "metadata": {},
   "outputs": [
    {
     "ename": "FileNotFoundError",
     "evalue": "[Errno 2] No such file or directory: 'cuento.txt'",
     "output_type": "error",
     "traceback": [
      "\u001b[1;31m---------------------------------------------------------------------------\u001b[0m",
      "\u001b[1;31mFileNotFoundError\u001b[0m                         Traceback (most recent call last)",
      "Cell \u001b[1;32mIn[3], line 5\u001b[0m\n\u001b[0;32m      1\u001b[0m \u001b[38;5;28;01mimport\u001b[39;00m\u001b[38;5;250m \u001b[39m\u001b[38;5;21;01mre\u001b[39;00m\n\u001b[0;32m      3\u001b[0m \u001b[38;5;66;03m# Leer el cuento desde un archivo de texto\u001b[39;00m\n\u001b[0;32m      4\u001b[0m \u001b[38;5;66;03m#encoding=\"utf-8\"  garantiza una lectura correcta del contenido, codificación de caracteres universa, tíldes o ñ\u001b[39;00m\n\u001b[1;32m----> 5\u001b[0m \u001b[38;5;28;01mwith\u001b[39;00m \u001b[38;5;28;43mopen\u001b[39;49m\u001b[43m(\u001b[49m\u001b[38;5;124;43m\"\u001b[39;49m\u001b[38;5;124;43mcuento.txt\u001b[39;49m\u001b[38;5;124;43m\"\u001b[39;49m\u001b[43m,\u001b[49m\u001b[43m \u001b[49m\u001b[38;5;124;43m\"\u001b[39;49m\u001b[38;5;124;43mr\u001b[39;49m\u001b[38;5;124;43m\"\u001b[39;49m\u001b[43m,\u001b[49m\u001b[43m \u001b[49m\u001b[43mencoding\u001b[49m\u001b[38;5;241;43m=\u001b[39;49m\u001b[38;5;124;43m\"\u001b[39;49m\u001b[38;5;124;43mutf-8\u001b[39;49m\u001b[38;5;124;43m\"\u001b[39;49m\u001b[43m)\u001b[49m \u001b[38;5;28;01mas\u001b[39;00m archivo:\n\u001b[0;32m      6\u001b[0m     cuento \u001b[38;5;241m=\u001b[39m archivo\u001b[38;5;241m.\u001b[39mread()\n\u001b[0;32m      8\u001b[0m \u001b[38;5;66;03m# Reemplaza palabras estaticas (sensible a mayúsculas y minúsculas)\u001b[39;00m\n",
      "File \u001b[1;32m~\\AppData\\Roaming\\Python\\Python312\\site-packages\\IPython\\core\\interactiveshell.py:324\u001b[0m, in \u001b[0;36m_modified_open\u001b[1;34m(file, *args, **kwargs)\u001b[0m\n\u001b[0;32m    317\u001b[0m \u001b[38;5;28;01mif\u001b[39;00m file \u001b[38;5;129;01min\u001b[39;00m {\u001b[38;5;241m0\u001b[39m, \u001b[38;5;241m1\u001b[39m, \u001b[38;5;241m2\u001b[39m}:\n\u001b[0;32m    318\u001b[0m     \u001b[38;5;28;01mraise\u001b[39;00m \u001b[38;5;167;01mValueError\u001b[39;00m(\n\u001b[0;32m    319\u001b[0m         \u001b[38;5;124mf\u001b[39m\u001b[38;5;124m\"\u001b[39m\u001b[38;5;124mIPython won\u001b[39m\u001b[38;5;124m'\u001b[39m\u001b[38;5;124mt let you open fd=\u001b[39m\u001b[38;5;132;01m{\u001b[39;00mfile\u001b[38;5;132;01m}\u001b[39;00m\u001b[38;5;124m by default \u001b[39m\u001b[38;5;124m\"\u001b[39m\n\u001b[0;32m    320\u001b[0m         \u001b[38;5;124m\"\u001b[39m\u001b[38;5;124mas it is likely to crash IPython. If you know what you are doing, \u001b[39m\u001b[38;5;124m\"\u001b[39m\n\u001b[0;32m    321\u001b[0m         \u001b[38;5;124m\"\u001b[39m\u001b[38;5;124myou can use builtins\u001b[39m\u001b[38;5;124m'\u001b[39m\u001b[38;5;124m open.\u001b[39m\u001b[38;5;124m\"\u001b[39m\n\u001b[0;32m    322\u001b[0m     )\n\u001b[1;32m--> 324\u001b[0m \u001b[38;5;28;01mreturn\u001b[39;00m \u001b[43mio_open\u001b[49m\u001b[43m(\u001b[49m\u001b[43mfile\u001b[49m\u001b[43m,\u001b[49m\u001b[43m \u001b[49m\u001b[38;5;241;43m*\u001b[39;49m\u001b[43margs\u001b[49m\u001b[43m,\u001b[49m\u001b[43m \u001b[49m\u001b[38;5;241;43m*\u001b[39;49m\u001b[38;5;241;43m*\u001b[39;49m\u001b[43mkwargs\u001b[49m\u001b[43m)\u001b[49m\n",
      "\u001b[1;31mFileNotFoundError\u001b[0m: [Errno 2] No such file or directory: 'cuento.txt'"
     ]
    }
   ],
   "source": [
    "import re\n",
    "\n",
    "# Leer el cuento desde un archivo de texto\n",
    "#encoding=\"utf-8\"  garantiza una lectura correcta del contenido, codificación de caracteres universa, tíldes o ñ\n",
    "with open(\"cuento.txt\", \"r\", encoding=\"utf-8\") as archivo:\n",
    "    cuento = archivo.read()\n",
    "\n",
    "# Reemplaza palabras estaticas (sensible a mayúsculas y minúsculas)\n",
    "cuento_modificado = re.sub(r'viejo', 'nuevo', cuento, re.IGNORECASE)\n",
    "\n",
    "# Mostrar el cuento original y el cuento modificado\n",
    "print(\"--------- Cuento original ---------\")\n",
    "print(cuento)\n",
    "\n",
    "print(\"\\n ------- Cuento modificado ---------\")\n",
    "print(cuento_modificado)   "
   ]
  },
  {
   "cell_type": "markdown",
   "metadata": {},
   "source": [
    "##  Reto \n",
    "\n",
    "Lee el contenido del archivo de texto 'cuento.txt' y realiza el reemplazo de una palabra de manera insensible a mayúsculas y minúsculas. Además, permite que la palabra a reemplazar sea flexible en cuanto a la longitud y posición dentro del cuento. Asegúrate de considerar estas características al aplicar la expresión regular para el reemplazo.\n",
    "\n",
    "Aquí tienes algunas pistas para ayudarte a realizar el reemplazo de manera flexible y sensible a mayúsculas y minúsculas en el cuento:\n",
    "\n",
    "1. **Expresión regular flexible**: Utiliza una expresión regular que permita que la palabra a reemplazar pueda aparecer en cualquier posición dentro del texto y con cualquier longitud. Puedes usar `\\b` para delimitar la palabra completa.\n",
    "2. **Reemplazo sensible a mayúsculas y minúsculas:** Asegúrate de usar la bandera `re.IGNORECASE` al realizar la sustitución para que sea insensible a mayúsculas y minúsculas."
   ]
  },
  {
   "cell_type": "code",
   "execution_count": null,
   "metadata": {},
   "outputs": [],
   "source": [
    "import re\n",
    "\n",
    "# Leer el cuento desde un archivo de texto\n",
    "with open(\"cuento.txt\", \"r\", encoding=\"utf-8\") as archivo:\n",
    "    cuento = archivo.read()\n",
    "\n",
    "# Reemplazar palabras flexibles (insensible a mayúsculas y minúsculas)\n",
    "cuento_modificado = re.sub(r\"viejo\", \"Nuevo\", cuento)\n",
    "\n",
    "# Mostrar el cuento original y el cuento modificado\n",
    "print(\"--------- Cuento original ---------\")\n",
    "print(cuento)\n",
    "\n",
    "print(\"\\n ------- Cuento modificado ---------\")\n",
    "print(cuento_modificado) "
   ]
  }
 ],
 "metadata": {
  "kernelspec": {
   "display_name": "Python 3",
   "language": "python",
   "name": "python3"
  },
  "language_info": {
   "codemirror_mode": {
    "name": "ipython",
    "version": 3
   },
   "file_extension": ".py",
   "mimetype": "text/x-python",
   "name": "python",
   "nbconvert_exporter": "python",
   "pygments_lexer": "ipython3",
   "version": "3.12.8"
  }
 },
 "nbformat": 4,
 "nbformat_minor": 2
}
