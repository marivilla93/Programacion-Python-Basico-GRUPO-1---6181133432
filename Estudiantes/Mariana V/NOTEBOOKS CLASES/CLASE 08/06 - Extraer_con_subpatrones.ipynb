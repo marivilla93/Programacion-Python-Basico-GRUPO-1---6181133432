{
 "cells": [
  {
   "cell_type": "markdown",
   "metadata": {},
   "source": [
    "\n",
    "# Ejemplos de expresiones regulares en Python\n",
    "\n",
    "## 5. Extraer grupos de información con subpatrones:\n",
    "\n",
    "\n",
    "### Explicación:\n",
    "\n",
    "La expresión regular se compone de varios elementos:\n",
    "- **\"Fecha:\"**: Coincide con la cadena literal `\"Fecha:\"`.\n",
    "    - `(?P<fecha>\\d{4}-\\d{2}-\\d{2})`:\n",
    "        - `(?P<fecha>...)` : Define un grupo con nombre llamado \"fecha\".\n",
    "        - `\\d{4}` : Coincide con exactamente 4 dígitos (año).\n",
    "        - `-` : Coincide con el carácter literal \"-\".\n",
    "        - `\\d{2}` : Coincide con exactamente 2 dígitos (mes).\n",
    "        - `-` : Coincide con el carácter literal \"-\".\n",
    "        - `\\d{2}` : Coincide con exactamente 2 dígitos (día).\n",
    "- **\", Hora:\"** : Coincide con la cadena literal `\", Hora:\"`.\n",
    "    - `(?P<hora>\\d{2}:\\d{2})`:\n",
    "        - `(?P<hora>...)`: Define un grupo con nombre llamado `\"hora\"`.\n",
    "        - `\\d{2}`: Coincide con exactamente 2 dígitos (hora).\n",
    "        - `::` Coincide con el carácter literal \":\".\n",
    "        - `\\d{2}`: Coincide con exactamente 2 dígitos (minutos).\n",
    "    \n",
    "La expresión regular completa busca una cadena que coincida con el formato \"Fecha: AAAA-MM-DD, Hora: HH:MM\", donde AAAA es el año, MM es el mes, DD es el día, HH es la hora y MM son los minutos."
   ]
  },
  {
   "cell_type": "code",
   "execution_count": null,
   "metadata": {},
   "outputs": [],
   "source": [
    "import re\n",
    "\n",
    "texto = \"Fecha: 2024-04-25, Hora: 21:50\"\n",
    "\n",
    "# Extraer fecha y hora con subpatrones\n",
    "patron = r\"Fecha: (?P<fecha>\\d{4}-\\d{2}-\\d{2}), Hora: (?P<hora>\\d{2}:\\d{2})\"\n",
    "\n",
    "coincidencia = re.search(patron, texto)\n",
    "\n",
    "if coincidencia:\n",
    "    fecha_extraida = coincidencia.group(\"fecha\")\n",
    "    hora_extraida = coincidencia.group(\"hora\")\n",
    "    print(\"Fecha:\", fecha_extraida)\n",
    "    print(\"Hora:\", hora_extraida)"
   ]
  },
  {
   "cell_type": "markdown",
   "metadata": {},
   "source": [
    "### Ejemplo 5.2\n",
    "**Objetivo:** Extraer grupos de información específica de un texto utilizando expresiones regulares (regex) en Python 5. La complejidad del ejemplo se mantendrá en un nivel medio-bajo.\n",
    "\n",
    "Problema: Se tiene un texto que contiene información sobre clientes en el siguiente formato:"
   ]
  },
  {
   "cell_type": "code",
   "execution_count": null,
   "metadata": {},
   "outputs": [],
   "source": [
    "'''\n",
    "Cliente: Juan Pérez, Dirección: Calle Mayor 123, Ciudad: San José, Teléfono: +506 2222-3333\n",
    "Cliente: María Gómez, Dirección: Avenida Central 456, Ciudad: Alajuela, Teléfono: +506 8888-4444\n",
    "Cliente: Pedro Ramírez, Dirección: Barrio Escalante 789, Ciudad: Heredia, Teléfono: +506 5555-6666\n",
    "'''"
   ]
  },
  {
   "cell_type": "markdown",
   "metadata": {},
   "source": [
    "Se desea extraer la siguiente información de cada registro de cliente:\n",
    "\n",
    "- Nombre: Juan Pérez, María Gómez, Pedro Ramírez\n",
    "- Dirección: Calle Mayor 123, Avenida Central 456, Barrio Escalante 789\n",
    "- Ciudad: San José, Alajuela, Heredia\n",
    "- Teléfono: +506 2222-3333, +506 8888-4444, +506 5555-6666"
   ]
  },
  {
   "cell_type": "code",
   "execution_count": null,
   "metadata": {},
   "outputs": [],
   "source": [
    "import re\n",
    "\n",
    "\n",
    "texto_clientes = \"\"\"Cliente: Juan Pérez, Dirección: Calle Mayor 123, Ciudad: San José, Teléfono: +506 2222-3333\n",
    "Cliente: María Gómez, Dirección: Avenida Central 456, Ciudad: Alajuela, Teléfono: +506 8888-4444\n",
    "Cliente: Pedro Ramírez, Dirección: Barrio Escalante 789, Ciudad: Heredia, Teléfono: +506 5555-6666\"\"\"\n",
    "\n",
    "patron_cliente = r\"\"\"\n",
    "    Cliente:\\s+ # Captura el texto \"Cliente:\" seguido de uno o más espacios en blanco\n",
    "    (?P<nombre>[\\w\\s]+),\\s+ # Captura el nombre del cliente (letras, números y espacios) seguido de una coma y uno o más espacios en blanco\n",
    "    Dirección:\\s+ # Captura el texto \"Dirección:\" seguido de uno o más espacios en blanco\n",
    "    (?P<direccion>[\\w\\s,]+),\\s+ # Captura la dirección del cliente (letras, números, espacios y comas) seguida de una coma y uno o más espacios en blanco\n",
    "    Ciudad:\\s+ # Captura el texto \"Ciudad:\" seguido de uno o más espacios en blanco\n",
    "    (?P<ciudad>[\\w\\s]+),\\s+ # Captura la ciudad del cliente (letras, números y espacios) seguida de una coma y uno o más espacios en blanco\n",
    "    Teléfono:\\s+ # Captura el texto \"Teléfono:\" seguido de uno o más espacios en blanco\n",
    "    (?P<telefono>[\\+\\d\\s-]+) # Captura el número de teléfono (signos +, números, espacios y guiones)\n",
    "\"\"\"\n",
    "\n",
    "# Compilar el patrón de expresión regular\n",
    "patron_compilado = re.compile(patron_cliente, flags=re.VERBOSE)\n",
    "\n",
    "# Encontrar todas las coincidencias en el texto\n",
    "coincidencias = patron_compilado.finditer(texto_clientes)\n",
    "\n",
    "# Recorrer las coincidencias y extraer la información\n",
    "for coincidencia in coincidencias:\n",
    "    nombre = coincidencia.group(\"nombre\")\n",
    "    direccion = coincidencia.group(\"direccion\")\n",
    "    ciudad = coincidencia.group(\"ciudad\")\n",
    "    telefono = coincidencia.group(\"telefono\")\n",
    "\n",
    "    # Imprimir la información extraída para cada cliente\n",
    "    print(f\"\\n**Cliente:** {nombre}\")\n",
    "    print(f\"Dirección: {direccion}\")\n",
    "    print(f\"Ciudad: {ciudad}\")\n",
    "    print(f\"Teléfono: {telefono}\")\n"
   ]
  }
 ],
 "metadata": {
  "kernelspec": {
   "display_name": "Python 3",
   "language": "python",
   "name": "python3"
  },
  "language_info": {
   "codemirror_mode": {
    "name": "ipython",
    "version": 3
   },
   "file_extension": ".py",
   "mimetype": "text/x-python",
   "name": "python",
   "nbconvert_exporter": "python",
   "pygments_lexer": "ipython3",
   "version": "3.12.7"
  }
 },
 "nbformat": 4,
 "nbformat_minor": 2
}
