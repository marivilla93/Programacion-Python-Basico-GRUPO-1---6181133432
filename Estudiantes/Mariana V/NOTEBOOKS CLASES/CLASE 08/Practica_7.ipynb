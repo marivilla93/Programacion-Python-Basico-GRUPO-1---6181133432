{
 "cells": [
  {
   "cell_type": "markdown",
   "metadata": {},
   "source": [
    "\n",
    "# Ejercicio final: Extraer información de un archivo JSON usando expresiones regulares (regex)\n",
    "\n",
    "\n",
    "## Objetivo:\n",
    "\n",
    "El objetivo de este ejercicio es practicar la utilización de expresiones regulares (regex) para extraer información específica de un archivo JSON. El ejercicio se enfocará en la lectura y análisis de un archivo JSON que contiene información sobre clientes.\n",
    "\n",
    "## Descripción:\n",
    "\n",
    "### Obtener el archivo JSON:\n",
    "Lea archivo JSON 'clientes.json' que contiene la información sobre clientes. El archivo debe tener una estructura similar a la siguiente:"
   ]
  },
  {
   "cell_type": "code",
   "execution_count": 1,
   "metadata": {},
   "outputs": [
    {
     "data": {
      "text/plain": [
       "{'clientes': [{'nombre': 'Juan Pérez',\n",
       "   'direccion': 'Calle Mayor 123',\n",
       "   'ciudad': 'San José',\n",
       "   'telefono': '+506 2222-3333'},\n",
       "  {'nombre': 'María Gómez',\n",
       "   'direccion': 'Avenida Central 456',\n",
       "   'ciudad': 'Alajuela',\n",
       "   'telefono': '+506 8888-4444'},\n",
       "  {'nombre': 'Pedro Ramírez',\n",
       "   'direccion': 'Barrio Escalante 789',\n",
       "   'ciudad': 'Heredia',\n",
       "   'telefono': '+506 5555-6666'},\n",
       "  {'nombre': 'Ana Castro',\n",
       "   'direccion': 'Avenida 10 Calle 5',\n",
       "   'ciudad': 'Cartago',\n",
       "   'telefono': '+506 3333-4444'},\n",
       "  {'nombre': 'Carlos Jiménez',\n",
       "   'direccion': 'Calle Principal 12',\n",
       "   'ciudad': 'Liberia',\n",
       "   'telefono': '+506 6666-7777'},\n",
       "  {'nombre': 'Diana Solano',\n",
       "   'direccion': 'Barrio La Unión 78',\n",
       "   'ciudad': 'Puntarenas',\n",
       "   'telefono': '+506 9999-8888'}]}"
      ]
     },
     "execution_count": 1,
     "metadata": {},
     "output_type": "execute_result"
    }
   ],
   "source": [
    "{\n",
    "  \"clientes\": [\n",
    "    {\n",
    "      \"nombre\": \"Juan Pérez\",\n",
    "      \"direccion\": \"Calle Mayor 123\",\n",
    "      \"ciudad\": \"San José\",\n",
    "      \"telefono\": \"+506 2222-3333\"\n",
    "    },\n",
    "    {\n",
    "      \"nombre\": \"María Gómez\",\n",
    "      \"direccion\": \"Avenida Central 456\",\n",
    "      \"ciudad\": \"Alajuela\",\n",
    "      \"telefono\": \"+506 8888-4444\"\n",
    "    },\n",
    "    {\n",
    "      \"nombre\": \"Pedro Ramírez\",\n",
    "      \"direccion\": \"Barrio Escalante 789\",\n",
    "      \"ciudad\": \"Heredia\",\n",
    "      \"telefono\": \"+506 5555-6666\"\n",
    "    },\n",
    "    {\n",
    "      \"nombre\": \"Ana Castro\",\n",
    "      \"direccion\": \"Avenida 10 Calle 5\",\n",
    "      \"ciudad\": \"Cartago\",\n",
    "      \"telefono\": \"+506 3333-4444\"\n",
    "    },\n",
    "    {\n",
    "      \"nombre\": \"Carlos Jiménez\",\n",
    "      \"direccion\": \"Calle Principal 12\",\n",
    "      \"ciudad\": \"Liberia\",\n",
    "      \"telefono\": \"+506 6666-7777\"\n",
    "    },\n",
    "    {\n",
    "      \"nombre\": \"Diana Solano\",\n",
    "      \"direccion\": \"Barrio La Unión 78\",\n",
    "      \"ciudad\": \"Puntarenas\",\n",
    "      \"telefono\": \"+506 9999-8888\"\n",
    "    }\n",
    "  ]\n",
    "}"
   ]
  },
  {
   "cell_type": "markdown",
   "metadata": {},
   "source": [
    "##"
   ]
  },
  {
   "cell_type": "markdown",
   "metadata": {},
   "source": [
    "## Extraer información usando regex:\n",
    "### Utilice expresiones regulares para extraer la siguiente información de cada cliente:\n",
    "- Nombre completo: Juan Pérez, María Gómez, Pedro Ramírez\n",
    "- Dirección completa: Calle Mayor 123, Avenida Central 456, Barrio Escalante 789\n",
    "- Ciudad: San José, Alajuela, Heredia\n",
    "- Número de teléfono: +506 2222-3333, +506 8888-4444, +506 5555-6666\n",
    "\n",
    "### Imprima la información extraída para cada cliente en un formato claro y organizado.\n",
    "\n",
    "\n",
    "## Pistas:\n",
    "\n",
    "- Utilice la librería re de Python para trabajar con expresiones regulares.\n",
    "- Defina patrones de expresión regular específicos para cada tipo de información que desea extraer.\n",
    "- Recorra el archivo JSON y aplique los patrones regex a cada cliente.\n",
    "- Utilize métodos como findall() o search() para encontrar las coincidencias en el texto."
   ]
  },
  {
   "cell_type": "code",
   "execution_count": 40,
   "metadata": {},
   "outputs": [
    {
     "name": "stdout",
     "output_type": "stream",
     "text": [
      "{'clientes': [{'nombre': 'Juan Pérez', 'direccion': 'Calle Mayor 123', 'ciudad': 'San José', 'telefono': '+506 2222-3333'}, {'nombre': 'María Gómez', 'direccion': 'Avenida Central 456', 'ciudad': 'Alajuela', 'telefono': '+506 8888-4444'}, {'nombre': 'Pedro Ramírez', 'direccion': 'Barrio Escalante 789', 'ciudad': 'Heredia', 'telefono': '+506 5555-6666'}, {'nombre': 'Ana Castro', 'direccion': 'Avenida 10 Calle 5', 'ciudad': 'Cartago', 'telefono': '+506 3333-4444'}, {'nombre': 'Carlos Jiménez', 'direccion': 'Calle Principal 12', 'ciudad': 'Liberia', 'telefono': '+506 6666-7777'}, {'nombre': 'Diana Solano', 'direccion': 'Barrio La Unión 78', 'ciudad': 'Puntarenas', 'telefono': '+506 9999-8888'}]}\n"
     ]
    }
   ],
   "source": [
    "import json\n",
    "import re\n",
    "\n",
    "# Cargar el archivo JSON\n",
    "try:\n",
    "    with open(\"clientes.json\", \"r\", encoding=\"utf-8\") as archivo:\n",
    "        datos_clientes = json.load(archivo)\n",
    "except FileNotFoundError as e:\n",
    "    print(f\"Error: El archivo JSON 'clientes.json' no se encontró.\")\n",
    "except json.JSONDecodeError as e:\n",
    "    print(f\"Error al decodificar el archivo JSON: {e}\")\n",
    "except Exception as e:\n",
    "    print(f\"Error inesperado: {e}\")\n",
    "\n",
    "# Definir patrones de regex\n",
    "\n",
    "print(datos_clientes)"
   ]
  },
  {
   "cell_type": "code",
   "execution_count": 64,
   "metadata": {},
   "outputs": [
    {
     "name": "stdout",
     "output_type": "stream",
     "text": [
      "Nombre: Juan Pérez\n",
      "Dirección: Calle Mayor 123\n",
      "Teléfono: +506 2222-3333\n",
      "\n",
      "Nombre: María Gómez\n",
      "Dirección: Avenida Central 456\n",
      "Teléfono: +506 8888-4444\n",
      "\n",
      "Nombre: Pedro Ramírez\n",
      "Dirección: Barrio Escalante 789\n",
      "Teléfono: +506 5555-6666\n",
      "\n",
      "Nombre: Ana Castro\n",
      "Dirección: Avenida 10 Calle 5\n",
      "Teléfono: +506 3333-4444\n",
      "\n",
      "Nombre: Carlos Jiménez\n",
      "Dirección: Calle Principal 12\n",
      "Teléfono: +506 6666-7777\n",
      "\n",
      "Nombre: Diana Solano\n",
      "Dirección: Barrio La Unión 78\n",
      "Teléfono: +506 9999-8888\n",
      "\n"
     ]
    }
   ],
   "source": [
    "import re\n",
    "\n",
    "patron_cliente = r\"\"\"\n",
    "    nombre:\\s+ \n",
    "    (?P<nombre>[\\w\\s]+),\\s+ \n",
    "    direccion:\\s+ \n",
    "    (?P<direccion>[\\w\\s,]+),\\s+ \n",
    "    ciudad:\\s+ \n",
    "    (?P<ciudad>[\\w\\s]+),\\s+ \n",
    "    telefono:\\s+ \n",
    "    (?P<telefono>[\\+\\d\\s-]+) \n",
    "\"\"\"\n",
    "\n",
    "clientes = datos_clientes['clientes']\n",
    "\n",
    "patron_compilado = re.compile(patron_cliente, flags=re.VERBOSE)\n",
    "\n",
    "# Iteramos sobre la lista de clientes\n",
    "for cliente in clientes:\n",
    "    # Concatenamos los valores del cliente en una cadena para aplicar la regex\n",
    "    cliente_str = f\"nombre: {cliente['nombre']}, direccion: {cliente['direccion']}, ciudad: {cliente['ciudad']}, telefono: {cliente['telefono']}\"\n",
    "    \n",
    "    coincidencias = patron_compilado.findall(cliente_str)\n",
    "    \n",
    "    for coincidencia in coincidencias:\n",
    "        nombre, direccion, ciudad, telefono = coincidencia\n",
    "        print(f\"Nombre: {nombre}\\nDirección: {direccion}\\nTeléfono: {telefono}\\n\")"
   ]
  }
 ],
 "metadata": {
  "kernelspec": {
   "display_name": "Python 3",
   "language": "python",
   "name": "python3"
  },
  "language_info": {
   "codemirror_mode": {
    "name": "ipython",
    "version": 3
   },
   "file_extension": ".py",
   "mimetype": "text/x-python",
   "name": "python",
   "nbconvert_exporter": "python",
   "pygments_lexer": "ipython3",
   "version": "3.12.8"
  }
 },
 "nbformat": 4,
 "nbformat_minor": 2
}
