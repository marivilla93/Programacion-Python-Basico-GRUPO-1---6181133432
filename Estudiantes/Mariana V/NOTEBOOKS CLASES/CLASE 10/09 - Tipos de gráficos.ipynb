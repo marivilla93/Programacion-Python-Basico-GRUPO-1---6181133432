{
 "cells": [
  {
   "cell_type": "markdown",
   "id": "3d916d91",
   "metadata": {},
   "source": [
    "# Tipos de gráficos\n",
    "\n",
    "Esta última lección es una galería donde veremos diferentes tipos de gráficos. En esencia se utilizan igual que el gráfico lineal pero cada uno tiene sus peculiaridades. No entraremos en detalle, os dejaré los enlaces a la documentación de cada tipo por si queréis aprender más."
   ]
  },
  {
   "cell_type": "code",
   "execution_count": null,
   "id": "0f32e24e",
   "metadata": {},
   "outputs": [],
   "source": [
    "import numpy as np\n",
    "import matplotlib.pyplot as plt"
   ]
  },
  {
   "cell_type": "markdown",
   "id": "d235d1a6",
   "metadata": {},
   "source": [
    "## Gráfico lineal (plot)\n",
    "\n",
    "Es el que hemos utilizado durante todo el curso, no requieren indicar nada específico a la hora de crearlos.\n",
    "\n",
    "- [Documentación oficial](https://matplotlib.org/devdocs/api/_as_gen/matplotlib.pyplot.plot.html)"
   ]
  },
  {
   "cell_type": "code",
   "execution_count": null,
   "id": "bd9858d3",
   "metadata": {},
   "outputs": [],
   "source": [
    "# Gráfico lineal\n",
    "x = np.arange(1,11)\n",
    "y = np.random.randint(10,size=10)\n",
    "print(x)\n",
    "print(y)\n",
    "\n",
    "plt.plot(x,y)\n",
    "plt.show()"
   ]
  },
  {
   "cell_type": "markdown",
   "id": "0484a06a",
   "metadata": {},
   "source": [
    "## Gráfico de líneas verticales (stem)\n",
    "\n",
    "Este gráfico es muy útil para ilustrar valores positivos y negativos."
   ]
  },
  {
   "cell_type": "code",
   "execution_count": null,
   "id": "358c5568",
   "metadata": {},
   "outputs": [],
   "source": [
    "# Gráfico de líneas verticales\n",
    "plt.stem(x,y)\n",
    "plt.show()\n"
   ]
  },
  {
   "cell_type": "markdown",
   "id": "5e9c2af4",
   "metadata": {},
   "source": [
    "## Gráfico circular o de pastel (pie)\n",
    "\n",
    "El gráfico de \"quesitos\" como yo lo llamo es muy útil para representar porcentajes.\n",
    "\n",
    "- [Documentación oficial](https://matplotlib.org/devdocs/api/_as_gen/matplotlib.pyplot.pie.html)"
   ]
  },
  {
   "cell_type": "code",
   "execution_count": null,
   "id": "bf968054",
   "metadata": {},
   "outputs": [],
   "source": [
    "# Gráfico circular o de pastel\n",
    "\n",
    "'''Francia: 89 millones de visitas.\n",
    "España: 84 millones de visitas.\n",
    "Estados Unidos: 79 millones de visitas.\n",
    "China: 66 millones de visitas.\n",
    "Italia: 65 millones de turistas.\n",
    "Turquía: 51 millones de visitas.\n",
    "México: 45 millones de visitas.\n",
    "Tailandia: 40 millones del visitas.\n",
    "'''\n",
    "plt.rcParams[\"figure.figsize\"] = (6,5)\n",
    "turistas = [89,84,79,66,65,51,45,40]\n",
    "paises = ['Francia','España','US','China','Italia','Turquía','México','Tailandia']\n",
    "\n",
    "plt.title('TOP 8  DESTINOS TÚRISTICOS 2024')\n",
    "explote = [0,0.1,0,0,0,0,0.5,0]\n",
    "\n",
    "plt.pie(turistas, labels=paises,shadow=True,explode=explote,autopct='%1.1f%%')\n",
    "\n",
    "plt.tight_layout()\n",
    "\n",
    "\n"
   ]
  },
  {
   "cell_type": "markdown",
   "id": "f2482ebb",
   "metadata": {},
   "source": [
    "## Gráfico de cajas y bigotes (boxplot)\n",
    "\n",
    "Este tipo nos permite hacernos una idea de valores medios gracias a las cajas, mientras por otro lado los bigotes nos indican valores límitantes.\n",
    "\n",
    "- [Documentación oficial](https://matplotlib.org/devdocs/api/_as_gen/matplotlib.pyplot.boxplot.html)"
   ]
  },
  {
   "cell_type": "code",
   "execution_count": null,
   "id": "d6a94f0f",
   "metadata": {},
   "outputs": [],
   "source": [
    "# Gráfico de cajas y bigotes\n",
    "# https://es.wikipedia.org/wiki/Estatura\n",
    "plt.rcParams[\"figure.figsize\"] = (5,4)\n",
    "jan = np.random.uniform(160,170,100)\n",
    "ale = np.random.uniform(172,198,100)\n",
    "cr = np.random.uniform(158,185,100)\n",
    "\n",
    "\n",
    "\n",
    "plt.boxplot([jan,ale,cr],notch=True,patch_artist=True)\n",
    "plt.xticks([1,2,3],['Japón','Alemania','Costa Rica'])\n",
    "plt.ylabel('Estatura media (cm)')\n",
    "plt.title('Escuesta 2024 Esturas Nacionales vr Extranjeros')\n",
    "plt.show()"
   ]
  },
  {
   "cell_type": "markdown",
   "id": "86419f6c",
   "metadata": {},
   "source": [
    "## Gráfico de barras (bar)\n",
    "\n",
    "Este es el clásico gráfico donde las barras nos indican cantidades en el eje Y para los valores en el eje X.\n",
    "\n",
    "- [Documentación oficial](https://matplotlib.org/devdocs/api/_as_gen/matplotlib.pyplot.bar.html)"
   ]
  },
  {
   "cell_type": "code",
   "execution_count": null,
   "id": "dd8b4b33",
   "metadata": {
    "scrolled": true
   },
   "outputs": [],
   "source": [
    "# Gráfico de barras\n",
    "plt.rcParams[\"figure.figsize\"] = (5,4)\n",
    "fechas = ['25/06/2024', '27/06/2024', '28/06/2024', '29/06/2024', '30/06/2024']\n",
    "venta = [500.10, 510.00, 515.00, 508.50, 505.00]\n",
    "\n",
    "plt.bar(range(5),venta)\n",
    "plt.xticks(range(5),fechas,rotation=60)\n",
    "\n",
    "plt.ylim(min(venta)-1,max(venta)+1)\n",
    "plt.show()\n"
   ]
  },
  {
   "cell_type": "markdown",
   "id": "a14da6a7",
   "metadata": {},
   "source": [
    "## Gráfico de barras horizontales (barh)\n",
    "\n",
    "Es una variante del anterior con las columnas dispuestas horizontalmente, por lo que cambian los ejes de las etiquetas y límites:\n",
    "\n",
    "- [Documentación oficial](https://matplotlib.org/devdocs/api/_as_gen/matplotlib.pyplot.barh.html)"
   ]
  },
  {
   "cell_type": "code",
   "execution_count": null,
   "id": "fdc83c44",
   "metadata": {},
   "outputs": [],
   "source": [
    "# Gráfico de barras horizontales\n",
    "fechas = ['25/06/2022', '27/06/2022', '28/06/2022', '29/06/2022', '30/06/2022']\n",
    "compra = [500.10, 510.00, 515.00, 508.50, 505.00]\n"
   ]
  },
  {
   "cell_type": "markdown",
   "id": "02078b53",
   "metadata": {},
   "source": [
    "## Gráfico de escaleras (step)\n",
    "\n",
    "Otro gráfico muy simple que nos muestra las variaciones de forma continuada dibujando una escalera:\n",
    "\n",
    "- [Documentación oficial](https://matplotlib.org/devdocs/api/_as_gen/matplotlib.pyplot.step.html)"
   ]
  },
  {
   "cell_type": "code",
   "execution_count": null,
   "id": "2d99640e",
   "metadata": {},
   "outputs": [],
   "source": [
    "# Gráfico de escaleras\n",
    "x = np.arange(1, 11)\n",
    "y = np.random.randint(10, size=10)\n",
    "\n",
    "plt.step(x, y)\n",
    "plt.show()"
   ]
  },
  {
   "cell_type": "markdown",
   "id": "b52455d0",
   "metadata": {},
   "source": [
    "Matplotlib ofrece muchísimos tipos de gráficos, os sugiero explorar más ejemplos en la [galería oficial](https://matplotlib.org/stable/gallery/index.html)."
   ]
  },
  {
   "cell_type": "code",
   "execution_count": null,
   "id": "c402406b",
   "metadata": {},
   "outputs": [],
   "source": []
  }
 ],
 "metadata": {
  "kernelspec": {
   "display_name": "Python 3 (ipykernel)",
   "language": "python",
   "name": "python3"
  },
  "language_info": {
   "codemirror_mode": {
    "name": "ipython",
    "version": 3
   },
   "file_extension": ".py",
   "mimetype": "text/x-python",
   "name": "python",
   "nbconvert_exporter": "python",
   "pygments_lexer": "ipython3",
   "version": "3.12.2"
  }
 },
 "nbformat": 4,
 "nbformat_minor": 5
}
