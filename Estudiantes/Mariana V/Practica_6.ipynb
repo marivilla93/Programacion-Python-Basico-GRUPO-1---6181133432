{
 "cells": [
  {
   "cell_type": "markdown",
   "id": "3127ae9d",
   "metadata": {},
   "source": [
    "# CLASE 07 Creación de Arrays\n",
    "## Prof. Andrés Mena Abarca\n",
    "### Estudiante: Mariana Villalobos Vargas "
   ]
  },
  {
   "cell_type": "markdown",
   "id": "f9bb9792",
   "metadata": {},
   "source": []
  },
  {
   "cell_type": "markdown",
   "id": "4075b2ab",
   "metadata": {},
   "source": [
    "### Crear un array a partir de una lista"
   ]
  },
  {
   "cell_type": "code",
   "execution_count": null,
   "id": "98fafc10",
   "metadata": {},
   "outputs": [],
   "source": [
    "import numpy as np\n",
    "\n"
   ]
  },
  {
   "cell_type": "markdown",
   "id": "0e8e40b3",
   "metadata": {},
   "source": [
    "### Crear un array de ceros de tamaño 5x5"
   ]
  },
  {
   "cell_type": "code",
   "execution_count": null,
   "id": "043e0131",
   "metadata": {},
   "outputs": [],
   "source": [
    "#Código crear un array de ceros de tamaño 5x5\n",
    "\n"
   ]
  },
  {
   "cell_type": "markdown",
   "id": "a640f233",
   "metadata": {},
   "source": [
    "### Crear un array de unos de tamaño 3x3"
   ]
  },
  {
   "cell_type": "code",
   "execution_count": null,
   "id": "ac2b7096",
   "metadata": {},
   "outputs": [],
   "source": [
    "#Código crear un array de unos de tamaño 3x3\n"
   ]
  },
  {
   "cell_type": "markdown",
   "id": "5ff1ca1e",
   "metadata": {},
   "source": [
    "### Crear un array con valores espaciados uniformemente de 0 a 9"
   ]
  },
  {
   "cell_type": "code",
   "execution_count": null,
   "id": "60cefb4b",
   "metadata": {},
   "outputs": [],
   "source": [
    "#Código rear un array con valores espaciados uniformemente de 0 a 9\n"
   ]
  },
  {
   "cell_type": "markdown",
   "id": "af014afb",
   "metadata": {},
   "source": [
    "### #Crear un array con 6 valores espaciados linealmente entre 0 y 1\n"
   ]
  },
  {
   "cell_type": "code",
   "execution_count": null,
   "id": "5ba6f502",
   "metadata": {},
   "outputs": [],
   "source": [
    "#Código crear un array con 6 valores espaciados linealmente entre 0 y 1\n"
   ]
  },
  {
   "cell_type": "markdown",
   "id": "90ed91a1",
   "metadata": {},
   "source": [
    "# Operaciones Básicas"
   ]
  },
  {
   "cell_type": "markdown",
   "id": "b000074f",
   "metadata": {},
   "source": [
    "### Realizar una suma, resta, multiplicación y división entre dos arrays"
   ]
  },
  {
   "cell_type": "code",
   "execution_count": null,
   "id": "ff348071",
   "metadata": {},
   "outputs": [],
   "source": [
    "array_1 = np.array([5,4,2])\n",
    "array_2 = np.array([6,4,9])\n",
    "\n",
    "#Código realizar una suma, resta, multiplicación y división entre dos arrays\n",
    "\n",
    "# Salida\n",
    "'''\n",
    "print(\"La suma es: \",suma)\n",
    "print(\"La resta es: \",resta)\n",
    "print(\"La multiplicacion es: \",multiplicacion)\n",
    "print(\"La division es: \",division)\n",
    "'''"
   ]
  },
  {
   "cell_type": "code",
   "execution_count": null,
   "id": "a270ae97",
   "metadata": {},
   "outputs": [],
   "source": [
    "#Calcular el producto punto de dos arrays\n"
   ]
  },
  {
   "cell_type": "code",
   "execution_count": null,
   "id": "dddd8ba1",
   "metadata": {},
   "outputs": [],
   "source": [
    "#Transponer un array\n"
   ]
  },
  {
   "cell_type": "markdown",
   "id": "5e44ba57",
   "metadata": {},
   "source": [
    "# Operaciones Estadísticas"
   ]
  },
  {
   "cell_type": "code",
   "execution_count": null,
   "id": "7f3e6efd",
   "metadata": {},
   "outputs": [],
   "source": [
    "#Calcular la media, suma, valor mínimo y valor máximo de un array\n",
    "\n",
    "\n",
    "# Crear un array NumPy\n",
    "array_numeros = np.array([5, 2, 4, 1, 3])\n",
    "\n",
    "# Calcular la media\n",
    "\n",
    "\n",
    "# Calcular la suma\n",
    "\n",
    "\n",
    "# Calcular el valor mínimo\n",
    "\n",
    "\n",
    "# Calcular el valor máximo\n",
    "\n",
    "'''\n",
    "# Mostrar los resultados\n",
    "print(\"La media es:\", media)\n",
    "print(\"La suma es:\", suma)\n",
    "print(\"El valor mínimo es:\", valor_minimo)\n",
    "print(\"El valor máximo es:\", valor_maximo)\n",
    "'''\n"
   ]
  },
  {
   "cell_type": "code",
   "execution_count": null,
   "id": "f6264d86",
   "metadata": {},
   "outputs": [],
   "source": [
    "#Cambiar la forma de un array \"reshape\"\n",
    "\n",
    "\n",
    "# Crear un array original\n",
    "array_original = np.array([1, 2, 3, 4, 5, 6])\n",
    "\n",
    "# Nueva forma deseada (2 filas y 3 columnas)\n",
    "\n",
    "\n",
    "'''\n",
    "# Imprimir el array original y el reshapeado\n",
    "print(\"Array original:\", array_original)\n",
    "print(\"Array reshapeado:\", array_reshapeado)\n",
    "'''"
   ]
  },
  {
   "cell_type": "markdown",
   "id": "195c5f6d",
   "metadata": {},
   "source": [
    "# Álgebra Lineal"
   ]
  },
  {
   "cell_type": "markdown",
   "id": "b920534e",
   "metadata": {},
   "source": [
    "### Calcular el determinante de una matriz 2x2"
   ]
  },
  {
   "cell_type": "code",
   "execution_count": null,
   "id": "d01ce9f8",
   "metadata": {},
   "outputs": [],
   "source": [
    "nuevo_array = np.array([[1,2],[2,5]])\n",
    "\n",
    "#Código para calcular el determinante de una matriz 2x2\n",
    "\n",
    "#print(determinante)"
   ]
  },
  {
   "cell_type": "markdown",
   "id": "b1325b2b",
   "metadata": {},
   "source": [
    "### Calcular la matriz inversa de una matriz 3x3"
   ]
  },
  {
   "cell_type": "code",
   "execution_count": null,
   "id": "9782d614",
   "metadata": {},
   "outputs": [],
   "source": [
    "# Definir la matriz 3x3\n",
    "\n",
    "\n",
    "# Calcular la matriz inversa\n",
    "\n",
    "\n",
    "# Imprimir la matriz inversa\n",
    "\n"
   ]
  },
  {
   "cell_type": "markdown",
   "id": "98f0cfc8",
   "metadata": {},
   "source": [
    "### Calcular los valores propios y vectores propios de una matriz 4x4"
   ]
  },
  {
   "cell_type": "code",
   "execution_count": null,
   "id": "07211323",
   "metadata": {},
   "outputs": [],
   "source": [
    "\n",
    "# Definir la matriz 4x4\n",
    "matriz_4x4 = np.array([[1, 2, 3, 4], [5, 6, 7, 8], [9, 10, 11, 12], [13, 14, 15, 16]])\n",
    "\n",
    "# Calcular valores propios y vectores propios\n",
    "\n",
    "\n",
    "# Separar valores propios y vectores propios\n",
    " # Parte real de los valores propios complejos\n",
    "  # Parte real de los vectores propios complejos\n",
    "\n",
    "# Imprimir resultados\n",
    "'''\n",
    "print(\"Valores propios:\", autovalores)\n",
    "print(\"Vectores propios:\")\n",
    "for i in range(len(autovectores)):\n",
    "    print(f\"Vector propio {i+1}:\", autovectores[i])\n",
    "'''"
   ]
  },
  {
   "cell_type": "markdown",
   "id": "efd4320a",
   "metadata": {},
   "source": [
    "# Funciones Universales"
   ]
  },
  {
   "cell_type": "code",
   "execution_count": null,
   "id": "b6104243",
   "metadata": {},
   "outputs": [],
   "source": [
    "# Crear un array con ángulos\n",
    "array_angulos = np.array([0, np.pi/2, np.pi])\n",
    "\n",
    "# Calcular el seno de los ángulos\n",
    "\n",
    "\n",
    "# Calcular el coseno de los ángulos\n",
    "\n",
    "\n",
    "# Calcular la exponencial de los ángulos\n",
    "\n",
    "\n",
    "# Calcular el logaritmo natural de los ángulos\n",
    "\n",
    "\n"
   ]
  },
  {
   "cell_type": "code",
   "execution_count": null,
   "id": "eadbf298",
   "metadata": {},
   "outputs": [],
   "source": [
    "#Realizar indexación y slicing en un array 2D\n",
    "array_2d = np.array([[1, 2, 3], [4, 5, 6], [7, 8, 9]])\n",
    "\n",
    "\n",
    "# Obtener la primera fila del array\n",
    "\n",
    "\n",
    "# Obtener la última columna del array\n",
    "  # [3, 6, 9]\n",
    "\n",
    "# Obtener una submatriz que contiene la segunda fila y las dos primeras columnas\n",
    "  # [4, 5]\n",
    "\n",
    "# Imprimir los subconjuntos de datos extraídos\n"
   ]
  },
  {
   "cell_type": "markdown",
   "id": "38fb3e51",
   "metadata": {},
   "source": [
    "# Generación de Números Aleatorios"
   ]
  },
  {
   "cell_type": "code",
   "execution_count": null,
   "id": "4c9439b1",
   "metadata": {},
   "outputs": [],
   "source": [
    "#Generar un array de 10 números enteros aleatorios entre 1 y 100\n"
   ]
  },
  {
   "cell_type": "code",
   "execution_count": null,
   "id": "7b67e54f",
   "metadata": {},
   "outputs": [],
   "source": [
    "#Generar una matriz 2x3 con números aleatorios uniformemente distribuidos entre 0 y 1\n"
   ]
  },
  {
   "cell_type": "code",
   "execution_count": null,
   "id": "bc4519a1",
   "metadata": {},
   "outputs": [],
   "source": [
    "#Generar un array de 5 números aleatorios con distribución normal (media 0, desviación estándar 1)\n",
    "\n"
   ]
  }
 ],
 "metadata": {
  "kernelspec": {
   "display_name": "Python 3 (ipykernel)",
   "language": "python",
   "name": "python3"
  },
  "language_info": {
   "codemirror_mode": {
    "name": "ipython",
    "version": 3
   },
   "file_extension": ".py",
   "mimetype": "text/x-python",
   "name": "python",
   "nbconvert_exporter": "python",
   "pygments_lexer": "ipython3",
   "version": "3.12.2"
  }
 },
 "nbformat": 4,
 "nbformat_minor": 5
}
