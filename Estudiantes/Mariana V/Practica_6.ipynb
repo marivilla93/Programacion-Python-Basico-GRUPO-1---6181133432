{
 "cells": [
  {
   "cell_type": "markdown",
   "id": "3127ae9d",
   "metadata": {},
   "source": [
    "# CLASE 07 Creación de Arrays\n",
    "## Prof. Andrés Mena Abarca\n",
    "### Estudiante: Mariana Villalobos Vargas "
   ]
  },
  {
   "cell_type": "markdown",
   "id": "f9bb9792",
   "metadata": {},
   "source": []
  },
  {
   "cell_type": "markdown",
   "id": "4075b2ab",
   "metadata": {},
   "source": [
    "### Crear un array a partir de una lista"
   ]
  },
  {
   "cell_type": "code",
   "execution_count": 1,
   "id": "98fafc10",
   "metadata": {},
   "outputs": [],
   "source": [
    "import numpy as np\n",
    "\n"
   ]
  },
  {
   "cell_type": "markdown",
   "id": "0e8e40b3",
   "metadata": {},
   "source": [
    "### Crear un array de ceros de tamaño 5x5"
   ]
  },
  {
   "cell_type": "code",
   "execution_count": 3,
   "id": "043e0131",
   "metadata": {},
   "outputs": [
    {
     "name": "stdout",
     "output_type": "stream",
     "text": [
      "[[0. 0. 0. 0. 0.]\n",
      " [0. 0. 0. 0. 0.]\n",
      " [0. 0. 0. 0. 0.]\n",
      " [0. 0. 0. 0. 0.]\n",
      " [0. 0. 0. 0. 0.]]\n"
     ]
    }
   ],
   "source": [
    "array_ceros= np.zeros ((5,5))\n",
    "print (array_ceros)"
   ]
  },
  {
   "cell_type": "markdown",
   "id": "a640f233",
   "metadata": {},
   "source": [
    "### Crear un array de unos de tamaño 3x3"
   ]
  },
  {
   "cell_type": "code",
   "execution_count": null,
   "id": "ac2b7096",
   "metadata": {},
   "outputs": [
    {
     "name": "stdout",
     "output_type": "stream",
     "text": [
      "[[1. 1. 1.]\n",
      " [1. 1. 1.]]\n"
     ]
    }
   ],
   "source": [
    "array_unos = np.ones((2,3)) #Primer valor es \"x\" o filas y el segundo es \"y\" o columnas.\n",
    "print (array_unos)"
   ]
  },
  {
   "cell_type": "markdown",
   "id": "5ff1ca1e",
   "metadata": {},
   "source": [
    "### Crear un array con valores espaciados uniformemente de 0 a 9"
   ]
  },
  {
   "cell_type": "code",
   "execution_count": 14,
   "id": "60cefb4b",
   "metadata": {},
   "outputs": [
    {
     "name": "stdout",
     "output_type": "stream",
     "text": [
      "[0. 1. 2. 3. 4. 5. 6. 7. 8. 9.]\n"
     ]
    }
   ],
   "source": [
    "#Código rear un array con valores espaciados uniformemente de 0 a 9\n",
    "array_lineal= np.linspace(0,9,10) #Datos del 0 (inicio) al 9 (límite) y cuántos valores quiero espaciar (10).\n",
    "print(array_lineal)"
   ]
  },
  {
   "cell_type": "markdown",
   "id": "af014afb",
   "metadata": {},
   "source": [
    "### #Crear un array con 6 valores espaciados linealmente entre 0 y 1\n"
   ]
  },
  {
   "cell_type": "code",
   "execution_count": null,
   "id": "5ba6f502",
   "metadata": {},
   "outputs": [
    {
     "name": "stdout",
     "output_type": "stream",
     "text": [
      "[0.  0.2 0.4 0.6 0.8 1. ]\n"
     ]
    }
   ],
   "source": [
    "#Código crear un array con 6 valores espaciados linealmente entre 0 y 1\n",
    "array_reto= np.linspace(0,1,6) #Datos del 0 (inicio) al 1 (límite) y cuántos valores quiero espaciar (6).\n",
    "print(array_reto)"
   ]
  },
  {
   "cell_type": "markdown",
   "id": "6b110e03",
   "metadata": {},
   "source": []
  },
  {
   "cell_type": "markdown",
   "id": "90ed91a1",
   "metadata": {},
   "source": [
    "# Operaciones Básicas"
   ]
  },
  {
   "cell_type": "markdown",
   "id": "b000074f",
   "metadata": {},
   "source": [
    "### Realizar una suma, resta, multiplicación y división entre dos arrays"
   ]
  },
  {
   "cell_type": "code",
   "execution_count": null,
   "id": "ff348071",
   "metadata": {},
   "outputs": [
    {
     "name": "stdout",
     "output_type": "stream",
     "text": [
      "La suma es:  [56 44 29]\n",
      "La resta es:  [44 36 11]\n",
      "La multiplicacion es:  [300 160 180]\n",
      "La division es:  [ 8.33333333 10.          2.22222222]\n"
     ]
    }
   ],
   "source": [
    "array_salario = np.array([50,40,20]) \n",
    "array_propinas = np.array([6,4,9])\n",
    "\n",
    "#Código realizar una suma, resta, multiplicación y división entre dos arrays\n",
    "\n",
    "suma = array_salario + array_propinas\n",
    "resta = array_salario - array_propinas\n",
    "division = array_salario / array_propinas\n",
    "multiplicacion = array_salario * array_propinas\n",
    "\n",
    "# Salida\n",
    "\n",
    "print(\"La suma es: \",suma) #Tienen que tener las mismas dimensiones.\n",
    "print(\"La resta es: \",resta)\n",
    "print(\"La multiplicacion es: \",multiplicacion)\n",
    "print(\"La division es: \",division)"
   ]
  },
  {
   "cell_type": "code",
   "execution_count": null,
   "id": "a270ae97",
   "metadata": {},
   "outputs": [],
   "source": [
    "#Calcular el producto punto de dos arrays\n"
   ]
  },
  {
   "cell_type": "code",
   "execution_count": null,
   "id": "dddd8ba1",
   "metadata": {},
   "outputs": [],
   "source": [
    "#Transponer un array\n"
   ]
  },
  {
   "cell_type": "markdown",
   "id": "5e44ba57",
   "metadata": {},
   "source": [
    "# Operaciones Estadísticas"
   ]
  },
  {
   "cell_type": "code",
   "execution_count": null,
   "id": "7f3e6efd",
   "metadata": {},
   "outputs": [
    {
     "name": "stdout",
     "output_type": "stream",
     "text": [
      "La media aritmética es: 3.0\n",
      "La suma de los números es 15\n",
      "El valor mínimo de los números es 1\n",
      "El valor mínimo de los números es 5\n",
      "El valor mínimo de los números es 5\n"
     ]
    },
    {
     "data": {
      "text/plain": [
       "'\\n# Mostrar los resultados\\nprint(\"La media es:\", media)\\nprint(\"La suma es:\", suma)\\nprint(\"El valor mínimo es:\", valor_minimo)\\nprint(\"El valor máximo es:\", valor_maximo)\\n'"
      ]
     },
     "execution_count": 34,
     "metadata": {},
     "output_type": "execute_result"
    }
   ],
   "source": [
    "#Calcular la media, suma, valor mínimo y valor máximo de un array\n",
    "\n",
    "\n",
    "# Crear un array NumPy\n",
    "array_numeros = np.array([5, 2, 4, 1, 3])\n",
    "\n",
    "# Calcular la media\n",
    "media= np.mean(array_numeros)\n",
    "print (f'La media aritmética es: {media}')\n",
    "# Calcular la suma\n",
    "suma_calc = np.sum(array_numeros)\n",
    "print(f'La suma de los números es {suma_calc}')\n",
    "\n",
    "# Calcular el valor mínimo\n",
    "valor_min= np.min(array_numeros)\n",
    "print(f'El valor mínimo de los números es {valor_min}')\n",
    "\n",
    "# Calcular el valor máximo\n",
    "valor_max= np.max(array_numeros)\n",
    "print(f'El valor mínimo de los números es {valor_max}')\n"
   ]
  },
  {
   "cell_type": "code",
   "execution_count": null,
   "id": "f6264d86",
   "metadata": {},
   "outputs": [
    {
     "name": "stdout",
     "output_type": "stream",
     "text": [
      "[1 2 3 4 5 6]\n",
      "[[1 2 3]\n",
      " [4 5 6]]\n"
     ]
    },
    {
     "data": {
      "text/plain": [
       "'\\n# Imprimir el array original y el reshapeado\\nprint(\"Array original:\", array_original)\\nprint(\"Array reshapeado:\", array_reshapeado)\\n'"
      ]
     },
     "execution_count": 36,
     "metadata": {},
     "output_type": "execute_result"
    }
   ],
   "source": [
    "#Cambiar la forma de un array \"reshape\"\n",
    "\n",
    "\n",
    "# Crear un array original\n",
    "array_original = np.array([1, 2, 3, 4, 5, 6])\n",
    "print(array_original)\n",
    "\n",
    "# Nueva forma deseada (2 filas y 3 columnas)\n",
    "array_reshapeado = array_original.reshape(2,3) #Tiene que calzar la cantidad de datos con la disposición.\n",
    "print (array_reshapeado)\n"
   ]
  },
  {
   "cell_type": "markdown",
   "id": "195c5f6d",
   "metadata": {},
   "source": [
    "# Álgebra Lineal"
   ]
  },
  {
   "cell_type": "markdown",
   "id": "b920534e",
   "metadata": {},
   "source": [
    "### Calcular el determinante de una matriz 2x2"
   ]
  },
  {
   "cell_type": "code",
   "execution_count": null,
   "id": "d01ce9f8",
   "metadata": {},
   "outputs": [],
   "source": [
    "nuevo_array = np.array([[1,2],[2,5]])\n",
    "\n",
    "#Código para calcular el determinante de una matriz 2x2\n",
    "\n",
    "#print(determinante)"
   ]
  },
  {
   "cell_type": "markdown",
   "id": "b1325b2b",
   "metadata": {},
   "source": [
    "### Calcular la matriz inversa de una matriz 3x3"
   ]
  },
  {
   "cell_type": "code",
   "execution_count": null,
   "id": "9782d614",
   "metadata": {},
   "outputs": [],
   "source": [
    "# Definir la matriz 3x3\n",
    "\n",
    "\n",
    "# Calcular la matriz inversa\n",
    "\n",
    "\n",
    "# Imprimir la matriz inversa\n",
    "\n"
   ]
  },
  {
   "cell_type": "markdown",
   "id": "98f0cfc8",
   "metadata": {},
   "source": [
    "### Calcular los valores propios y vectores propios de una matriz 4x4"
   ]
  },
  {
   "cell_type": "code",
   "execution_count": null,
   "id": "07211323",
   "metadata": {},
   "outputs": [],
   "source": [
    "\n",
    "# Definir la matriz 4x4\n",
    "matriz_4x4 = np.array([[1, 2, 3, 4], [5, 6, 7, 8], [9, 10, 11, 12], [13, 14, 15, 16]])\n",
    "\n",
    "# Calcular valores propios y vectores propios\n",
    "\n",
    "\n",
    "# Separar valores propios y vectores propios\n",
    " # Parte real de los valores propios complejos\n",
    "  # Parte real de los vectores propios complejos\n",
    "\n",
    "# Imprimir resultados\n",
    "'''\n",
    "print(\"Valores propios:\", autovalores)\n",
    "print(\"Vectores propios:\")\n",
    "for i in range(len(autovectores)):\n",
    "    print(f\"Vector propio {i+1}:\", autovectores[i])\n",
    "'''"
   ]
  },
  {
   "cell_type": "markdown",
   "id": "efd4320a",
   "metadata": {},
   "source": [
    "# Funciones Universales"
   ]
  },
  {
   "cell_type": "code",
   "execution_count": null,
   "id": "b6104243",
   "metadata": {},
   "outputs": [],
   "source": [
    "# Crear un array con ángulos\n",
    "array_angulos = np.array([0, np.pi/2, np.pi])\n",
    "\n",
    "# Calcular el seno de los ángulos\n",
    "\n",
    "\n",
    "# Calcular el coseno de los ángulos\n",
    "\n",
    "\n",
    "# Calcular la exponencial de los ángulos\n",
    "\n",
    "\n",
    "# Calcular el logaritmo natural de los ángulos\n",
    "\n",
    "\n"
   ]
  },
  {
   "cell_type": "code",
   "execution_count": null,
   "id": "eadbf298",
   "metadata": {},
   "outputs": [],
   "source": [
    "#Realizar indexación y slicing en un array 2D\n",
    "array_2d = np.array([[1, 2, 3], [4, 5, 6], [7, 8, 9]])\n",
    "\n",
    "\n",
    "# Obtener la primera fila del array\n",
    "\n",
    "\n",
    "# Obtener la última columna del array\n",
    "  # [3, 6, 9]\n",
    "\n",
    "# Obtener una submatriz que contiene la segunda fila y las dos primeras columnas\n",
    "  # [4, 5]\n",
    "\n",
    "# Imprimir los subconjuntos de datos extraídos\n"
   ]
  },
  {
   "cell_type": "markdown",
   "id": "38fb3e51",
   "metadata": {},
   "source": [
    "# Generación de Números Aleatorios"
   ]
  },
  {
   "cell_type": "code",
   "execution_count": null,
   "id": "4c9439b1",
   "metadata": {},
   "outputs": [],
   "source": [
    "#Generar un array de 10 números enteros aleatorios entre 1 y 100\n"
   ]
  },
  {
   "cell_type": "code",
   "execution_count": null,
   "id": "7b67e54f",
   "metadata": {},
   "outputs": [],
   "source": [
    "#Generar una matriz 2x3 con números aleatorios uniformemente distribuidos entre 0 y 1\n"
   ]
  },
  {
   "cell_type": "code",
   "execution_count": null,
   "id": "bc4519a1",
   "metadata": {},
   "outputs": [],
   "source": [
    "#Generar un array de 5 números aleatorios con distribución normal (media 0, desviación estándar 1)\n",
    "\n"
   ]
  },
  {
   "cell_type": "markdown",
   "id": "9db25987",
   "metadata": {},
   "source": [
    "## Ejercicios reales prácticos\n"
   ]
  },
  {
   "cell_type": "code",
   "execution_count": 39,
   "id": "9a8adb85",
   "metadata": {},
   "outputs": [
    {
     "name": "stdout",
     "output_type": "stream",
     "text": [
      "La similitud con Avatar es de 89\n",
      "La similitud con Brave Heart es 79\n",
      "Recomendamos ver Avatar.\n"
     ]
    }
   ],
   "source": [
    "mariana = np.array([7,9,2]) # Acción, Comedia, Drama\n",
    "avatar = np.array ([10,1,5]) #Más acción, menos comedia.\n",
    "brave_heart = np.array ([8, 1, 7]) #Más acción, menos comedia\n",
    "\n",
    "#Calcular la similitud de cada película con los gustos de Mariana.\n",
    "\n",
    "similitud_p1= np.dot(mariana,avatar) #Producto por punto\n",
    "similitud_p2= np.dot(mariana,brave_heart) \n",
    "\n",
    "print(f'La similitud con Avatar es de {similitud_p1}')\n",
    "print (f'La similitud con Brave Heart es {similitud_p2}')\n",
    "\n",
    "if similitud_p1 > similitud_p2:\n",
    "    print (\"Recomendamos ver Avatar.\")\n",
    "else:\n",
    "    print (\"Recomendamos Brave Heart\")"
   ]
  },
  {
   "cell_type": "markdown",
   "id": "dce3c674",
   "metadata": {},
   "source": [
    "## Caso Estudio Relación"
   ]
  },
  {
   "cell_type": "code",
   "execution_count": 47,
   "id": "7984db27",
   "metadata": {},
   "outputs": [
    {
     "name": "stdout",
     "output_type": "stream",
     "text": [
      "El coeficiente de correlación entre el tipo de cambio y el ipc es de 0.32\n"
     ]
    }
   ],
   "source": [
    "import numpy as np\n",
    "#Datos Tipo cambio dólar (últimos 10 meses) / Índice precio al consumidor, métrica mensual (últimos 10 meses)\n",
    "tipo_cambio = np.array([506.96, 505.00, 504.27, 505.52, 506.23, 506.23, 506.23, 506.58, 506.87, 507.25])\n",
    "ipc= np.array([109.46, 109.55, 109.71, 109.57, 109.70,109.33, 108.85,109.36, 110.39, 110.79])\n",
    "\n",
    "# Calcular coeficiente de correlación\n",
    "\n",
    "correlacion= np.corrcoef(tipo_cambio, ipc)[0,1]\n",
    "\n",
    "print (f'El coeficiente de correlación entre el tipo de cambio y el ipc es de {correlacion:.2f}')\n"
   ]
  },
  {
   "cell_type": "markdown",
   "id": "0b25f3e8",
   "metadata": {},
   "source": [
    "## Caso #3. Estudio de Horas vs Notas"
   ]
  },
  {
   "cell_type": "code",
   "execution_count": 71,
   "id": "d4e21944",
   "metadata": {},
   "outputs": [
    {
     "name": "stdout",
     "output_type": "stream",
     "text": [
      "[5 5 3 4 5 3 3 3 4]\n",
      "El incremento por cada hora de estudio es 3.89\n",
      "La nota máxima por obtener con 12 horas de estudio sería 93\n"
     ]
    }
   ],
   "source": [
    "import numpy as np\n",
    "# Datos: Horas de estudio dedicadas y Notas de examen obtenidas.\n",
    "horas_est= np.array([1, 2, 3, 4, 5, 6, 7, 8, 9, 10])\n",
    "notas_obt= np.array([50, 55, 60, 63, 67, 72, 75, 78, 81, 85])\n",
    "\n",
    "#Cálculos crecimiento del promedio del puntaje por hora de estudio.\n",
    "\n",
    "dif_notas= np.diff(notas_obt) #Diferencias entre notas consecutivas.\n",
    "print (dif_notas)\n",
    "\n",
    "promedio_incremento= np.mean(dif_notas)\n",
    "print (f'El incremento por cada hora de estudio es {promedio_incremento:.2f}')\n",
    "\n",
    "# Estimación de puntaje si estudio 12 horas:\n",
    "horas_estudio=12\n",
    "nota_calcu= (horas_estudio - horas_est[-1]) * promedio_incremento + notas_obt[-1]\n",
    "print (f'La nota máxima por obtener con {horas_estudio} horas de estudio sería {nota_calcu:.0f}')"
   ]
  }
 ],
 "metadata": {
  "kernelspec": {
   "display_name": "Python 3",
   "language": "python",
   "name": "python3"
  },
  "language_info": {
   "codemirror_mode": {
    "name": "ipython",
    "version": 3
   },
   "file_extension": ".py",
   "mimetype": "text/x-python",
   "name": "python",
   "nbconvert_exporter": "python",
   "pygments_lexer": "ipython3",
   "version": "3.12.8"
  }
 },
 "nbformat": 4,
 "nbformat_minor": 5
}
